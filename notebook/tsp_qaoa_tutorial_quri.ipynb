{
 "cells": [
  {
   "cell_type": "markdown",
   "metadata": {},
   "source": [
    "# Tranvelling Salesman Problem with Quri-parts\n",
    "## Write TSP mathematical model with jijmodeling\n",
    "Usually, we need several steps to solve a mathematical optimization problem with a quantum algorithm such as QAOA or VQE.\n",
    "The steps are\n",
    "\n",
    "1. describe the mathematical model\n",
    "2. transform the mathematical model into QUBO form\n",
    "3. transform the QUBO form into the Ising form\n",
    "In this section, we will look at these steps specifically using the TSP.\n",
    "\n",
    "First, let us describe the mathematical model of the TSP.\n",
    "$$\n",
    "\\begin{aligned}\n",
    "\\min_x \\sum_{i, j} &d_{i,j} \\sum_t x_{i,t} x_{j, (t+1) \\mod n}\\\\\n",
    "\\mathrm{s.t.}~&\\sum_i x_{i, t} = 1,~\\forall t\\\\\n",
    "&\\sum_t x_{i, t} = 1, ~\\forall i\\\\\n",
    "&x_{i, t} \\in \\{0, 1\\}\n",
    "\\end{aligned}\n",
    "$$\n",
    "where $d_{i,j}$ is distance between city $i$ and city $j$.\n",
    "A detailed description of the mathematical model is omitted, but the important point here is that merely describing the mathematical model is not a form that can be handled by quantum algorithms.\n",
    "\n",
    "Next, the mathematical model needs to be converted to Quadratic Unconstraint Binary Optimisation (QUBO) format.\n",
    "A typical conversion method is the Penalty method. This is a method for transforming a mathematical model into the following form.\n",
    "$$\n",
    "\\begin{aligned}\n",
    "\\min_x \\sum_{i, j} &d_{i,j} \\sum_t x_{i,t} x_{j, (t+1) \\mod n} + \\sum_t \\mu_t \\left(\\sum_i x_{i, t} - 1\\right)^2 + \\sum_i \\lambda_i \\left(\\sum_t x_{i, t} - 1 \\right)^2\\\\\n",
    "\\end{aligned}\n",
    "$$\n",
    "\n",
    "Finally, this QUBO form needs to be converted to Ising form.\n",
    "In other words, it is necessary to convert the QUBO into the Ising model by converting the binary variables into spin variables as $x_i = \\frac{1}{2}(1 - z_i)$.\n",
    "Here, the specific calculations are too cumbersome to write down, but formally, the conversion is as follows\n",
    "$$\n",
    "\\begin{aligned}\n",
    "\\sum_{i,j} Q_{i,j}x_i,x_j \\to \\sum_{i,j}J_{i,j}z_iz_j + \\sum_ih_i z_i \n",
    "\\end{aligned}\n",
    "$$\n",
    "Now, as can be seen from the above, it is quite tedious just to convert a mathematical model. The most of the researcher would like to build their own algorithm, but building the Hamiltonian.\n",
    "\n",
    "Therefore, `jijmodeling-transpiler-quantum` is a tool that automatically performs the tediousness of the above conversion.\n",
    "\n",
    "Let's see how to use it concretely below."
   ]
  },
  {
   "cell_type": "code",
   "execution_count": 1,
   "metadata": {},
   "outputs": [],
   "source": [
    "from __future__ import annotations\n",
    "import jijmodeling as jm\n",
    "import jijmodeling_transpiler as jmt\n",
    "import jijmodeling_transpiler_quantum.quri_parts as jq_qu\n",
    "\n",
    "from quri_parts.qulacs.estimator import (\n",
    "    create_qulacs_vector_parametric_estimator,\n",
    ")\n",
    "from quri_parts.qulacs.sampler import create_qulacs_vector_sampler\n",
    "from quri_parts.circuit import (\n",
    "    LinearMappedUnboundParametricQuantumCircuit,\n",
    "    Parameter,\n",
    ")\n",
    "from quri_parts.core.state import ParametricCircuitQuantumState\n",
    "from quri_parts.core.operator import Operator, pauli_label\n",
    "\n",
    "from scipy.optimize import minimize, OptimizeResult\n",
    "\n",
    "import numpy as np\n",
    "import matplotlib.pyplot as plt"
   ]
  },
  {
   "cell_type": "markdown",
   "metadata": {},
   "source": [
    "First, the mathematical model is described using JijModeling.\n",
    "\n",
    "Here, the variables used in the mathematical model are defined, and the objective function and constraints are described using these variables."
   ]
  },
  {
   "cell_type": "code",
   "execution_count": 23,
   "metadata": {},
   "outputs": [],
   "source": [
    "def tsp():\n",
    "\n",
    "    # define variables\n",
    "    d = jm.Placeholder(\"d\", ndim=2)\n",
    "    N = d.len_at(0, latex=\"N\")\n",
    "    i = jm.Element(\"i\", belong_to=(0, N))  # city index\n",
    "    j = jm.Element(\"j\", belong_to=(0, N))  # city index\n",
    "    t = jm.Element(\"t\", belong_to=(0, N))  # time index or step index\n",
    "    x = jm.BinaryVar(\"x\", shape=(N, N))\n",
    "\n",
    "    # set problem\n",
    "    problem = jm.Problem(\"TSP\")\n",
    "    problem += jm.sum([i, j], d[i, j] * jm.sum(t, x[i, t] * x[j, (t + 1) % N]))\n",
    "    problem += jm.Constraint(\"one-city\", jm.sum(i, x[i, t]) == 1, forall=t)\n",
    "    problem += jm.Constraint(\"one-time\", jm.sum(t, x[i, t]) == 1, forall=i)\n",
    "    problem\n",
    "    return problem\n",
    "\n",
    "\n",
    "def plot_instance(x_pos: np.ndarray, y_pos: np.ndarray):\n",
    "    plt.plot(x_pos, y_pos, \"o\", color=\"blue\")\n",
    "    plt.show()"
   ]
  },
  {
   "cell_type": "code",
   "execution_count": 24,
   "metadata": {},
   "outputs": [
    {
     "data": {
      "text/latex": [
       "$$\\begin{array}{cccc}\\text{Problem:} & \\text{TSP} & & \\\\& & \\min \\quad \\displaystyle \\sum_{i = 0}^{N - 1} \\sum_{j = 0}^{N - 1} d_{i, j} \\cdot \\sum_{t = 0}^{N - 1} x_{i, t} \\cdot x_{j, \\left(t + 1\\right) \\bmod N} & \\\\\\text{{s.t.}} & & & \\\\ & \\text{one-city} & \\displaystyle \\sum_{i = 0}^{N - 1} x_{i, t} = 1 & \\forall t \\in \\left\\{0,\\ldots,N - 1\\right\\} \\\\ & \\text{one-time} & \\displaystyle \\sum_{t = 0}^{N - 1} x_{i, t} = 1 & \\forall i \\in \\left\\{0,\\ldots,N - 1\\right\\} \\\\\\text{{where}} & & & \\\\& x & 2\\text{-dim binary variable}\\\\\\end{array}$$"
      ],
      "text/plain": [
       "<jijmodeling.Problem at 0xaaab19e84230>"
      ]
     },
     "execution_count": 24,
     "metadata": {},
     "output_type": "execute_result"
    }
   ],
   "source": [
    "problem = tsp()\n",
    "problem"
   ]
  },
  {
   "cell_type": "markdown",
   "metadata": {},
   "source": [
    "JijModeling allows you to check the mathematical model in Tex format, as described above, and to check whether the mathematical model you have programmed matches the mathematical model you have written at hand."
   ]
  },
  {
   "cell_type": "code",
   "execution_count": 25,
   "metadata": {},
   "outputs": [],
   "source": [
    "def generate_random_instance(n):\n",
    "    x_pos = np.random.rand(n)\n",
    "    y_pos = np.random.rand(n)\n",
    "    XX, XX_T = np.meshgrid(x_pos, x_pos)\n",
    "    YY, YY_T = np.meshgrid(y_pos, y_pos)\n",
    "    distance = np.sqrt((XX - XX_T) ** 2 + (YY - YY_T) ** 2)\n",
    "    return x_pos, y_pos, distance"
   ]
  },
  {
   "cell_type": "code",
   "execution_count": 86,
   "metadata": {},
   "outputs": [],
   "source": [
    "x_pos, y_pos, distance = generate_random_instance(4)"
   ]
  },
  {
   "cell_type": "code",
   "execution_count": 87,
   "metadata": {},
   "outputs": [
    {
     "data": {
      "image/png": "[encoded data removed]",
      "text/plain": [
       "<Figure size 640x480 with 1 Axes>"
      ]
     },
     "metadata": {},
     "output_type": "display_data"
    }
   ],
   "source": [
    "plot_instance(x_pos, y_pos)"
   ]
  },
  {
   "cell_type": "markdown",
   "metadata": {},
   "source": [
    "## Generate Quri-parts Hamiltonian with jijmodeling-transpiler-quantum"
   ]
  },
  {
   "cell_type": "code",
   "execution_count": 88,
   "metadata": {},
   "outputs": [],
   "source": [
    "compiled_instance = jmt.core.compile_model(tsp(), {\"d\": distance})"
   ]
  },
  {
   "cell_type": "markdown",
   "metadata": {},
   "source": [
    "Next, set up information such as how QUBOs are to be converted in order to create QAOA Ansatz.\n",
    "For example, how the mathematical model is to be converted to QUBO can also be set. The Penalty method or the Augment Lagrangian method as described above can also be used for conversion.\n",
    "\n",
    "Augumented Lagrangian Method : Adding Linear and Quadratic term to Objective function\n",
    "$$\n",
    "\\begin{aligned}\n",
    "\\min_x \\sum_{i, j} &d_{i,j} \\sum_t x_{i,t} x_{j, (t+1) \\mod n} + \\sum_t \\xi_t \\left(\\sum_i x_{i, t} - 1\\right) + \\sum_t \\mu_t \\left(\\sum_i x_{i, t} - 1\\right)^2 + \\sum_i \\zeta_i \\left(\\sum_t x_{i, t} - 1 \\right) +  \\sum_i \\lambda_i \\left(\\sum_t x_{i, t} - 1 \\right)^2\\\\\n",
    "\\end{aligned}\n",
    "$$"
   ]
  },
  {
   "cell_type": "code",
   "execution_count": 89,
   "metadata": {},
   "outputs": [],
   "source": [
    "qaoa_builder = jq_qu.transpile_to_qaoa_ansatz(compiled_instance, relax_method = jmt.core.pubo.RelaxationMethod.SquaredPenalty)\n",
    "\n",
    "# You can also use Augumented Lagrangian method to build QUBO\n",
    "# qaoa_builder = transpile_to_qaoa_ansatz(compiled_instance, relax_method = jmt.core.pubo.RelaxationMethod.AugmentedLagrangian)"
   ]
  },
  {
   "cell_type": "code",
   "execution_count": 57,
   "metadata": {},
   "outputs": [],
   "source": [
    "ising_operator, constant= qaoa_builder.get_hamiltonian(multipliers = {'one-city':1,'one-time':1})"
   ]
  },
  {
   "cell_type": "markdown",
   "metadata": {},
   "source": [
    "Finally, `get_qaoa_ansatz` can be used to obtain the parametrized circuit, objective function, etc. of the QAOA.\n",
    "At this time, the number of layers of QAOA and the coefficients of the above Penalty method can also be set in detail. (Default value is 1)."
   ]
  },
  {
   "cell_type": "code",
   "execution_count": 93,
   "metadata": {},
   "outputs": [],
   "source": [
    "qaoa_ansatz, hamiltonian, constant = qaoa_builder.get_qaoa_ansatz(p=1,multipliers = {'one-city':1,'one-time':1})"
   ]
  },
  {
   "cell_type": "markdown",
   "metadata": {},
   "source": [
    "Now that the qiskit QAOA circuit has been obtained, programming can be carried out using quri-parts from this point onwards."
   ]
  },
  {
   "cell_type": "code",
   "execution_count": 94,
   "metadata": {},
   "outputs": [
    {
     "name": "stdout",
     "output_type": "stream",
     "text": [
      "Qubit count: 16\n",
      "Circuit depth: 23\n",
      "Parameter count: 2\n"
     ]
    }
   ],
   "source": [
    "print(\"Qubit count:\", qaoa_ansatz.qubit_count)\n",
    "print(\"Circuit depth:\", qaoa_ansatz.depth)\n",
    "\n",
    "# A parametric circuit object does not have .gates property.\n",
    "\n",
    "print(\"Parameter count:\", qaoa_ansatz.parameter_count)\n"
   ]
  },
  {
   "cell_type": "markdown",
   "metadata": {},
   "source": [
    "Now that the qiskit QAOA circuit has been obtained, programming can be carried out using qiskit from this point onwards."
   ]
  },
  {
   "cell_type": "markdown",
   "metadata": {},
   "source": [
    "# Run QAOA"
   ]
  },
  {
   "cell_type": "code",
   "execution_count": 95,
   "metadata": {},
   "outputs": [],
   "source": [
    "def run_qaoa_with_log(\n",
    "    ansatz: LinearMappedUnboundParametricQuantumCircuit,\n",
    "    hamiltonian: Operator,\n",
    "    method: str | callable,\n",
    ") -> tuple[OptimizeResult, list[float]]:\n",
    "    def _cost_func(parameters, ansatz, hamiltonian, estimator):\n",
    "        parametric_state = ParametricCircuitQuantumState(\n",
    "            ansatz.qubit_count, ansatz\n",
    "        )\n",
    "        estimate = estimator(hamiltonian, parametric_state, parameters)\n",
    "        return estimate.value.real\n",
    "\n",
    "    initial_params = np.array([1.0] * ansatz.parameter_count)\n",
    "\n",
    "    estimator = create_qulacs_vector_parametric_estimator()\n",
    "    optimization_history: list[float] = []\n",
    "\n",
    "    result = minimize(\n",
    "        _cost_func,\n",
    "        initial_params,\n",
    "        args=(ansatz, hamiltonian, estimator),\n",
    "        method=method,\n",
    "        callback=lambda x: optimization_history.append(\n",
    "            _cost_func(x, ansatz, hamiltonian, estimator)\n",
    "        ),\n",
    "    )\n",
    "\n",
    "    return result, optimization_history"
   ]
  },
  {
   "cell_type": "code",
   "execution_count": 96,
   "metadata": {},
   "outputs": [],
   "source": [
    "result,optimization_history = run_qaoa_with_log(qaoa_ansatz, hamiltonian, \"COBYLA\")"
   ]
  },
  {
   "cell_type": "code",
   "execution_count": 97,
   "metadata": {},
   "outputs": [
    {
     "data": {
      "text/plain": [
       "Text(0, 0.5, 'cost function')"
      ]
     },
     "execution_count": 97,
     "metadata": {},
     "output_type": "execute_result"
    },
    {
     "data": {
      "image/png": "[encoded data removed]",
      "text/plain": [
       "<Figure size 640x480 with 1 Axes>"
      ]
     },
     "metadata": {},
     "output_type": "display_data"
    }
   ],
   "source": [
    "plt.plot(optimization_history)\n",
    "plt.xlabel('iteration')\n",
    "plt.ylabel('cost function')"
   ]
  },
  {
   "cell_type": "markdown",
   "metadata": {},
   "source": [
    "# Decode the result\n",
    "For sampling results on Hamiltonians obtained using `jijmodeling-transpiler-quantum`, the decode function can be used to convert them into a more readable and analyseable form."
   ]
  },
  {
   "cell_type": "code",
   "execution_count": 98,
   "metadata": {},
   "outputs": [],
   "source": [
    "def sample_result(\n",
    "    result: OptimizeResult,\n",
    "    ansatz: LinearMappedUnboundParametricQuantumCircuit,\n",
    "    num_qubits: int,\n",
    "    num_shots: int = 10000,\n",
    ") -> jm.SampleSet:\n",
    "    bind_ansatz_opt = ansatz.bind_parameters(result.x)\n",
    "    sampler = create_qulacs_vector_sampler()\n",
    "    sampling_result = sampler(bind_ansatz_opt, num_shots)\n",
    "    result_bits = {\n",
    "        bin(key)[2:].zfill(num_qubits)[::-1]: val\n",
    "        for key, val in sampling_result.items()\n",
    "    }\n",
    "    sampleset = qaoa_builder.decode_from_counts(result_bits)\n",
    "    return sampleset"
   ]
  },
  {
   "cell_type": "code",
   "execution_count": 99,
   "metadata": {},
   "outputs": [],
   "source": [
    "sampleset = sample_result(result, qaoa_ansatz, qaoa_ansatz.qubit_count)"
   ]
  },
  {
   "cell_type": "code",
   "execution_count": 100,
   "metadata": {},
   "outputs": [],
   "source": [
    "def sampleset_to_tour(sampleset: jm.SampleSet) -> list[list[int]]:\n",
    "    data = sampleset.lowest().record.solution\n",
    "\n",
    "    if data:\n",
    "        tours = []\n",
    "        for indices, val, shape in data[\"x\"]:\n",
    "            tour, _ = zip(*sorted(zip(*indices), key=lambda x: x[1]))\n",
    "            tours.append(list(tour))\n",
    "        return tours\n",
    "    else:\n",
    "        return []"
   ]
  },
  {
   "cell_type": "code",
   "execution_count": 102,
   "metadata": {},
   "outputs": [
    {
     "data": {
      "text/plain": [
       "[[3, 0, 1, 2], [0, 1, 2, 3]]"
      ]
     },
     "execution_count": 102,
     "metadata": {},
     "output_type": "execute_result"
    }
   ],
   "source": [
    "tours = sampleset_to_tour(sampleset)\n",
    "tours"
   ]
  },
  {
   "cell_type": "code",
   "execution_count": 103,
   "metadata": {},
   "outputs": [],
   "source": [
    "def plot_tour(tour: list[int], x_pos: np.ndarray, y_pos: np.ndarray):\n",
    "    _tour = tour + [tour[0]]\n",
    "    _tour = np.array(_tour)\n",
    "    plt.plot(\n",
    "            x_pos[_tour],\n",
    "            y_pos[_tour],\n",
    "            \"o-\",\n",
    "            color=\"blue\",\n",
    "        )\n",
    "        \n",
    "    plt.plot(x_pos, y_pos, \"o\", color=\"blue\")\n",
    "    plt.show()"
   ]
  },
  {
   "cell_type": "code",
   "execution_count": 104,
   "metadata": {},
   "outputs": [
    {
     "data": {
      "image/png": "[encoded data removed]",
      "text/plain": [
       "<Figure size 640x480 with 1 Axes>"
      ]
     },
     "metadata": {},
     "output_type": "display_data"
    }
   ],
   "source": [
    "plot_tour(tours[0], x_pos, y_pos)"
   ]
  },
  {
   "cell_type": "code",
   "execution_count": null,
   "metadata": {},
   "outputs": [],
   "source": []
  }
 ],
 "metadata": {
  "kernelspec": {
   "display_name": "Python 3 (ipykernel)",
   "language": "python",
   "name": "python3"
  },
  "language_info": {
   "codemirror_mode": {
    "name": "ipython",
    "version": 3
   },
   "file_extension": ".py",
   "mimetype": "text/x-python",
   "name": "python",
   "nbconvert_exporter": "python",
   "pygments_lexer": "ipython3",
   "version": "3.9.13"
  }
 },
 "nbformat": 4,
 "nbformat_minor": 2
}
