{
 "cells": [
  {
   "cell_type": "markdown",
   "metadata": {},
   "source": [
    "# Qamomile Quickstart Guide\n",
    "\n",
    "This guide will help you get started with Qamomile quickly, covering installation and basic usage.\n",
    "\n",
    "## Installation\n",
    "\n",
    "### Prerequisites\n",
    "Before installing Qamomile, ensure you have the following:\n",
    "\n",
    "- Python 3.10 or higher\n",
    "- pip (Python package installer)\n",
    "\n",
    "### Installing Qamomile\n",
    "\n",
    "Install Qamomile using pip:\n",
    "\n",
    "```bash\n",
    "pip install qamomile\n",
    "```\n",
    "\n",
    "### Optional Dependencies\n",
    "\n",
    "Depending on your needs, you might want to install additional packages:\n",
    "\n",
    "- For Qiskit integration: `pip install \"qamomile[qiskit]\"`\n",
    "- For Quri Parts integration: `pip install \"qamomile[quri-parts]\"`\n",
    "- For Qutip integration: `pip install \"qamomile[qutip]\"`"
   ]
  },
  {
   "cell_type": "markdown",
   "metadata": {},
   "source": [
    "## Basic Usages\n",
    "\n",
    "Let's walk through a simple example to demonstrate how to use Qamomile.\n",
    "\n",
    "### 1. Import Qamomile and JijModeling"
   ]
  },
  {
   "cell_type": "code",
   "execution_count": 1,
   "metadata": {},
   "outputs": [],
   "source": [
    "import qamomile.core as qm\n",
    "import jijmodeling as jm\n",
    "import jijmodeling_transpiler.core as jmt"
   ]
  },
  {
   "cell_type": "markdown",
   "metadata": {},
   "source": [
    "### 2. Create a Mathematical Model with JijModeling"
   ]
  },
  {
   "cell_type": "code",
   "execution_count": 2,
   "metadata": {},
   "outputs": [
    {
     "data": {
      "text/latex": [
       "$$\\begin{array}{cccc}\\text{Problem:} & \\text{qubo} & & \\\\& & \\min \\quad \\displaystyle \\sum_{i = 0}^{n - 1} \\sum_{j = 0}^{n - 1} Q_{i, j} \\cdot x_{i} \\cdot x_{j} & \\\\\\text{{where}} & & & \\\\& x & 1\\text{-dim binary variable}\\\\\\end{array}$$"
      ],
      "text/plain": [
       "<jijmodeling.Problem at 0x123e8f360>"
      ]
     },
     "execution_count": 2,
     "metadata": {},
     "output_type": "execute_result"
    }
   ],
   "source": [
    "# Simple QUBO\n",
    "\n",
    "Q = jm.Placeholder(\"Q\", ndim=2)\n",
    "n = Q.len_at(0, latex=\"n\")\n",
    "x = jm.BinaryVar(\"x\", shape=(n,))\n",
    "\n",
    "problem = jm.Problem(\"qubo\")\n",
    "i, j = jm.Element(\"i\", n), jm.Element(\"j\", n)\n",
    "problem += jm.sum([i, j], Q[i, j] * x[i] * x[j])\n",
    "\n",
    "problem"
   ]
  },
  {
   "cell_type": "code",
   "execution_count": 3,
   "metadata": {},
   "outputs": [],
   "source": [
    "# Prepare data\n",
    "instance_data = {\n",
    "    \"Q\": [[0.1, 0.2, -0.1],\n",
    "          [0.2, 0.3, 0.4],\n",
    "          [-0.1, 0.4, 0.0]]\n",
    "}\n",
    "\n",
    "# Compile the problem:\n",
    "# Substitute the data into the problem.\n",
    "compiled_instance = jmt.compile_model(problem, instance_data)"
   ]
  },
  {
   "cell_type": "markdown",
   "metadata": {},
   "source": [
    "### 3. Create a Quantum Circuit and a Hamiltonian with Qamomile"
   ]
  },
  {
   "cell_type": "code",
   "execution_count": 4,
   "metadata": {},
   "outputs": [],
   "source": [
    "qaoa_converter = qm.qaoa.QAOAConverter(compiled_instance)\n",
    "\n",
    "# Encode to Ising Hamiltonian\n",
    "qaoa_converter.ising_encode()\n",
    "\n",
    "# Get the QAOA circuit\n",
    "qaoa_circuit = qaoa_converter.get_qaoa_ansatz(p=2)\n",
    "# Get the cost Hamiltonian\n",
    "qaoa_hamiltonian = qaoa_converter.get_cost_hamiltonian()"
   ]
  },
  {
   "cell_type": "markdown",
   "metadata": {},
   "source": [
    "### 4. Transpile to a Quantum Computing SDK (Qiskit or Quri Parts)\n",
    "In this example, we will use Qiskit."
   ]
  },
  {
   "cell_type": "code",
   "execution_count": 5,
   "metadata": {},
   "outputs": [
    {
     "data": {
      "image/png": "[encoded data removed]",
      "text/plain": [
       "<Figure size 872.774x284.278 with 1 Axes>"
      ]
     },
     "execution_count": 5,
     "metadata": {},
     "output_type": "execute_result"
    }
   ],
   "source": [
    "import qamomile.qiskit as qm_qk\n",
    "\n",
    "qk_transpiler = qm_qk.QiskitTranspiler()\n",
    "\n",
    "# Transpile the QAOA circuit to Qiskit\n",
    "qk_circuit = qk_transpiler.transpile_circuit(qaoa_circuit)\n",
    "qk_circuit.draw(output=\"mpl\")"
   ]
  },
  {
   "cell_type": "code",
   "execution_count": 6,
   "metadata": {},
   "outputs": [
    {
     "data": {
      "text/plain": [
       "SparsePauliOp(['IIZ', 'IZI', 'ZII', 'IZZ', 'ZIZ', 'ZZI'],\n",
       "              coeffs=[-0.1 +0.j, -0.45+0.j, -0.15+0.j,  0.1 +0.j, -0.05+0.j,  0.2 +0.j])"
      ]
     },
     "execution_count": 6,
     "metadata": {},
     "output_type": "execute_result"
    }
   ],
   "source": [
    "# Transpile the QAOA Hamiltonian to Qiskit\n",
    "qk_hamiltonian = qk_transpiler.transpile_hamiltonian(qaoa_hamiltonian)\n",
    "qk_hamiltonian"
   ]
  },
  {
   "cell_type": "markdown",
   "metadata": {},
   "source": [
    "### 5. Run the Quantum Circuit\n",
    "\n",
    "Run the quantum circuit on a quantum simulator or a real quantum computer.  \n",
    "In this example, we will use the Qiskit.  \n",
    "\n",
    "In Qamomile, the execution of quantum circuits is delegated to the respective SDKs, allowing users to implement this part themselves if they choose to do so. Given that the primary applications of current quantum computers are research and education, we believe that the majority of cases where quantum optimization algorithms are executed will fall under these categories. To avoid turning Qamomile into a black box, the execution of quantum circuits is left to the users, making it easier to customize algorithms."
   ]
  },
  {
   "cell_type": "code",
   "execution_count": 7,
   "metadata": {},
   "outputs": [
    {
     "name": "stdout",
     "output_type": "stream",
     "text": [
      " message: Optimization terminated successfully.\n",
      " success: True\n",
      "  status: 1\n",
      "     fun: -0.428242617622815\n",
      "       x: [ 8.005e-01  1.940e+00  1.020e+00  1.509e+00]\n",
      "    nfev: 281\n",
      "   maxcv: 0.0\n"
     ]
    }
   ],
   "source": [
    "import qiskit.primitives as qk_pr\n",
    "import numpy as np\n",
    "from scipy.optimize import minimize\n",
    "\n",
    "cost_history = []\n",
    "def cost_estimator(param_values):\n",
    "    estimator = qk_pr.StatevectorEstimator()\n",
    "    job = estimator.run([(qk_circuit, qk_hamiltonian, param_values)])\n",
    "    result = job.result()[0]\n",
    "    cost = result.data['evs']\n",
    "    cost_history.append(cost)\n",
    "    return cost\n",
    "\n",
    "# Run QAOA optimization\n",
    "result = minimize(\n",
    "    cost_estimator,\n",
    "    [np.pi / 4, np.pi / 2, np.pi / 2, np.pi / 4],\n",
    "    method=\"COBYLA\",\n",
    "    options={\"maxiter\": 1000},\n",
    ")\n",
    "print(result)"
   ]
  },
  {
   "cell_type": "code",
   "execution_count": 9,
   "metadata": {},
   "outputs": [
    {
     "data": {
      "image/png": "[encoded data removed]",
      "text/plain": [
       "<Figure size 640x480 with 1 Axes>"
      ]
     },
     "metadata": {},
     "output_type": "display_data"
    }
   ],
   "source": [
    "import matplotlib.pyplot as plt\n",
    "\n",
    "plt.title(\"Change of Cost\", fontsize=15)\n",
    "plt.xlabel(\"Iteration\", fontsize=15)\n",
    "plt.ylabel(\"Cost\", fontsize=15)\n",
    "plt.xlim(1, result.nfev)\n",
    "plt.plot(cost_history, label=\"Cost\", color=\"#2696EB\")\n",
    "plt.show()"
   ]
  },
  {
   "cell_type": "code",
   "execution_count": 9,
   "metadata": {},
   "outputs": [
    {
     "data": {
      "text/plain": [
       "{'000': 622, '100': 107, '010': 8, '001': 226, '101': 35, '011': 1, '111': 1}"
      ]
     },
     "execution_count": 9,
     "metadata": {},
     "output_type": "execute_result"
    }
   ],
   "source": [
    "# Run Optimized QAOA circuit\n",
    "sampler = qk_pr.StatevectorSampler()\n",
    "qk_circuit.measure_all()\n",
    "job = sampler.run([(qk_circuit, result.x)], shots=1000)\n",
    "job_result = job.result()[0]\n",
    "qaoa_counts = job_result.data[\"meas\"]\n",
    "qaoa_counts.get_counts()"
   ]
  },
  {
   "cell_type": "markdown",
   "metadata": {},
   "source": [
    "### 6. Decode the Result\n",
    "\n",
    "After running the quantum circuit, decode the result to obtain the solution."
   ]
  },
  {
   "cell_type": "code",
   "execution_count": 13,
   "metadata": {},
   "outputs": [
    {
     "data": {
      "image/png": "[encoded data removed]",
      "text/plain": [
       "<Figure size 640x480 with 1 Axes>"
      ]
     },
     "metadata": {},
     "output_type": "display_data"
    }
   ],
   "source": [
    "from collections import defaultdict\n",
    "import matplotlib.pyplot as plt\n",
    "\n",
    "sampleset = qaoa_converter.decode(qk_transpiler, job_result.data[\"meas\"])\n",
    "\n",
    "# Initialize a dictionary to accumulate occurrences for each energy value\n",
    "frequencies = defaultdict(int)\n",
    "\n",
    "# Define the precision to which you want to round the energy values\n",
    "for sample in sampleset:\n",
    "    energy = round(sample.eval.objective, ndigits = 3)  \n",
    "    frequencies[energy] += sample.num_occurrences\n",
    "\n",
    "plt.bar(frequencies.keys(), frequencies.values(), width=0.05)\n",
    "plt.xlabel('Objective')\n",
    "plt.ylabel('Frequency')\n",
    "plt.show()\n"
   ]
  },
  {
   "cell_type": "code",
   "execution_count": null,
   "metadata": {},
   "outputs": [],
   "source": []
  }
 ],
 "metadata": {
  "kernelspec": {
   "display_name": "Python 3 (ipykernel)",
   "language": "python",
   "name": "python3"
  },
  "language_info": {
   "codemirror_mode": {
    "name": "ipython",
    "version": 3
   },
   "file_extension": ".py",
   "mimetype": "text/x-python",
   "name": "python",
   "nbconvert_exporter": "python",
   "pygments_lexer": "ipython3",
   "version": "3.10.6"
  }
 },
 "nbformat": 4,
 "nbformat_minor": 4
}
