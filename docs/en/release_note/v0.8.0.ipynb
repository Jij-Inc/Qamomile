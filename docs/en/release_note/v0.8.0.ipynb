{
 "cells": [
  {
   "cell_type": "markdown",
   "id": "8aec2f3e",
   "metadata": {},
   "source": [
    "# Qamomile v0.8.0\n",
    "\n",
    "---\n",
    "\n",
    "This release mayjorly encences the accessibility for broader people by adding some [tutorials in Japanese](https://jij-inc.github.io/Qamomile/ja/), usability by supporting [OMMX v2](https://jij-inc.github.io/ommx/en/introduction.html) and introducing a new target quantum SDK, [CUDA-Q](https://developer.nvidia.com/cuda-q), as well as [Bloqade-Analog](https://github.com/QuEraComputing/bloqade-analog). We believe that, especially OMMX v2 support is a big step for us and users as OMMX allows us to compare quantum optimisation algorithms and classical solvers esaier than before as OMMX provides us the united form of optimisation problems.\n",
    "\n",
    "We have other updates having slightly smaller impacts as well. Please have a look at our [releases](https://github.com/Jij-Inc/Qamomile/releases) and individual PRs for more details."
   ]
  },
  {
   "cell_type": "markdown",
   "id": "e7435506",
   "metadata": {},
   "source": [
    "## ✨ New Features\n"
   ]
  },
  {
   "cell_type": "markdown",
   "id": "73ac0173",
   "metadata": {},
   "source": [
    "### OMMX v2 Support"
   ]
  },
  {
   "cell_type": "markdown",
   "id": "900ffc09",
   "metadata": {},
   "source": [
    "### CUDA-Q Support"
   ]
  },
  {
   "cell_type": "markdown",
   "id": "81cf8539",
   "metadata": {},
   "source": [
    "### Bloqade-Analog"
   ]
  },
  {
   "cell_type": "markdown",
   "id": "8c337b81",
   "metadata": {},
   "source": [
    "## 🐛 Bug Fixes\n",
    "\n",
    "See our [releases](https://github.com/Jij-Inc/Qamomile/releases) for details."
   ]
  },
  {
   "cell_type": "markdown",
   "id": "66aefc32",
   "metadata": {},
   "source": [
    "## 🛠️ Other Changes and Improvements\n",
    "\n",
    "See our [releases](https://github.com/Jij-Inc/Qamomile/releases) for details."
   ]
  },
  {
   "cell_type": "markdown",
   "id": "d59461c9",
   "metadata": {},
   "source": [
    "## 💬 Feedback\n",
    "With these new features, Qamomile becomes a powerful tool for enabling users to access several quantum SDKs in a same way and compare the results with classical solvers. Try out Qamomile 0.8.0!\n",
    "\n",
    "\n",
    "Please submit any feedback or bug reports to [GitHub Issues](https://github.com/Jij-Inc/Qamomile/issues)."
   ]
  }
 ],
 "metadata": {
  "language_info": {
   "name": "python"
  }
 },
 "nbformat": 4,
 "nbformat_minor": 5
}
