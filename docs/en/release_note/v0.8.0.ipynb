{
 "cells": [
  {
   "cell_type": "markdown",
   "id": "8aec2f3e",
   "metadata": {},
   "source": [
    "# Qamomile v0.8.0\n",
    "\n",
    "---\n",
    "\n",
    "This release mayjorly encences the accessibility for broader people by adding some [tutorials in Japanese](https://jij-inc.github.io/Qamomile/ja/), usability by supporting [OMMX v2](https://jij-inc.github.io/ommx/en/introduction.html) and introducing a new target quantum SDK, [CUDA-Q](https://developer.nvidia.com/cuda-q), as well as [Bloqade-Analog](https://github.com/QuEraComputing/bloqade-analog). We believe that, especially OMMX v2 support is a big step for us and users as OMMX allows us to compare quantum optimisation algorithms and classical solvers esaier than before as OMMX provides us the united form of optimisation problems.\n",
    "\n",
    "We have other updates having slightly smaller impacts as well. Please have a look at our [releases](https://github.com/Jij-Inc/Qamomile/releases) and individual PRs for more details."
   ]
  },
  {
   "cell_type": "markdown",
   "id": "e7435506",
   "metadata": {},
   "source": [
    "## ✨ New Features"
   ]
  },
  {
   "cell_type": "markdown",
   "id": "73ac0173",
   "metadata": {},
   "source": [
    "### OMMX v2 Support ([#126](https://github.com/Jij-Inc/Qamomile/pull/126), [#198](https://github.com/Jij-Inc/Qamomile/pull/198))\n",
    "\n",
    "OMMX v2 brings major performance improvements through a new Rust-based implementation, replacing the previous Protocol Buffer-based approach (see [OMMX Python SDK 2.0.0](https://github.com/Jij-Inc/ommx/blob/main/docs/en/release_note/ommx-2.0.0.md) for more details). This update provides:\n",
    "\n",
    "  - **Enhanced Performance**: Computation complexity improvements, especially for large-scale problems\n",
    "  - **Improved API**: More intuitive and AI-friendly API design\n",
    "  - **Better Type Safety**: Rust-level type checking for more robust optimization problem handling\n",
    "\n",
    "Note that, OMMX v2 does bring performance improvements of handling instances, but it does not mean it brings performance improvements at quantum algorithm side such as a circuit running time."
   ]
  },
  {
   "cell_type": "code",
   "execution_count": null,
   "id": "bbda5c37",
   "metadata": {},
   "outputs": [],
   "source": [
    "# Import necessary libraries.\n",
    "from collections import defaultdict\n",
    "\n",
    "import jijmodeling as jm\n",
    "import matplotlib.pyplot as plt\n",
    "import numpy as np\n",
    "import ommx.v1\n",
    "import qiskit.primitives as qk_pr\n",
    "from scipy.optimize import minimize\n",
    "\n",
    "import qamomile.core as qm\n",
    "import qamomile.qiskit as qm_qk\n",
    "\n",
    "\n",
    "# Create optimization problem with JijModeling.\n",
    "Q = jm.Placeholder(\"Q\", ndim=2)\n",
    "n = Q.len_at(0, latex=\"n\")\n",
    "x = jm.BinaryVar(\"x\", shape=(n,))\n",
    "\n",
    "problem = jm.Problem(\"qubo\")\n",
    "i, j = jm.Element(\"i\", n), jm.Element(\"j\", n)\n",
    "problem += jm.sum([i, j], Q[i, j] * x[i] * x[j])\n",
    "\n",
    "# Compile with data, which will produce ommx.v1.Instance.\n",
    "instance_data = {\"Q\": [[0.1, 0.2, -0.1], [0.2, 0.3, 0.4], [-0.1, 0.4, 0.0]]}\n",
    "interpreter = jm.Interpreter(instance_data)\n",
    "instance: ommx.v1.Instance = interpreter.eval_problem(problem)  # NEW\n",
    "\n",
    "# Convert to QAOA using Qamomile.\n",
    "qaoa_converter = qm.qaoa.QAOAConverter(instance)\n",
    "p = 5\n",
    "qaoa_circuit = qaoa_converter.get_qaoa_ansatz(p=p)\n",
    "qaoa_hamiltonian = qaoa_converter.get_cost_hamiltonian()\n",
    "\n",
    "# Convert Qamomile circuit and Hamiltonian to Qiskit format.\n",
    "qk_transpiler = qm_qk.QiskitTranspiler()\n",
    "qk_circuit = qk_transpiler.transpile_circuit(qaoa_circuit)\n",
    "qk_hamiltonian = qk_transpiler.transpile_hamiltonian(qaoa_hamiltonian)\n",
    "\n",
    "# Define cost estimation function using Qiskit primitives.\n",
    "estimator = qk_pr.StatevectorEstimator()\n",
    "cost_history = []\n",
    "def estimate_cost(param_values):\n",
    "    try:\n",
    "        job = estimator.run([(qk_circuit, qk_hamiltonian, param_values)])\n",
    "        result = job.result()[0]\n",
    "        cost = result.data[\"evs\"]\n",
    "        cost_history.append(cost)\n",
    "        return cost\n",
    "    except Exception as e:\n",
    "        print(f\"Error during cost estimation: {e}\")\n",
    "        return np.inf\n",
    "\n",
    "# Optimise the QAOA parameters using COBYLA.\n",
    "initial_params = np.random.uniform(low=-np.pi / 4, high=np.pi / 4, size=2 * p)\n",
    "result = minimize(\n",
    "    estimate_cost,\n",
    "    initial_params,\n",
    "    method=\"COBYLA\",\n",
    "    options={\"maxiter\": 2000, \"tol\": 1e-2},\n",
    ")\n",
    "\n",
    "# Run the QAOA circuit with the optimised parameters.\n",
    "qk_circuit.measure_all()\n",
    "sampler = qk_pr.StatevectorSampler()\n",
    "job = sampler.run([(qk_circuit, result.x)], shots=10000)\n",
    "job_result = job.result()[0]\n",
    "sampleset: ommx.v1.SampleSet = qaoa_converter.decode(qk_transpiler, job_result.data[\"meas\"])  # NEW\n",
    "\n",
    "# Create a dictionary to group energies and count their frequencies\n",
    "energy_freq = defaultdict(int)\n",
    "for sample_id in sampleset.sample_ids:\n",
    "    sample = sampleset.get(sample_id)\n",
    "    energy_freq[sample.objective] += 1\n",
    "energies = list(energy_freq.keys())\n",
    "frequencies = list(energy_freq.values())\n",
    "\n",
    "# Show the cost distribution.\n",
    "plt.bar(energies, frequencies, width=0.5)\n",
    "plt.title(\"cost distribution of feasible solution (No nomarilisation)\", fontsize=15)\n",
    "plt.ylabel(\"Frequency\", fontsize=15)\n",
    "plt.xlabel(\"Energy\", fontsize=15)\n",
    "plt.show()\n"
   ]
  },
  {
   "cell_type": "markdown",
   "id": "900ffc09",
   "metadata": {},
   "source": [
    "### CUDA-Q Support ([#143](https://github.com/Jij-Inc/Qamomile/pull/143))\n",
    "CUDA-Q stremlines hybrid application development and promotes productivity and scalability in quantum computing. And now, you can compile your circuits and Hamiltonians in Qamomile format into CUDA-Q format!"
   ]
  },
  {
   "cell_type": "code",
   "execution_count": null,
   "id": "9967d48b",
   "metadata": {},
   "outputs": [],
   "source": [
    "import cudaq\n",
    "\n",
    "from qamomile.core.circuit import QuantumCircuit as QamomileCircuit\n",
    "from qamomile.core.operator import Hamiltonian, X, Y, Z\n",
    "from qamomile.cudaq.transpiler import CudaqTranspiler\n",
    "\n",
    "# Create an instance of the CudaqTranspiler.\n",
    "cudaq_transpiler = CudaqTranspiler()\n",
    "\n",
    "# Define a simple quantum circuit using Qamomile.\n",
    "qc = QamomileCircuit(1)\n",
    "qc.h(0)\n",
    "qc.x(0)\n",
    "\n",
    "# Transpile the circuit using CudaqTranspiler.\n",
    "transpiled_circuit = cudaq_transpiler.transpile_circuit(qc)\n",
    "\n",
    "# Draw the transpiled circuit.\n",
    "print(type(transpiled_circuit))\n",
    "print(cudaq.draw(transpiled_circuit, []))\n",
    "\n",
    "# Create a Hamiltonian using Qamomile.\n",
    "hamiltonian = Hamiltonian()\n",
    "hamiltonian += X(0) * Z(1)\n",
    "hamiltonian += Y(0) * Y(1) * Z(2) * X(3) * X(4)\n",
    "\n",
    "# Transpile the Hamiltonian using CudaqTranspiler.\n",
    "transpiled_hamiltonian = cudaq_transpiler.transpile_hamiltonian(hamiltonian)\n",
    "# Show the transpiled hamiltonian.\n",
    "print(type(transpiled_hamiltonian))\n",
    "print(transpiled_hamiltonian)"
   ]
  },
  {
   "cell_type": "markdown",
   "id": "81cf8539",
   "metadata": {},
   "source": [
    "### Bloqade-Analog"
   ]
  },
  {
   "cell_type": "markdown",
   "id": "8c337b81",
   "metadata": {},
   "source": [
    "## 🐛 Bug Fixes\n",
    "\n",
    "See our [releases](https://github.com/Jij-Inc/Qamomile/releases) for details."
   ]
  },
  {
   "cell_type": "markdown",
   "id": "66aefc32",
   "metadata": {},
   "source": [
    "## 🛠️ Other Changes and Improvements\n",
    "\n",
    "See our [releases](https://github.com/Jij-Inc/Qamomile/releases) for details."
   ]
  },
  {
   "cell_type": "markdown",
   "id": "d59461c9",
   "metadata": {},
   "source": [
    "## 💬 Feedback\n",
    "With these new features, Qamomile becomes a powerful tool for enabling users to access several quantum SDKs in a same way and compare the results with classical solvers. Try out Qamomile 0.8.0!\n",
    "\n",
    "\n",
    "Please submit any feedback or bug reports to [GitHub Issues](https://github.com/Jij-Inc/Qamomile/issues)."
   ]
  }
 ],
 "metadata": {
  "language_info": {
   "name": "python"
  }
 },
 "nbformat": 4,
 "nbformat_minor": 5
}
