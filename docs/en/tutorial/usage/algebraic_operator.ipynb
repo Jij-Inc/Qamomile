{
 "cells": [
  {
   "cell_type": "markdown",
   "metadata": {},
   "source": [
    "# Write Hamiltonian Algebraically\n",
    "This tutorial explains how to create a Qamomile Hamiltonian using an algebraic modeler `jijmodeling`.\n",
    "\n",
    "Using this functionality will allow you to create Hamiltonians in a more intuitive way."
   ]
  },
  {
   "cell_type": "code",
   "execution_count": 1,
   "metadata": {},
   "outputs": [],
   "source": [
    "import jijmodeling as jm\n",
    "import qamomile.core.modeler as qm_m"
   ]
  },
  {
   "cell_type": "markdown",
   "metadata": {},
   "source": [
    "## Write Algebraic Hamiltonian\n",
    "Let us write Heisenberg model without the external field with periodic boundary condition by using qamomile modeler in this tutorial.\n",
    "\n",
    "To define Pauli Operator Expression we need to use `qm_m.PauliExpr`.\n",
    "In the Heisenberg model, there are $X$, $Y$ and $Z$ Pauli Operator, so let us define them first."
   ]
  },
  {
   "cell_type": "code",
   "execution_count": 2,
   "metadata": {},
   "outputs": [
    {
     "data": {
      "text/latex": [
       "$$\\displaystyle \\hat{Y}$$"
      ],
      "text/plain": [
       "BinaryVar(name='_PauliY', shape=[Placeholder(name='N', ndim=0)], latex='\\hat{Y}', description='PauliY')"
      ]
     },
     "execution_count": 2,
     "metadata": {},
     "output_type": "execute_result"
    }
   ],
   "source": [
    "N = jm.Placeholder(\"N\")\n",
    "Z = qm_m.PauliExpr.z(shape=(N,))\n",
    "X = qm_m.PauliExpr.x(shape=(N,))\n",
    "Y = qm_m.PauliExpr.y(shape=(N,))\n",
    "Y"
   ]
  },
  {
   "cell_type": "markdown",
   "metadata": {},
   "source": [
    "Next, let us define the Hamiltonian which is\n",
    "\n",
    "$$\n",
    "\\hat{H} = - \\sum_{i = 0}^{N-1} J_x X_i X_{i+1} + J_y Y_i Y_{i+1} + J_z Z_i Z_{i+1}\n",
    "$$\n",
    "\n",
    "Here we assume periodic boundary condition ( $X_N = X_0$ ).\n",
    "\n",
    "We can define this by using `jijmodeling`."
   ]
  },
  {
   "cell_type": "code",
   "execution_count": 3,
   "metadata": {},
   "outputs": [
    {
     "data": {
      "text/latex": [
       "$$\\displaystyle - \\sum_{i = 0}^{N - 1} \\left(J_x \\cdot \\hat{X}_{i} \\cdot \\hat{X}_{\\left(i + 1\\right) \\bmod N} + J_y \\cdot \\hat{Y}_{i} \\cdot \\hat{Y}_{\\left(i + 1\\right) \\bmod N} + J_z \\cdot \\hat{Z}_{i} \\cdot \\hat{Z}_{\\left(i + 1\\right) \\bmod N}\\right)$$"
      ],
      "text/plain": [
       "<qamomile.core.modeler.hamiltonian_expr.HamiltonianExpr at 0xffffa01ad300>"
      ]
     },
     "execution_count": 3,
     "metadata": {},
     "output_type": "execute_result"
    }
   ],
   "source": [
    "i = jm.Element(\"i\", belong_to = (0,N))\n",
    "J_x = jm.Placeholder(\"J_x\")\n",
    "J_y = jm.Placeholder(\"J_y\")\n",
    "J_z = jm.Placeholder(\"J_z\")\n",
    "expr = -jm.sum(i, J_x * X[i] * X[(i+1) % N] + J_y * Y[i] * Y[(i+1) % N] + J_z * Z[i] * Z[(i+1) % N])\n",
    "h_expr = qm_m.HamiltonianExpr(expr)\n",
    "h_expr"
   ]
  },
  {
   "cell_type": "markdown",
   "metadata": {},
   "source": [
    "## Build Qamomile Hamiltonian from Algebraic Hamiltonian Expression\n",
    "We can build qamomile `Hamiltonian` by inserting the value into `HamiltonianExpr`.\n",
    "\n",
    "Let us create some data to insert first. \n",
    "We can provide the data as `dict`.\n",
    "\n",
    "To make it easier to see whether the output of the results is correct, let's create some unusual data."
   ]
  },
  {
   "cell_type": "code",
   "execution_count": 4,
   "metadata": {},
   "outputs": [],
   "source": [
    "instance_data = {\"N\":10, \"J_x\":1.0, \"J_y\":-1.0, \"J_z\":2.0}"
   ]
  },
  {
   "cell_type": "markdown",
   "metadata": {},
   "source": [
    "We can use `HamiltonianBuilder` to insert the instance data into `HamiltonianExpr`."
   ]
  },
  {
   "cell_type": "code",
   "execution_count": 5,
   "metadata": {},
   "outputs": [
    {
     "data": {
      "text/plain": [
       "Hamiltonian((X0, X1): -1.0, (Y0, Y1): 1.0, (Z0, Z1): -2.0, (X1, X2): -1.0, (Y1, Y2): 1.0, (Z1, Z2): -2.0, (X2, X3): -1.0, (Y2, Y3): 1.0, (Z2, Z3): -2.0, (X3, X4): -1.0, (Y3, Y4): 1.0, (Z3, Z4): -2.0, (X4, X5): -1.0, (Y4, Y5): 1.0, (Z4, Z5): -2.0, (X5, X6): -1.0, (Y5, Y6): 1.0, (Z5, Z6): -2.0, (X6, X7): -1.0, (Y6, Y7): 1.0, (Z6, Z7): -2.0, (X7, X8): -1.0, (Y7, Y8): 1.0, (Z7, Z8): -2.0, (X8, X9): -1.0, (Y8, Y9): 1.0, (Z8, Z9): -2.0, (X0, X9): -1.0, (Y0, Y9): 1.0, (Z0, Z9): -2.0)"
      ]
     },
     "execution_count": 5,
     "metadata": {},
     "output_type": "execute_result"
    }
   ],
   "source": [
    "\n",
    "builder = qm_m.hamiltonian_expr.HamiltonianBuilder(h_expr,instance_data)\n",
    "h = builder.build()\n",
    "h"
   ]
  },
  {
   "cell_type": "markdown",
   "metadata": {},
   "source": [
    "If you also want to check the `Hamiltonian` in LaTex, you can do it as follows."
   ]
  },
  {
   "cell_type": "code",
   "execution_count": 6,
   "metadata": {},
   "outputs": [
    {
     "data": {
      "text/latex": [
       "$-X_{0}X_{1}+Y_{0}Y_{1}-2.0Z_{0}Z_{1}-X_{1}X_{2}+Y_{1}Y_{2}-2.0Z_{1}Z_{2}-X_{2}X_{3}+Y_{2}Y_{3}-2.0Z_{2}Z_{3}-X_{3}X_{4}+Y_{3}Y_{4}-2.0Z_{3}Z_{4}-X_{4}X_{5}+Y_{4}Y_{5}-2.0Z_{4}Z_{5}-X_{5}X_{6}+Y_{5}Y_{6}-2.0Z_{5}Z_{6}-X_{6}X_{7}+Y_{6}Y_{7}-2.0Z_{6}Z_{7}-X_{7}X_{8}+Y_{7}Y_{8}-2.0Z_{7}Z_{8}-X_{8}X_{9}+Y_{8}Y_{9}-2.0Z_{8}Z_{9}-X_{0}X_{9}+Y_{0}Y_{9}-2.0Z_{0}Z_{9}$"
      ],
      "text/plain": [
       "<IPython.core.display.Latex object>"
      ]
     },
     "metadata": {},
     "output_type": "display_data"
    }
   ],
   "source": [
    "import IPython.display as ipd\n",
    "\n",
    "ipd.display(ipd.Latex(\"$\" + h.to_latex() + \"$\"))"
   ]
  }
 ],
 "metadata": {
  "kernelspec": {
   "display_name": ".venv",
   "language": "python",
   "name": "python3"
  },
  "language_info": {
   "codemirror_mode": {
    "name": "ipython",
    "version": 3
   },
   "file_extension": ".py",
   "mimetype": "text/x-python",
   "name": "python",
   "nbconvert_exporter": "python",
   "pygments_lexer": "ipython3",
   "version": "3.10.13"
  }
 },
 "nbformat": 4,
 "nbformat_minor": 2
}
