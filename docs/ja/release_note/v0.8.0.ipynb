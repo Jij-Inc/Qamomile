{
 "cells": [
  {
   "cell_type": "markdown",
   "metadata": {},
   "source": [
    "# Qamomile v0.8.0\n",
    "\n",
    "---\n",
    "\n",
    "このリリースでは、[日本語のチュートリアル](https://jij-inc.github.io/Qamomile/ja/)（Bloqade-Analog向けの新しいチュートリアルを含む）を追加することで、より幅広いユーザーのアクセシビリティを大幅に向上させ、[OMMX v2](https://jij-inc.github.io/ommx/en/introduction.html)をサポートすることで使いやすさを改善し、新しい量子SDK[CUDA-Q](https://developer.nvidia.com/cuda-q)のサポートを導入しました。また、[Qiskit](https://github.com/Qiskit/qiskit) v2への対応も行いました。特にOMMX v2のサポートは、最適化問題の統一フォーマットを提供することで、量子最適化アルゴリズムと古典的ソルバーの比較を従来よりも簡単に行えるようになるため、私たちとユーザーの両方にとって特に重要であると考えています。\n",
    "\n",
    "また、やや小さな影響のあるその他のアップデートも含まれています。詳細については、[リリース](https://github.com/Jij-Inc/Qamomile/releases)や個々のPRをご確認ください。"
   ]
  },
  {
   "cell_type": "markdown",
   "metadata": {},
   "source": [
    "## ✨ 新機能"
   ]
  },
  {
   "cell_type": "markdown",
   "metadata": {},
   "source": [
    "### OMMX v2 サポート ([#126](https://github.com/Jij-Inc/Qamomile/pull/126), [#198](https://github.com/Jij-Inc/Qamomile/pull/198))\n",
    "\n",
    "OMMX v2は、従来のProtocol Bufferベースのアプローチに代わる新しいRustベースの実装により、大幅な性能向上をもたらします（詳細は[OMMX Python SDK 2.0.0](https://github.com/Jij-Inc/ommx/blob/main/docs/ja/release_note/ommx-2.0.0.md)を参照）。このアップデートでは以下が提供されます：\n",
    "\n",
    "  - **性能向上**: 特に大規模問題における計算量の複雑さの改善\n",
    "  - **APIの改善**: より直感的でAIに優しいAPI設計\n",
    "  - **型安全性の向上**: より堅牢な最適化問題処理のためのRustレベルの型チェック\n",
    "\n",
    "注意点として、OMMX v2はインスタンス処理の性能向上をもたらしますが、回路の実行時間などの量子アルゴリズム側の性能向上を意味するものではありません。"
   ]
  },
  {
   "cell_type": "code",
   "execution_count": 1,
   "metadata": {},
   "outputs": [
    {
     "data": {
      "image/png": "[encoded data removed]",
      "text/plain": [
       "<Figure size 640x480 with 1 Axes>"
      ]
     },
     "metadata": {},
     "output_type": "display_data"
    }
   ],
   "source": [
    "# 必要なライブラリをインポート\n",
    "from collections import defaultdict\n",
    "\n",
    "import jijmodeling as jm\n",
    "import matplotlib.pyplot as plt\n",
    "import numpy as np\n",
    "import ommx.v1\n",
    "import qiskit.primitives as qk_pr\n",
    "from scipy.optimize import minimize\n",
    "\n",
    "import qamomile.core as qm\n",
    "import qamomile.qiskit as qm_qk\n",
    "\n",
    "\n",
    "# JijModelingで最適化問題を作成\n",
    "Q = jm.Placeholder(\"Q\", ndim=2)\n",
    "n = Q.len_at(0, latex=\"n\")\n",
    "x = jm.BinaryVar(\"x\", shape=(n,))\n",
    "\n",
    "problem = jm.Problem(\"qubo\")\n",
    "i, j = jm.Element(\"i\", n), jm.Element(\"j\", n)\n",
    "problem += jm.sum([i, j], Q[i, j] * x[i] * x[j])\n",
    "\n",
    "# データをommx.v1.Instanceとしてコンパイル\n",
    "instance_data = {\"Q\": [[0.1, 0.2, -0.1], [0.2, 0.3, 0.4], [-0.1, 0.4, 0.0]]}\n",
    "interpreter = jm.Interpreter(instance_data)\n",
    "instance: ommx.v1.Instance = interpreter.eval_problem(problem)  # 新機能\n",
    "\n",
    "# QamomileでQAOAに変換\n",
    "qaoa_converter = qm.qaoa.QAOAConverter(instance)\n",
    "p = 5\n",
    "qaoa_circuit = qaoa_converter.get_qaoa_ansatz(p=p)\n",
    "qaoa_hamiltonian = qaoa_converter.get_cost_hamiltonian()\n",
    "\n",
    "# Qamomileの回路とハミルトニアンをQiskit形式に変換\n",
    "qk_transpiler = qm_qk.QiskitTranspiler()\n",
    "qk_circuit = qk_transpiler.transpile_circuit(qaoa_circuit)\n",
    "qk_hamiltonian = qk_transpiler.transpile_hamiltonian(qaoa_hamiltonian)\n",
    "\n",
    "# Qiskit primitivesを使用してコスト推定関数を定義\n",
    "estimator = qk_pr.StatevectorEstimator()\n",
    "cost_history = []\n",
    "def estimate_cost(param_values):\n",
    "    try:\n",
    "        job = estimator.run([(qk_circuit, qk_hamiltonian, param_values)])\n",
    "        result = job.result()[0]\n",
    "        cost = result.data[\"evs\"]\n",
    "        cost_history.append(cost)\n",
    "        return cost\n",
    "    except Exception as e:\n",
    "        print(f\"コスト推定中にエラーが発生しました: {e}\")\n",
    "        return np.inf\n",
    "\n",
    "# COBYLAを使用してQAOAパラメータを最適化\n",
    "initial_params = np.random.uniform(low=-np.pi / 4, high=np.pi / 4, size=2 * p)\n",
    "result = minimize(\n",
    "    estimate_cost,\n",
    "    initial_params,\n",
    "    method=\"COBYLA\",\n",
    "    options={\"maxiter\": 2000, \"tol\": 1e-2},\n",
    ")\n",
    "\n",
    "# 最適化されたパラメータでQAOA回路を実行\n",
    "qk_circuit.measure_all()\n",
    "sampler = qk_pr.StatevectorSampler()\n",
    "job = sampler.run([(qk_circuit, result.x)], shots=10000)\n",
    "job_result = job.result()[0]\n",
    "sampleset: ommx.v1.SampleSet = qaoa_converter.decode(qk_transpiler, job_result.data[\"meas\"])  # 新機能\n",
    "\n",
    "# エネルギーをグループ化してその頻度を数える辞書を作成\n",
    "energy_freq = defaultdict(int)\n",
    "for sample_id in sampleset.sample_ids:\n",
    "    sample = sampleset.get(sample_id)\n",
    "    energy_freq[sample.objective] += 1\n",
    "energies = list(energy_freq.keys())\n",
    "frequencies = list(energy_freq.values())\n",
    "\n",
    "# コスト分布を表示\n",
    "plt.bar(energies, frequencies, width=0.05)\n",
    "plt.title(\"Cost Distribution of Feasible Solutions (No Normalization)\", fontsize=15)\n",
    "plt.ylabel(\"Frequency\", fontsize=15)\n",
    "plt.xlabel(\"Energy\", fontsize=15)\n",
    "plt.show()"
   ]
  },
  {
   "cell_type": "markdown",
   "metadata": {},
   "source": [
    "### CUDA-Q サポート ([#143](https://github.com/Jij-Inc/Qamomile/pull/143))\n",
    "CUDA-Qは、ハイブリッドアプリケーション開発を合理化し、量子コンピューティングにおける生産性とスケーラビリティを促進します。そして今、QamomileフォーマットのCircuitやHamiltonianをCUDA-Qフォーマットにコンパイルできるようになりました！\n",
    "\n",
    "残念ながら現在CUDA-QそのものがLinux OSのみをサポートしているため，QamomileでもCUDA-Qサポート機能はLinux OSのみを対象としていることをご注意ください．"
   ]
  },
  {
   "cell_type": "code",
   "execution_count": 2,
   "metadata": {},
   "outputs": [
    {
     "name": "stdout",
     "output_type": "stream",
     "text": [
      "<class 'cudaq.kernel.kernel_builder.PyKernel'>\n",
      "     ╭───╮╭───╮\n",
      "q0 : ┤ h ├┤ x ├\n",
      "     ╰───╯╰───╯\n",
      "\n",
      "<class 'cudaq.mlir._mlir_libs._quakeDialects.cudaq_runtime.SpinOperator'>\n",
      "(0+0i) + (1+0i) * X0Z1 + (1+0i) * Y0Y1Z2X3X4\n"
     ]
    }
   ],
   "source": [
    "import cudaq\n",
    "\n",
    "from qamomile.core.circuit import QuantumCircuit as QamomileCircuit\n",
    "from qamomile.core.operator import Hamiltonian, X, Y, Z\n",
    "from qamomile.cudaq.transpiler import CudaqTranspiler\n",
    "\n",
    "# CudaqTranspilerのインスタンスを作成\n",
    "cudaq_transpiler = CudaqTranspiler()\n",
    "\n",
    "# Qamomileを使用してシンプルな量子回路を定義\n",
    "qc = QamomileCircuit(1)\n",
    "qc.h(0)\n",
    "qc.x(0)\n",
    "\n",
    "# CudaqTranspilerを使用して回路をTranspile\n",
    "transpiled_circuit = cudaq_transpiler.transpile_circuit(qc)\n",
    "\n",
    "# Transpileされた回路を描画\n",
    "print(type(transpiled_circuit))\n",
    "print(cudaq.draw(transpiled_circuit, []))\n",
    "\n",
    "# Qamomileを使用してハミルトニアンを作成\n",
    "hamiltonian = Hamiltonian()\n",
    "hamiltonian += X(0) * Z(1)\n",
    "hamiltonian += Y(0) * Y(1) * Z(2) * X(3) * X(4)\n",
    "\n",
    "# CudaqTranspilerを使用してハミルトニアンをTranspile\n",
    "transpiled_hamiltonian = cudaq_transpiler.transpile_hamiltonian(hamiltonian)\n",
    "# Transpileされたハミルトニアンを表示\n",
    "print(type(transpiled_hamiltonian))\n",
    "print(transpiled_hamiltonian)"
   ]
  },
  {
   "cell_type": "markdown",
   "metadata": {},
   "source": [
    "### Qiskit v2 サポート ([#194](https://github.com/Jij-Inc/Qamomile/pull/194))\n",
    "Qiskitのメジャーアップデートに合わせてQamomileでもQiskit v2のサポートを行いました。"
   ]
  },
  {
   "cell_type": "code",
   "execution_count": 3,
   "metadata": {},
   "outputs": [
    {
     "data": {
      "image/png": "[encoded data removed]",
      "text/plain": [
       "<Figure size 640x480 with 1 Axes>"
      ]
     },
     "metadata": {},
     "output_type": "display_data"
    }
   ],
   "source": [
    "# 必要なライブラリをインポート\n",
    "import jijmodeling as jm\n",
    "import matplotlib.pyplot as plt\n",
    "import networkx as nx\n",
    "import numpy as np\n",
    "import qiskit.primitives as qk_pr\n",
    "from scipy.optimize import minimize\n",
    "\n",
    "from qamomile.core.converters.qaoa import QAOAConverter\n",
    "from qamomile.qiskit.transpiler import QiskitTranspiler\n",
    "\n",
    "# Maxcut問題を定義\n",
    "V = jm.Placeholder(\"V\")\n",
    "E = jm.Placeholder(\"E\", ndim=2)\n",
    "x = jm.BinaryVar(\"x\", shape=(V,))\n",
    "e = jm.Element(\"e\", belong_to=E)\n",
    "i = jm.Element(\"i\", belong_to=V)\n",
    "j = jm.Element(\"j\", belong_to=V)\n",
    "\n",
    "problem = jm.Problem(\"Maxcut\", sense=jm.ProblemSense.MAXIMIZE)\n",
    "si = 2 * x[e[0]] - 1\n",
    "sj = 2 * x[e[1]] - 1\n",
    "si.set_latex(\"s_{e[0]}\")\n",
    "sj.set_latex(\"s_{e[1]}\")\n",
    "obj = 1 / 2 * jm.sum(e, (1 - si * sj))\n",
    "problem += obj\n",
    "\n",
    "# 問題をデータとともにommx.v1.Instanceとしてコンパイル\n",
    "G = nx.Graph()\n",
    "G.add_nodes_from([0, 1, 2, 3, 4])\n",
    "G.add_edges_from([(0, 1), (0, 4), (1, 2), (1, 3), (2, 3), (3, 4)])\n",
    "E = [list(edge) for edge in G.edges]\n",
    "instance_data = {\"V\": G.number_of_nodes(), \"E\": E}\n",
    "compiled_instance: ommx.v1.Instance = jm.Interpreter(instance_data).eval_problem(problem)\n",
    "\n",
    "# コンパイルした問題をQAOA形式へ変換する\n",
    "qaoa_converter = QAOAConverter(compiled_instance)\n",
    "qaoa_converter.ising_encode()\n",
    "\n",
    "# QAOAハミルトニアンと回路を取得\n",
    "p = 5\n",
    "qaoa_hamiltonian = qaoa_converter.get_cost_hamiltonian()\n",
    "qaoa_circuit = qaoa_converter.get_qaoa_ansatz(p=p)\n",
    "\n",
    "# QAOA回路とハミルトニアンをQiskit用へ変換する\n",
    "transpiler = QiskitTranspiler()\n",
    "qk_circuit = transpiler.transpile_circuit(qaoa_circuit)\n",
    "qk_hamiltonian = transpiler.transpile_hamiltonian(qaoa_hamiltonian)\n",
    "\n",
    "# コスト推定関数\n",
    "cost_history = []\n",
    "estimator = qk_pr.StatevectorEstimator()\n",
    "def estimate_cost(param_values):\n",
    "    try:\n",
    "        job = estimator.run([(qk_circuit, qk_hamiltonian, param_values)])\n",
    "        result = job.result()[0]\n",
    "        cost = result.data.evs  # Qiskit v2推奨アクセス方法\n",
    "        cost_history.append(cost)\n",
    "        return cost\n",
    "    except Exception as e:\n",
    "        print(f\"Error during cost estimation: {e}\")\n",
    "        return np.inf\n",
    "\n",
    "# QAOA最適化を実行する\n",
    "initial_params = np.random.uniform(low=-np.pi / 4, high=np.pi / 4, size=2 * p)\n",
    "result = minimize(\n",
    "    estimate_cost,\n",
    "    initial_params,\n",
    "    method=\"COBYLA\",\n",
    "    options={\"maxiter\": 2000},\n",
    ")\n",
    "\n",
    "# 最適化されたQAOA回路を実行する\n",
    "sampler = qk_pr.StatevectorSampler()\n",
    "qk_circuit.measure_all()\n",
    "job = sampler.run([(qk_circuit, result.x)], shots=10000)\n",
    "job_result = job.result()[0]\n",
    "qaoa_counts = job_result.data.meas  # Qiskit v2推奨アクセス方法\n",
    "\n",
    "# 最適解を取得する\n",
    "sampleset = qaoa_converter.decode(transpiler, qaoa_counts)\n",
    "best_values = sampleset.best_feasible_unrelaxed.extract_decision_variables(\"x\")\n",
    "\n",
    "# 辺の色と点の色を取得する\n",
    "def get_edge_colors(graph, cut_solution, in_cut_color=\"r\", not_in_cut_color=\"b\"):\n",
    "    cut_set_1 = [node[0] for node, value in cut_solution.items() if value == 1.0]\n",
    "    cut_set_2 = [node for node in graph.nodes() if node not in cut_set_1]\n",
    "\n",
    "    edge_colors = []\n",
    "    for u, v, _ in graph.edges(data=True):\n",
    "        if (u in cut_set_1 and v in cut_set_2) or (u in cut_set_2 and v in cut_set_1):\n",
    "            edge_colors.append(in_cut_color)\n",
    "        else:\n",
    "            edge_colors.append(not_in_cut_color)\n",
    "    node_colors = [\"#2696EB\" if node in cut_set_1 else \"#EA9b26\" for node in G.nodes()]\n",
    "    return edge_colors, node_colors\n",
    "edge_colors, node_colors = get_edge_colors(G, best_values)\n",
    "\n",
    "# グラフを描画する\n",
    "pos = {0: (1, 1), 1: (0, 1), 2: (-1, 0.5), 3: (0, 0), 4: (1, 0)}\n",
    "plt.title(\"G=(V,E) QAOA\")\n",
    "plt.plot(figsize=(5, 4))\n",
    "nx.draw_networkx(G, pos, node_size=500, width=3, with_labels=True, edge_color=edge_colors, node_color=node_colors)"
   ]
  },
  {
   "cell_type": "markdown",
   "metadata": {},
   "source": [
    "## 🐛 バグ修正\n",
    "\n",
    "詳細については、[リリース](https://github.com/Jij-Inc/Qamomile/releases)をご確認ください。"
   ]
  },
  {
   "cell_type": "markdown",
   "metadata": {},
   "source": [
    "## 🛠️ その他の変更と改善\n",
    "\n",
    "詳細については、[リリース](https://github.com/Jij-Inc/Qamomile/releases)をご確認ください。"
   ]
  },
  {
   "cell_type": "markdown",
   "metadata": {},
   "source": [
    "## 💬 フィードバック\n",
    "これらの新機能により、Qamomileは複数の量子SDKに同じ方法でアクセスし、古典的ソルバーと結果を比較できる強力なツールになりました。Qamomile 0.8.0をぜひお試しください！\n",
    "\n",
    "\n",
    "フィードバックやバグ報告は、[GitHub Issues](https://github.com/Jij-Inc/Qamomile/issues)にお送りください。"
   ]
  }
 ],
 "metadata": {
  "kernelspec": {
   "display_name": "Python 3 (ipykernel)",
   "language": "python",
   "name": "python3"
  },
  "language_info": {
   "codemirror_mode": {
    "name": "ipython",
    "version": 3
   },
   "file_extension": ".py",
   "mimetype": "text/x-python",
   "name": "python",
   "nbconvert_exporter": "python",
   "pygments_lexer": "ipython3",
   "version": "3.11.13"
  }
 },
 "nbformat": 4,
 "nbformat_minor": 4
}
