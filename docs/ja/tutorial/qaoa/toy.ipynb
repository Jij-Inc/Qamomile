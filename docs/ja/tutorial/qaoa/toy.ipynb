{
 "cells": [
  {
   "cell_type": "markdown",
   "id": "60e161e9-0a4b-4266-b3b4-8aa0b2be55ab",
   "metadata": {},
   "source": [
    "# MEMO!\n",
    "Matsuyamaさんより\n",
    "\n",
    "個人的には，QamomileにはIsing Hamiltonianの規格化の機能があるのですが，それの説明がどこにもないので，そういうconverterの機能についてもQAOAのチュートリアルの中でできるといいかなと思います．\n",
    "https://github.com/Jij-Inc/Qamomile/pull/113"
   ]
  },
  {
   "cell_type": "markdown",
   "id": "d426612c-4b18-411b-9800-81ea7c8021b6",
   "metadata": {},
   "source": [
    "# 量子近似最適化アルゴリズム （QAOA）\n",
    "本セクションでは量子近似最適化アルゴリズム（QAOA）の説明とおもちゃ問題に対してQAOAを適用していく。"
   ]
  },
  {
   "cell_type": "code",
   "execution_count": null,
   "id": "9d68381d-4a5e-4fd4-bf21-5e3da5949ab4",
   "metadata": {},
   "outputs": [],
   "source": [
    "# Import libraries."
   ]
  },
  {
   "cell_type": "markdown",
   "id": "513f091f-b03e-4823-85fb-5a0a5866a87a",
   "metadata": {},
   "source": [
    "## QAOAとは\n",
    "QAOAは、変分量子回路を用いる量子最適化アルゴリズムの一つである。\n",
    "詳しい説明は論文 [1] を参照されたいが、ここでは概要のみを述べる。\n",
    "\n",
    "QAOAでは、イジングハミルトニアン $H_P = \\sum_{ij}J_{ij}Z_iZ_j$ と $X$ ミキサーハミルトニアン $H_M = \\sum_iX_i$ を次のように適用することで、変分量子回路を構成する。初期状態 $\\ket{\\psi_0}$ から始めたとすると、\n",
    "\n",
    "$$\n",
    "\\ket{\\psi(\\beta,\\gamma)} = e^{-i\\beta_pH_M}e^{-i\\gamma_pH_P}\\cdots e^{-i\\beta_1H_M}e^{-i\\gamma_1H_P}\\ket{\\psi_0}\n",
    "$$\n",
    "\n",
    "のように表せる。ここで、$\\beta_k,\\gamma_k$ は最適化すべきパラメータであり、$e^{-i\\beta_kH_M}e^{-i\\gamma_kH_P}$ の操作を $p$ 回繰り返すので、パラメータは全部で $2p$ 個ある。\n",
    "標準的な QAOA においては、これらのパラメータの総数は量子ビットの数には依存せず、繰り返し回数 $p$ のみに依存する。\n",
    "\n",
    "$\\beta_k,\\gamma_k$ の最適化は以下の手順を繰り返して行う：\n",
    "\n",
    "1. 量子デバイス上で期待値 $\\bra{\\psi(\\beta,\\gamma)}H_P\\ket{\\psi(\\beta,\\gamma)}$ を計算する。\n",
    "2. 古典コンピュータ上で期待値を最小化するようにパラメータを更新する。\n",
    "\n",
    "このように、量子コンピュータ上での期待値計算と古典コンピュータによるパラメータの最適化を繰り返すことで、最小エネルギー $\\langle H_P \\rangle$ とそれに対応する最終状態を得る。  \n",
    "QAOA を数学的な最適化アルゴリズムと見なすと、この最小エネルギーは目的関数の最小値に対応し、最終状態が最適解となる。"
   ]
  },
  {
   "cell_type": "markdown",
   "id": "306b5d33-299a-47e3-835d-9cdf8cff62b4",
   "metadata": {},
   "source": [
    "## おもちゃ問題\n",
    "今回扱うおもちゃ問題を定義する．"
   ]
  },
  {
   "cell_type": "code",
   "execution_count": null,
   "id": "ac08e448-57e7-41b9-a8b5-e5033bfc81bf",
   "metadata": {},
   "outputs": [],
   "source": [
    "# Define the toy problem using JijModeling"
   ]
  },
  {
   "cell_type": "markdown",
   "id": "473c5d7d-b0f9-49a1-aa4b-d4a8a26c0c47",
   "metadata": {},
   "source": [
    "## インスタンスデータの準備"
   ]
  },
  {
   "cell_type": "markdown",
   "id": "934c92d5-5b16-4350-9354-aa8428be3fe0",
   "metadata": {},
   "source": [
    "## コンパイル済みインスタンスの作成"
   ]
  },
  {
   "cell_type": "markdown",
   "id": "5b28fc29-3faa-4fce-9280-c66b78234de1",
   "metadata": {},
   "source": [
    "## コンパイル済みインスタンスから QAOA 回路とハミルトニアンへの変換"
   ]
  },
  {
   "cell_type": "markdown",
   "id": "774b81ab-ba34-4925-bd43-d1794ad62424",
   "metadata": {},
   "source": [
    "## QAOA 回路の可視化"
   ]
  },
  {
   "cell_type": "markdown",
   "id": "bbf2f874-4066-400e-b956-4e40425727a4",
   "metadata": {},
   "source": [
    "## 取得した QAOA 回路とハミルトニアンを Qiskit 向けに変換"
   ]
  },
  {
   "cell_type": "markdown",
   "id": "326adcfc-8f53-4174-922b-c68bd5ca9b82",
   "metadata": {},
   "source": [
    "## QAOA の実行"
   ]
  },
  {
   "cell_type": "markdown",
   "id": "8f17dbdc-95a1-4d25-9772-79f6bb044f00",
   "metadata": {},
   "source": [
    "## 結果の可視化"
   ]
  },
  {
   "cell_type": "markdown",
   "id": "0d831c05-6090-4d7b-8e73-200eec8f35ed",
   "metadata": {},
   "source": [
    "## 結果の評価"
   ]
  },
  {
   "cell_type": "markdown",
   "id": "5dee4cef-df19-44a4-ba9f-66c851252ee5",
   "metadata": {},
   "source": [
    "## 解のプロット"
   ]
  },
  {
   "cell_type": "code",
   "execution_count": null,
   "id": "9e77eeb4-e996-4fe1-ae64-950af96c37ab",
   "metadata": {},
   "outputs": [],
   "source": []
  }
 ],
 "metadata": {
  "kernelspec": {
   "display_name": "Python 3 (ipykernel)",
   "language": "python",
   "name": "python3"
  },
  "language_info": {
   "codemirror_mode": {
    "name": "ipython",
    "version": 3
   },
   "file_extension": ".py",
   "mimetype": "text/x-python",
   "name": "python",
   "nbconvert_exporter": "python",
   "pygments_lexer": "ipython3",
   "version": "3.11.12"
  }
 },
 "nbformat": 4,
 "nbformat_minor": 5
}
