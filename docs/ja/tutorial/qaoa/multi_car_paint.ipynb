{
 "cells": [
  {
   "cell_type": "markdown",
   "metadata": {
    "id": "i9nXiSl26DJK"
   },
   "source": [
    "# 2色のマルチカー塗装工場問題\n",
    "\n",
    "[マルチカー塗装工場問題](https://arxiv.org/pdf/2109.07876) の目的は、自動車の製造工程において、塗装ラインでの色の切り替え回数を削減することです。この問題はNP困難な問題として知られています。このチュートリアルでは、2色のシナリオを考えます。\n",
    "\n",
    "まず、使用する主要なライブラリをインストールし、インポートしましょう。"
   ]
  },
  {
   "cell_type": "code",
   "execution_count": 1,
   "metadata": {},
   "outputs": [],
   "source": [
    "# !pip install qamomile[qiskit, quri_parts]"
   ]
  },
  {
   "cell_type": "code",
   "execution_count": 2,
   "metadata": {},
   "outputs": [],
   "source": [
    "from collections import defaultdict\n",
    "import random as rand\n",
    "\n",
    "import jijmodeling as jm\n",
    "import matplotlib.pyplot as plt\n",
    "import numpy as np\n",
    "import ommx.v1\n",
    "\n",
    "import qamomile as qm\n",
    "from qamomile.core.circuit.drawer import plot_quantum_circuit\n",
    "from qamomile.core.converters.qaoa import QAOAConverter\n",
    "import qamomile.qiskit as qm_qk"
   ]
  },
  {
   "cell_type": "markdown",
   "metadata": {},
   "source": [
    "## 数理モデルの構築\n",
    "\n",
    "2色で塗装する必要がある自動車の集合 $X = \\{x_1, x_2, \\dots, x_n\\}$ が与えられており、各車両 $x_i$ は $0$ または $1$ のいずれかの色で塗装されるものとします（$i = 1, \\dots, n$）。目的は、並べられた車列における隣接する車両間の色の切り替え回数（つまり $0$ から $1$、または $1$ から $0$ への変化）を最小化することです。\n",
    "\n",
    "車列における色の切り替えの回数（コスト）は以下のように定式化されます：\n",
    "\n",
    "$$\n",
    "\\text{min} \\quad - \\sum_{i=0}^{N-2} s_i s_{i+1}.\n",
    "$$\n",
    "\n",
    "ここで $-s_i \\cdot s_{i+1}$ は隣接する車両の関係を表し、同じ色であれば $-1$、異なる色であれば $+1$ になります。すなわち、同じ色の方が低コストとなるため、合計を最小化することで色の切り替え回数を減らすことができます。\n",
    "\n",
    "スピン変数 $s_i$ をバイナリ変数 $x_i$ に変換すると、以下のような式になります：\n",
    "\n",
    "$$\n",
    "\\text{min} \\quad -\\sum_{i=0}^{N-2} (x_i - 0.5) \\cdot (x_{i+1} - 0.5).\n",
    "$$\n",
    "\n",
    "この2色塗装工場問題においては、色の切り替えを最小限に抑えると同時に、特定の制約も満たす必要があります。本ノートブックでは、各車種（モデル数は $M$）ごとに、2色の車両が予定された台数通りに塗装されるという制約を考慮します。\n",
    "\n",
    "この制約は以下のように表されます：\n",
    "\n",
    "$$\n",
    " V_{i,m} \\cdot x_i = W_m \\quad ,\\forall m \\in \\{0, \\dots, M-1\\}\n",
    "$$\n",
    "\n",
    "ここで、$V_{i,m}$ は各車両 $i$ がどのモデル $m$ に属するかを示すワンホットの2次元行列です。\n",
    "\n",
    "まず、`JijModeling`を用いてこの問題をモデル化していきます。"
   ]
  },
  {
   "cell_type": "code",
   "execution_count": 3,
   "metadata": {
    "colab": {
     "base_uri": "https://localhost:8080/",
     "height": 226
    },
    "id": "0U8vttmT6n92",
    "outputId": "a03d3f76-bbbf-4056-9917-e2029ee548d1"
   },
   "outputs": [
    {
     "data": {
      "text/latex": [
       "$$\\begin{array}{cccc}\\text{Problem:} & \\text{MCPS} & & \\\\& & \\min \\quad \\displaystyle \\sum_{i = 0}^{N - 2} - \\left(x_{i} - 0.5\\right) \\cdot \\left(x_{i + 1} - 0.5\\right) & \\\\\\text{{s.t.}} & & & \\\\ & \\text{n-hot} & \\displaystyle \\sum_{j = 0}^{N - 1} V_{j, m} \\cdot x_{j} = W_{m} & \\forall m \\in \\left\\{0,\\ldots,M - 1\\right\\} \\\\\\text{{where}} & & & \\\\& x & 1\\text{-dim binary variable}\\\\\\end{array}$$"
      ],
      "text/plain": [
       "<jijmodeling.Problem at 0x1381a69e0>"
      ]
     },
     "execution_count": 3,
     "metadata": {},
     "output_type": "execute_result"
    }
   ],
   "source": [
    "def get_mcps_problem() -> jm.Problem:\n",
    "    V = jm.Placeholder(\"V\", ndim=2) # 車の投入順序を表す\n",
    "    W = jm.Placeholder(\"W\", ndim=1) # 各モデルごとの黒色の車の台数\n",
    "    N = jm.Placeholder(\"N\") # 車の総数\n",
    "    M = jm.Placeholder(\"M\") # 車のモデル数\n",
    "    x = jm.BinaryVar(\"x\", shape=(N,))\n",
    "    i = jm.Element(\"i\", belong_to=(0, N-1))\n",
    "    j = jm.Element(\"j\", belong_to=(0, N))\n",
    "    m = jm.Element(\"m\", belong_to=(0, M))\n",
    "\n",
    "    problem = jm.Problem(\"MCPS\") \n",
    "    problem += jm.sum([i], -(x[i] - 0.5) * (x[i+1] - 0.5))\n",
    "    problem += jm.Constraint(\"n-hot\", jm.sum([j], V[j][m] * x[j]) == W[m], forall=m)\n",
    "    return problem\n",
    "problem = get_mcps_problem()\n",
    "problem"
   ]
  },
  {
   "cell_type": "markdown",
   "metadata": {
    "jp-MarkdownHeadingCollapsed": true
   },
   "source": [
    "## インスタンスデータの準備"
   ]
  },
  {
   "cell_type": "code",
   "execution_count": 4,
   "metadata": {
    "colab": {
     "base_uri": "https://localhost:8080/"
    },
    "id": "bx-_iCNEDzTZ",
    "outputId": "490e6f96-f19d-4e62-a2be-64404d3d6b3f"
   },
   "outputs": [
    {
     "name": "stdout",
     "output_type": "stream",
     "text": [
      "The order of car intake: ['🚙', '🚙', '🚗', '🚗', '🚓', '🚓', '🚕', '🚕']\n",
      "['🚗', '🚕', '🚙', '🚓']\n",
      "[[0. 0. 1. 0.]\n",
      " [0. 0. 1. 0.]\n",
      " [1. 0. 0. 0.]\n",
      " [1. 0. 0. 0.]\n",
      " [0. 0. 0. 1.]\n",
      " [0. 0. 0. 1.]\n",
      " [0. 1. 0. 0.]\n",
      " [0. 1. 0. 0.]]\n"
     ]
    }
   ],
   "source": [
    "car_map = {\n",
    "    0: \"🚗\",  # 赤い車\n",
    "    1: \"🚕\",  # タクシー\n",
    "    2: \"🚙\",  # SUV\n",
    "    3: \"🚓\"   # パトカー\n",
    "}\n",
    "\n",
    "number_of_models = 4 \n",
    "number_of_cars = 8\n",
    "# 各モデルごとの黒色の車の台数\n",
    "black_per_models = [1, 1, 1, 1]\n",
    "\n",
    "# 4種類のモデルに属する8台の車を作成\n",
    "cars = [0, 0, 1, 1, 2, 2, 3, 3] \n",
    "rand.shuffle(cars)\n",
    "print(f\"The order of car intake: {[car_map[car] for car in cars]}\") \n",
    "\n",
    "# 車の投入順序を表す2次元配列を作成\n",
    "cars_onehot = np.eye(number_of_models)[cars]\n",
    "print([car_map[i] for i in range(4)])\n",
    "print(cars_onehot)"
   ]
  },
  {
   "cell_type": "markdown",
   "metadata": {
    "jp-MarkdownHeadingCollapsed": true
   },
   "source": [
    "## コンパイル済みインスタンスの作成\n",
    "インスタンスとは、数式中の定数に実際の値を代入したものです。さまざまなアルゴリズムに変換する前に、`JijModeling.Interpreter`と`ommx.Instance`を使ってこのインスタンスを作成する必要があります。"
   ]
  },
  {
   "cell_type": "code",
   "execution_count": 5,
   "metadata": {
    "id": "sER6W0afIppX"
   },
   "outputs": [],
   "source": [
    "data = {\"V\": cars_onehot, \"W\":  black_per_models, \"N\":  number_of_cars, \"M\": number_of_models}\n",
    "interpreter = jm.Interpreter(data)\n",
    "instance = interpreter.eval_problem(problem)"
   ]
  },
  {
   "cell_type": "markdown",
   "metadata": {
    "jp-MarkdownHeadingCollapsed": true
   },
   "source": [
    "## Qamomileを用いたQAOA回路とハミルトニアンの生成\n",
    "`Qamomile`は、コンパイル済みインスタンスからQAOA用の回路とハミルトニアンを生成するコンバータを提供しています。また、QUBOへの変換時に発生するパラメータを設定することも可能です。\n",
    "\n",
    "まずはIsingハミルトニアンを生成します。これが完了すると、QAOAの量子回路とハミルトニアンも生成できます。"
   ]
  },
  {
   "cell_type": "code",
   "execution_count": 6,
   "metadata": {
    "id": "biyMqO-NJqgu"
   },
   "outputs": [],
   "source": [
    "qaoa_converter = QAOAConverter(instance)\n",
    "# Ising ハミルトニアンへのエンコード\n",
    "qaoa_converter.ising_encode(multipliers={\"n-hot\": 3})\n",
    "# QAOA 回路の取得\n",
    "qaoa_circuit = qaoa_converter.get_qaoa_ansatz(p=1)\n",
    "# コストハミルトニアンの取得\n",
    "qaoa_cost = qaoa_converter.get_cost_hamiltonian()"
   ]
  },
  {
   "cell_type": "markdown",
   "metadata": {
    "jp-MarkdownHeadingCollapsed": true
   },
   "source": [
    "## QAOA回路の可視化"
   ]
  },
  {
   "cell_type": "code",
   "execution_count": 7,
   "metadata": {},
   "outputs": [
    {
     "data": {
      "image/png": "[encoded data removed]",
      "text/plain": [
       "<Figure size 516x560 with 1 Axes>"
      ]
     },
     "metadata": {},
     "output_type": "display_data"
    }
   ],
   "source": [
    "plot_quantum_circuit(qaoa_circuit)"
   ]
  },
  {
   "cell_type": "markdown",
   "metadata": {
    "jp-MarkdownHeadingCollapsed": true
   },
   "source": [
    "## 取得したQAOA回路とハミルトニアンをQiskit向けに変換\n",
    "まず、回路とハミルトニアンをQiskit用に変換します。"
   ]
  },
  {
   "cell_type": "code",
   "execution_count": 8,
   "metadata": {
    "id": "JZ9e1qh7JtWg"
   },
   "outputs": [],
   "source": [
    "qk_transpiler = qm_qk.QiskitTranspiler()\n",
    "\n",
    "# QAOA回路をQiskit用に変換する\n",
    "qk_circuit = qk_transpiler.transpile_circuit(qaoa_circuit)\n",
    "qk_hamiltonian = qk_transpiler.transpile_hamiltonian(qaoa_cost)"
   ]
  },
  {
   "cell_type": "markdown",
   "metadata": {
    "jp-MarkdownHeadingCollapsed": true
   },
   "source": [
    "## QAOAの実行  \n",
    "これで準備が整ったので、QAOAを実行します。ここでは、最適化アルゴリズムとしてScipyのCOBYLAを使用します。"
   ]
  },
  {
   "cell_type": "code",
   "execution_count": 9,
   "metadata": {
    "colab": {
     "base_uri": "https://localhost:8080/"
    },
    "id": "ELs-WCq5Jv9b",
    "outputId": "3f9937b7-ca5c-4c98-f671-1044b10540b5"
   },
   "outputs": [
    {
     "name": "stdout",
     "output_type": "stream",
     "text": [
      " message: Return from COBYLA because the objective function has been evaluated MAXFUN times.\n",
      " success: False\n",
      "  status: 3\n",
      "     fun: 1.0683050306062603\n",
      "       x: [ 1.178e+00  1.682e+00]\n",
      "    nfev: 100\n",
      "   maxcv: 0.0\n"
     ]
    }
   ],
   "source": [
    "import qiskit.primitives as qk_pr\n",
    "import numpy as np\n",
    "from scipy.optimize import minimize\n",
    "\n",
    "cost_history = []\n",
    "def cost_estimator(param_values):\n",
    "    estimator = qk_pr.StatevectorEstimator()\n",
    "    job = estimator.run([(qk_circuit, qk_hamiltonian, param_values)])\n",
    "    result = job.result()[0]\n",
    "    cost = result.data['evs']\n",
    "    cost_history.append(cost)\n",
    "    return cost\n",
    "\n",
    "# Run QAOA optimization\n",
    "result = minimize(\n",
    "    cost_estimator,\n",
    "    np.random.rand(2) * np.pi,\n",
    "    method=\"COBYLA\",\n",
    "    options={\"maxiter\": 100},\n",
    ")\n",
    "print(result)"
   ]
  },
  {
   "cell_type": "markdown",
   "metadata": {},
   "source": [
    "コスト関数の変化も確認してみましょう。"
   ]
  },
  {
   "cell_type": "code",
   "execution_count": 10,
   "metadata": {
    "colab": {
     "base_uri": "https://localhost:8080/",
     "height": 469
    },
    "id": "c8Qj2OUB6HkA",
    "outputId": "6bef1601-45b7-4e28-8fdd-2dc450fca94a"
   },
   "outputs": [
    {
     "data": {
      "image/png": "[encoded data removed]",
      "text/plain": [
       "<Figure size 640x480 with 1 Axes>"
      ]
     },
     "metadata": {},
     "output_type": "display_data"
    }
   ],
   "source": [
    "plt.title(\"Change of Cost\", fontsize=15)\n",
    "plt.xlabel(\"Iteration\", fontsize=15)\n",
    "plt.ylabel(\"Cost\", fontsize=15)\n",
    "plt.xscale(\"log\")\n",
    "plt.xlim(1, result.nfev)\n",
    "plt.plot(cost_history, label=\"Cost\", color=\"#2696EB\")\n",
    "plt.show()"
   ]
  },
  {
   "cell_type": "markdown",
   "metadata": {},
   "source": [
    "QAOAのパラメータが得られたので、それらを用いてサンプリングを行いましょう。"
   ]
  },
  {
   "cell_type": "code",
   "execution_count": 11,
   "metadata": {
    "id": "QjdU1QW_6X8N"
   },
   "outputs": [],
   "source": [
    "# 最適化されたQAOA回路を実行する\n",
    "sampler = qk_pr.StatevectorSampler()\n",
    "qk_circuit.measure_all()\n",
    "job = sampler.run([(qk_circuit, result.x)], shots=1000)\n",
    "job_result = job.result()[0]\n",
    "qaoa_counts = job_result.data[\"meas\"]"
   ]
  },
  {
   "cell_type": "markdown",
   "metadata": {},
   "source": [
    "## 結果の評価  \n",
    "塗装順の最適解を特定することができます。"
   ]
  },
  {
   "cell_type": "code",
   "execution_count": 12,
   "metadata": {
    "colab": {
     "base_uri": "https://localhost:8080/"
    },
    "id": "_ddpxjij6dv0",
    "outputId": "aff5f8a9-537b-4b29-b02c-427eb254253a"
   },
   "outputs": [
    {
     "name": "stdout",
     "output_type": "stream",
     "text": [
      "The order of car intake:  ['🚙', '🚙', '🚗', '🚗', '🚓', '🚓', '🚕', '🚕']\n",
      "Color separation:  ['⚫', '', '', '⚫', '⚫', '', '', '⚫']\n"
     ]
    }
   ],
   "source": [
    "paint_map = {\n",
    "    1: \"⚫\",  # 黒の塗装 \n",
    "    0: \"\"    # 空文字\n",
    "}\n",
    "\n",
    "sampleset = qaoa_converter.decode(qk_transpiler, job_result.data[\"meas\"])\n",
    "\n",
    "best_sample = sampleset.best_feasible_unrelaxed\n",
    "best_values = best_sample.extract_decision_variables(\"x\")\n",
    "\n",
    "values = [best_values.get((i,)) for i in range(8)]\n",
    "\n",
    "print(\"The order of car intake: \", [car_map[car] for car in cars])\n",
    "print(\"Color separation: \", [paint_map[value] for value in values])"
   ]
  },
  {
   "cell_type": "code",
   "execution_count": 13,
   "metadata": {},
   "outputs": [
    {
     "data": {
      "image/png": "[encoded data removed]",
      "text/plain": [
       "<Figure size 640x480 with 1 Axes>"
      ]
     },
     "metadata": {},
     "output_type": "display_data"
    }
   ],
   "source": [
    "sampleset = qaoa_converter.decode(qk_transpiler, job_result.data[\"meas\"])\n",
    "\n",
    "# 各エネルギー値の出現回数を蓄積するための辞書を初期化\n",
    "frequencies = defaultdict(int)\n",
    "\n",
    "# Create a dictionary to group energies and count their frequencies\n",
    "from collections import defaultdict\n",
    "energy_freq = defaultdict(int)\n",
    "\n",
    "for sample_id in sampleset.sample_ids:\n",
    "    sample = sampleset.get(sample_id)\n",
    "    energy = round(sample.objective, ndigits=3)\n",
    "    energy_freq[energy] += 1\n",
    "\n",
    "frequencies = energy_freq\n",
    "\n",
    "plt.bar(frequencies.keys(), frequencies.values(), width=0.25)\n",
    "plt.xticks(sorted(np.array(list(frequencies.keys()))), rotation=45)\n",
    "plt.xlabel('Objective', fontsize=15)\n",
    "plt.ylabel('Frequency', fontsize=15)\n",
    "plt.show()"
   ]
  },
  {
   "cell_type": "markdown",
   "metadata": {},
   "source": [
    "## 古典的アルゴリズムによる評価\n",
    "全探索による最良コストとの比較を行います。"
   ]
  },
  {
   "cell_type": "code",
   "execution_count": 14,
   "metadata": {
    "colab": {
     "base_uri": "https://localhost:8080/"
    },
    "id": "hs56wo3tEy9F",
    "outputId": "dda62774-f968-4605-d763-3ed442a29624"
   },
   "outputs": [
    {
     "name": "stdout",
     "output_type": "stream",
     "text": [
      "exact solution:  4\n",
      "solution using QAOA:  4\n"
     ]
    }
   ],
   "source": [
    "def eval_mcps_state(cars, black_per_models, state, num_cars, num_models):\n",
    "  cnt = [0] * num_models\n",
    "  for i in range(num_cars):\n",
    "    cnt[cars[i]] += state[i]\n",
    "  for i in range(num_models):\n",
    "    if black_per_models[i] != cnt[i]:\n",
    "      return None\n",
    "  score = 0\n",
    "  for i in range(num_cars-1):\n",
    "    if state[i] != state[i+1]:\n",
    "      score += 1\n",
    "  return score\n",
    "\n",
    "def best_cost_mcps(cars, black_per_models, num_cars, num_models):\n",
    "  best_score = 1e9\n",
    "  for i in range(2**num_cars):\n",
    "    state = [0] * num_cars\n",
    "    for j in range(num_cars):\n",
    "      if i & (2**j) != 0:\n",
    "        state[j] = 1\n",
    "    score = eval_mcps_state(cars, black_per_models, state, num_cars, num_models)\n",
    "    if not(score is None):\n",
    "      best_score = min(best_score, score)\n",
    "  return best_score\n",
    "\n",
    "exact_score = best_cost_mcps(cars, black_per_models, number_of_cars, number_of_models)\n",
    "qaoa_score = eval_mcps_state(cars, black_per_models, values, number_of_cars, number_of_models)\n",
    "print(\"exact solution: \", exact_score)\n",
    "print(\"solution using QAOA: \", qaoa_score)"
   ]
  }
 ],
 "metadata": {
  "colab": {
   "provenance": []
  },
  "kernelspec": {
   "display_name": "qamomile-SJ_jAwfp-py3.11",
   "language": "python",
   "name": "python3"
  },
  "language_info": {
   "codemirror_mode": {
    "name": "ipython",
    "version": 3
   },
   "file_extension": ".py",
   "mimetype": "text/x-python",
   "name": "python",
   "nbconvert_exporter": "python",
   "pygments_lexer": "ipython3",
   "version": "3.11.12"
  }
 },
 "nbformat": 4,
 "nbformat_minor": 4
}
