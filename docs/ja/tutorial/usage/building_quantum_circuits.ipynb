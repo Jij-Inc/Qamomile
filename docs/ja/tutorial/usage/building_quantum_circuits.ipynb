{
 "cells": [
  {
   "cell_type": "markdown",
   "metadata": {},
   "source": [
    "# 量子回路の構築\n",
    "このチュートリアルでは、Qamomile を使った量子回路の構築について学びます。Qamomile は主に量子最適化のために設計されていますが、任意の量子回路を構築するための強力な機能も備えています。このチュートリアルでは、Qamomile 独自の中間表現を用いて、量子回路を作成・操作する方法を紹介します。"
   ]
  },
  {
   "cell_type": "markdown",
   "metadata": {
    "jp-MarkdownHeadingCollapsed": true
   },
   "source": [
    "## 前提条件\n",
    "始める前に、以下が Python 環境にインストールされていることを確認してください：\n",
    "\n",
    "- Qamomile"
   ]
  },
  {
   "cell_type": "markdown",
   "metadata": {
    "jp-MarkdownHeadingCollapsed": true
   },
   "source": [
    "## はじめに\n",
    "\n",
    "まずは、Qamomile から必要なモジュールをインポートしましょう："
   ]
  },
  {
   "cell_type": "code",
   "execution_count": 1,
   "metadata": {},
   "outputs": [],
   "source": [
    "import qamomile.core as qm"
   ]
  },
  {
   "cell_type": "markdown",
   "metadata": {
    "jp-MarkdownHeadingCollapsed": true
   },
   "source": [
    "## 量子回路の作成\n",
    "\n",
    "Qamomile で量子回路を作成するには、まず量子レジスタと古典レジスタを初期化し、それらを用いて QuantumCircuit オブジェクトを作成します："
   ]
  },
  {
   "cell_type": "code",
   "execution_count": 2,
   "metadata": {},
   "outputs": [],
   "source": [
    "circuit = qm.circuit.QuantumCircuit(2)  # 2量子ビットの量子回路を作成する"
   ]
  },
  {
   "cell_type": "markdown",
   "metadata": {
    "jp-MarkdownHeadingCollapsed": true
   },
   "source": [
    "## 回路へのゲートの追加\n",
    "\n",
    "Qamomile は多くの種類の量子ゲートをサポートしています。以下では、一般的なゲートを回路に追加してみましょう："
   ]
  },
  {
   "cell_type": "code",
   "execution_count": 3,
   "metadata": {},
   "outputs": [],
   "source": [
    "# 第一量子ビットにアダマールゲートをかける\n",
    "circuit.h(0)\n",
    "\n",
    "# 第一量子ビットを制御、第二量子ビットを標的としてCNOTゲートをかける\n",
    "circuit.cx(0, 1)\n",
    "\n",
    "# 第二量子ビットにXゲートをかける\n",
    "circuit.x(1)"
   ]
  },
  {
   "cell_type": "markdown",
   "metadata": {},
   "source": [
    "Qamomile がサポートしている量子ゲートは、以下のリンクから確認できます：  \n",
    "https://jij-inc.github.io/Qamomile/autoapi/core/circuit/circuit/index.html#core.circuit.circuit.QuantumCircuit"
   ]
  },
  {
   "cell_type": "markdown",
   "metadata": {
    "jp-MarkdownHeadingCollapsed": true
   },
   "source": [
    "## 測定\n",
    "\n",
    "Qamomile で測定を行うには："
   ]
  },
  {
   "cell_type": "code",
   "execution_count": 4,
   "metadata": {},
   "outputs": [],
   "source": [
    "circuit.measure_all()"
   ]
  },
  {
   "cell_type": "markdown",
   "metadata": {
    "jp-MarkdownHeadingCollapsed": true
   },
   "source": [
    "## 回路の可視化\n",
    "\n",
    "Qamomile は量子回路を可視化するためのメソッドを提供しています："
   ]
  },
  {
   "cell_type": "code",
   "execution_count": 5,
   "metadata": {},
   "outputs": [
    {
     "data": {
      "image/png": "[encoded data removed]",
      "text/plain": [
       "<Figure size 340x140 with 1 Axes>"
      ]
     },
     "metadata": {},
     "output_type": "display_data"
    }
   ],
   "source": [
    "from qamomile.core.circuit.drawer import plot_quantum_circuit\n",
    "\n",
    "plot_quantum_circuit(circuit)"
   ]
  },
  {
   "cell_type": "markdown",
   "metadata": {},
   "source": [
    "## 回路の合成\n",
    "\n",
    "より複雑な回路を作成するために、小さな回路を組み合わせることができます："
   ]
  },
  {
   "cell_type": "code",
   "execution_count": 6,
   "metadata": {},
   "outputs": [
    {
     "data": {
      "image/png": "[encoded data removed]",
      "text/plain": [
       "<Figure size 244x140 with 1 Axes>"
      ]
     },
     "metadata": {},
     "output_type": "display_data"
    }
   ],
   "source": [
    "# 二つの独立した量子回路を作成する\n",
    "circuit1 = qm.circuit.QuantumCircuit(2)\n",
    "circuit1.h(0)\n",
    "circuit1.h(1)\n",
    "\n",
    "circuit2 = qm.circuit.QuantumCircuit(2)\n",
    "circuit2.cx(0, 1)\n",
    "\n",
    "\n",
    "circuit1.append(circuit2)\n",
    "\n",
    "plot_quantum_circuit(circuit1)"
   ]
  },
  {
   "cell_type": "markdown",
   "metadata": {},
   "source": [
    "`decompose_level` を指定することで、回路をより詳細に表示することができます。"
   ]
  },
  {
   "cell_type": "code",
   "execution_count": 7,
   "metadata": {},
   "outputs": [
    {
     "data": {
      "image/png": "[encoded data removed]",
      "text/plain": [
       "<Figure size 212x140 with 1 Axes>"
      ]
     },
     "metadata": {},
     "output_type": "display_data"
    }
   ],
   "source": [
    "plot_quantum_circuit(circuit1, decompose_level=1)"
   ]
  },
  {
   "cell_type": "markdown",
   "metadata": {},
   "source": [
    "## 量子回路の実行\n",
    "\n",
    "Qamomile 自体には量子回路を実行する機能はありませんが、回路を他の量子SDKに変換して実行することができます。"
   ]
  },
  {
   "cell_type": "markdown",
   "metadata": {
    "jp-MarkdownHeadingCollapsed": true
   },
   "source": [
    "### Qiskit バックエンド\n",
    "\n",
    "以下は Qamomile の回路を Qiskit を用いて実行する方法です：\n",
    "\n",
    "1- まず、必要なモジュールをインポートします："
   ]
  },
  {
   "cell_type": "code",
   "execution_count": 8,
   "metadata": {},
   "outputs": [],
   "source": [
    "from qamomile.qiskit import QiskitTranspiler\n",
    "import qiskit.primitives as qk_pr"
   ]
  },
  {
   "cell_type": "markdown",
   "metadata": {},
   "source": [
    "2- QiskitTranspiler オブジェクトを作成します："
   ]
  },
  {
   "cell_type": "code",
   "execution_count": 9,
   "metadata": {},
   "outputs": [],
   "source": [
    "qk_transpiler = QiskitTranspiler()"
   ]
  },
  {
   "cell_type": "markdown",
   "metadata": {},
   "source": [
    "3- Qamomile の回路を Qiskit の回路に変換（トランスパイル）"
   ]
  },
  {
   "cell_type": "code",
   "execution_count": 10,
   "metadata": {},
   "outputs": [],
   "source": [
    "qk_circuit = qk_transpiler.transpile_circuit(circuit)"
   ]
  },
  {
   "cell_type": "markdown",
   "metadata": {},
   "source": [
    "4- 次に、Qiskit の機能を使用して回路を実行できます。たとえば、シミュレーター上で回路を実行するには："
   ]
  },
  {
   "cell_type": "code",
   "execution_count": 11,
   "metadata": {},
   "outputs": [],
   "source": [
    "simulator = qk_pr.StatevectorSampler()\n",
    "job = simulator.run([qk_circuit], shots=1000)\n",
    "result = job.result()"
   ]
  },
  {
   "cell_type": "markdown",
   "metadata": {},
   "source": [
    "5- 結果は Qiskit のツールを使って処理および解析できます："
   ]
  },
  {
   "cell_type": "code",
   "execution_count": 12,
   "metadata": {},
   "outputs": [
    {
     "data": {
      "text/plain": [
       "{'01': 479, '10': 521}"
      ]
     },
     "execution_count": 12,
     "metadata": {},
     "output_type": "execute_result"
    }
   ],
   "source": [
    "result[0].data['c'].get_counts()"
   ]
  },
  {
   "cell_type": "markdown",
   "metadata": {
    "jp-MarkdownHeadingCollapsed": true
   },
   "source": [
    "### QURI-Parts と Qulacs バックエンド\n",
    "\n",
    "以下は、QURI-Parts と Qulacs を使用して Qamomile の量子回路を実行する方法です。\n",
    "\n",
    "Qiskit と同様に、回路を変換して量子回路を実行します。\n"
   ]
  },
  {
   "cell_type": "code",
   "execution_count": 13,
   "metadata": {},
   "outputs": [],
   "source": [
    "from qamomile.quri_parts import QuriPartsTranspiler\n",
    "\n",
    "# 量子回路をQURI-Partsへ変換する\n",
    "qp_transpiler = QuriPartsTranspiler()\n",
    "qp_circuit = qp_transpiler.transpile_circuit(circuit)"
   ]
  },
  {
   "cell_type": "markdown",
   "metadata": {},
   "source": [
    "これで、Qulacs を使って回路を実行できます。"
   ]
  },
  {
   "cell_type": "code",
   "execution_count": 14,
   "metadata": {},
   "outputs": [],
   "source": [
    "from quri_parts.core.state import quantum_state, apply_circuit\n",
    "from quri_parts.qulacs.sampler import create_qulacs_vector_sampler\n",
    "\n",
    "sampler = create_qulacs_vector_sampler()\n",
    "sampling_result = sampler(qp_circuit, 1000)"
   ]
  },
  {
   "cell_type": "code",
   "execution_count": 15,
   "metadata": {},
   "outputs": [
    {
     "data": {
      "text/plain": [
       "Counter({2: 518, 1: 482})"
      ]
     },
     "execution_count": 15,
     "metadata": {},
     "output_type": "execute_result"
    }
   ],
   "source": [
    "sampling_result"
   ]
  },
  {
   "cell_type": "markdown",
   "metadata": {
    "jp-MarkdownHeadingCollapsed": true
   },
   "source": [
    "### Pennylane バックエンド\n",
    "\n",
    "以下は、Qamomile の回路を Pennylane を使って実行する方法です。\n",
    "\n",
    "Qiskit と同様に、量子回路を変換して実行します。"
   ]
  },
  {
   "cell_type": "code",
   "execution_count": 16,
   "metadata": {},
   "outputs": [],
   "source": [
    "from qamomile.pennylane import PennylaneTranspiler\n",
    "\n",
    "# 量子回路をPennylaneへ変換する\n",
    "qml_transpiler = PennylaneTranspiler()\n",
    "qml_circuit_func = qml_transpiler.transpile_circuit(circuit)"
   ]
  },
  {
   "cell_type": "code",
   "execution_count": 17,
   "metadata": {},
   "outputs": [],
   "source": [
    "import pennylane as qml\n",
    "\n",
    "dev = qml.device(\"default.qubit\", wires=circuit.num_qubits, shots=1000)\n",
    "@qml.qnode(dev)\n",
    "def qml_circuit(params):\n",
    "    qml_circuit_func(params)\n",
    "        \n",
    "    return qml.counts()"
   ]
  },
  {
   "cell_type": "code",
   "execution_count": 18,
   "metadata": {},
   "outputs": [
    {
     "data": {
      "text/plain": [
       "{np.str_('01'): np.int64(493), np.str_('10'): np.int64(507)}"
      ]
     },
     "execution_count": 18,
     "metadata": {},
     "output_type": "execute_result"
    }
   ],
   "source": [
    "qml_circuit(None)"
   ]
  },
  {
   "cell_type": "markdown",
   "metadata": {},
   "source": [
    "## 結論\n",
    "\n",
    "このチュートリアルでは、Qamomile の中間表現を用いた量子回路の構築方法と、それらを Qiskit や QURI-Parts を使って実行する方法について紹介しました。Qamomile は主に量子最適化に焦点を当てていますが、これらの回路構築機能によって、さまざまな量子計算タスクに対応する柔軟性が得られます。  \n",
    "Qamomile での量子コンピューティングをお楽しみください！"
   ]
  },
  {
   "cell_type": "code",
   "execution_count": null,
   "metadata": {},
   "outputs": [],
   "source": []
  }
 ],
 "metadata": {
  "kernelspec": {
   "display_name": "Python 3 (ipykernel)",
   "language": "python",
   "name": "python3"
  },
  "language_info": {
   "codemirror_mode": {
    "name": "ipython",
    "version": 3
   },
   "file_extension": ".py",
   "mimetype": "text/x-python",
   "name": "python",
   "nbconvert_exporter": "python",
   "pygments_lexer": "ipython3",
   "version": "3.11.12"
  }
 },
 "nbformat": 4,
 "nbformat_minor": 4
}
