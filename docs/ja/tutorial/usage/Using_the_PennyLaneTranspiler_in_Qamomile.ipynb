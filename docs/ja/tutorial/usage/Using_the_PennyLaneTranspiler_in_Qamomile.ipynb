{
 "cells": [
  {
   "cell_type": "markdown",
   "id": "82d563d2-bd8b-4d3a-872f-8347ffac16c8",
   "metadata": {},
   "source": [
    "# Qamomile における PennyLaneTranspiler の使用  \n",
    "このチュートリアルでは、Qamomile における PennyLaneTranspiler の使用方法を示し、効果的に活用するための主要な例を提供します。"
   ]
  },
  {
   "cell_type": "markdown",
   "id": "9f64e314-600a-4838-9177-be3ef32571bf",
   "metadata": {},
   "source": [
    "## ハミルトニアンの PennyLane への変換\n",
    "まず、テスト用の Hamiltonian を定義し、それを PennyLane に対応する形式に変換するために Transpiler を使用します。  \n",
    "このステップでは、私たちのライブラリで定義された Hamiltonian が PennyLane に認識されるオペレーターへとシームレスに変換される様子を示します。"
   ]
  },
  {
   "cell_type": "code",
   "execution_count": null,
   "id": "37909839-d3b4-469a-8aab-9c11ef26551c",
   "metadata": {},
   "outputs": [],
   "source": [
    "import jijmodeling as jm\n",
    "import jijmodeling_transpiler.core as jmt\n",
    "import matplotlib.pyplot as plt\n",
    "import networkx as nx\n",
    "import numpy as np\n",
    "import pennylane as qml\n",
    "from pennylane import numpy as p_np\n",
    "\n",
    "import qamomile\n",
    "from qamomile.core.operator import Hamiltonian, Pauli, X, Y, Z\n",
    "from qamomile.core.circuit import QuantumCircuit as QamomileCircuit\n",
    "from qamomile.core.circuit import (\n",
    "    QuantumCircuit,\n",
    "    SingleQubitGate,\n",
    "    TwoQubitGate,\n",
    "    ParametricSingleQubitGate,\n",
    "    ParametricTwoQubitGate,\n",
    "    SingleQubitGateType,\n",
    "    TwoQubitGateType,\n",
    "    ParametricSingleQubitGateType,\n",
    "    ParametricTwoQubitGateType,\n",
    "    Parameter\n",
    ")\n",
    "from qamomile.core.circuit.drawer import plot_quantum_circuit\n",
    "from qamomile.pennylane.transpiler import PennylaneTranspiler"
   ]
  },
  {
   "cell_type": "markdown",
   "id": "31b3835d-d430-4416-96ac-d355cc62e31e",
   "metadata": {},
   "source": [
    "このコードスニペットでは、X・Y・Z の各パウリ演算子を用いたカスタム定義のハミルトニアンから始め、`PennylaneTranspiler` を使ってそれを PennyLane デバイスに直接適した形式へ変換します。  \n",
    "`ops_first_term` を確認し、`pennylane_hamiltonian` を出力することで、変換が正しく行われているかを検証できます。"
   ]
  },
  {
   "cell_type": "code",
   "execution_count": null,
   "id": "2e548b05-fbba-4f35-a6a1-a13f9343d0f4",
   "metadata": {},
   "outputs": [],
   "source": [
    "hamiltonian = Hamiltonian()\n",
    "hamiltonian += X(0)*Z(1)\n",
    "hamiltonian += Y(0)*Y(1)*Z(2)*X(3)*X(4)\n",
    "\n",
    "transpiler = PennylaneTranspiler()\n",
    "pennylane_hamiltonian = transpiler.transpile_hamiltonian(hamiltonian)\n",
    "\n",
    "ops_first_term = pennylane_hamiltonian.terms()[1][0]\n",
    "print(pennylane_hamiltonian)"
   ]
  },
  {
   "cell_type": "markdown",
   "id": "99dbe128-1d15-4632-8fb8-651f4b159ef2",
   "metadata": {},
   "source": [
    "## パラメータ化された量子回路の構築\n",
    "\n",
    "次に、`QamomileCircuit` を使用してパラメータ化された量子回路を構築します。  \n",
    "ここでは、単一量子ビットの回転ゲート（rx、ry、rz）や制御付きのバリエーション（crx、crz、cry）、さらに 2 量子ビットのエンタングルゲート（rxx、ryy、rzz）を含めます。  \n",
    "パラメータ（theta、beta、gamma）は、柔軟な変分調整を可能にします。"
   ]
  },
  {
   "cell_type": "code",
   "execution_count": null,
   "id": "8ee2133e-2726-496f-8a37-c17670635a44",
   "metadata": {},
   "outputs": [],
   "source": [
    "qc = QamomileCircuit(3)\n",
    "theta = Parameter(\"theta\")\n",
    "beta = Parameter(\"beta\")\n",
    "gamma = Parameter(\"gamma\")\n",
    "\n",
    "qc.rx(theta, 0)\n",
    "qc.ry(beta, 1)\n",
    "qc.rz(gamma, 2)\n",
    "qc.crx(gamma, 0 ,1)\n",
    "qc.crz(theta, 1 ,2)\n",
    "qc.cry(beta, 2 ,0)\n",
    "qc.rxx(gamma, 0 ,1)\n",
    "qc.ryy(theta, 1 ,2)\n",
    "qc.rzz(beta, 2 ,0)\n",
    "\n",
    "transpiler = PennylaneTranspiler()\n",
    "QNode = transpiler.transpile_circuit(qc)"
   ]
  },
  {
   "cell_type": "markdown",
   "id": "73257f1d-a6a2-48ee-8b04-07213159cafe",
   "metadata": {},
   "source": [
    "## MaxCut問題の定式化と量子形式への変換\n",
    "\n",
    "このセクションでは、古典的な最適化問題である MaxCut を、イジング形式のハミルトニアンにエンコードする方法を示します。  \n",
    "その後、QAOAスタイルのアンサッツ回路を構築し、それを実行・最適化することで、MaxCutインスタンスの解を求めます。"
   ]
  },
  {
   "cell_type": "code",
   "execution_count": null,
   "id": "e9c25c31-e30b-44cf-9b33-1d78130b440c",
   "metadata": {},
   "outputs": [],
   "source": [
    "def maxcut_problem() -> jm.Problem:\n",
    "    V = jm.Placeholder(\"V\")\n",
    "    E = jm.Placeholder(\"E\", ndim=2)\n",
    "    x = jm.BinaryVar(\"x\", shape=(V,))\n",
    "    e = jm.Element(\"e\", belong_to=E)\n",
    "    i = jm.Element(\"i\", belong_to=V)\n",
    "    j = jm.Element(\"j\", belong_to=V)\n",
    "\n",
    "    problem = jm.Problem(\"Maxcut\", sense=jm.ProblemSense.MAXIMIZE)\n",
    "    si = 2 * x[e[0]] - 1\n",
    "    sj = 2 * x[e[1]] - 1\n",
    "    si.set_latex(\"s_{e[0]}\")\n",
    "    sj.set_latex(\"s_{e[1]}\")\n",
    "    obj = 1 / 2 * jm.sum(e, (1 - si * sj))\n",
    "    problem += obj\n",
    "    return problem\n",
    "\n",
    "def maxcut_instance():\n",
    "    # MaxCutインスタンスのために簡単なグラフを構築します。\n",
    "    G = nx.Graph()\n",
    "    G.add_nodes_from([0, 1, 2, 3, 4])\n",
    "    G.add_edges_from([(0, 1), (0, 4), (1, 2), (1, 3), (2, 3), (3, 4)])\n",
    "    E = [list(edge) for edge in G.edges]\n",
    "    instance_data = {\"V\": G.number_of_nodes(), \"E\": E}\n",
    "    pos = {0: (1, 1), 1: (0, 1), 2: (-1, 0.5), 3: (0, 0), 4: (1, 0)}\n",
    "    nx.draw_networkx(G, pos, node_size=500)\n",
    "    return instance_data\n",
    "\n",
    "problem = maxcut_problem()\n",
    "instance_data = maxcut_instance()\n",
    "compiled_instance = jmt.compile_model(problem, instance_data)\n",
    "\n",
    "# コンパイルした問題をQAOA形式へ変換する\n",
    "qaoa_converter = qamomile.core.qaoa.QAOAConverter(compiled_instance)\n",
    "qaoa_converter.ising_encode()\n",
    "\n",
    "p = 5\n",
    "qaoa_hamiltonian = qaoa_converter.get_cost_hamiltonian()\n",
    "qaoa_circuit = qaoa_converter.get_qaoa_ansatz(p=p)"
   ]
  },
  {
   "cell_type": "code",
   "execution_count": null,
   "id": "e43ebb82-54df-4c98-9277-4b2c4047b9fd",
   "metadata": {},
   "outputs": [],
   "source": [
    "plot_quantum_circuit(qaoa_circuit)"
   ]
  },
  {
   "cell_type": "markdown",
   "id": "fe0df368-8cba-4bb3-b737-353e06dba85e",
   "metadata": {},
   "source": [
    "私たちは現在、MaxCut問題をQAOAのようなアルゴリズムに適したコストハミルトニアンに変換しました。  \n",
    "パラメータ `p` は問題およびミキサーハミルトニアンの層数を決定します。  \n",
    "各層のパラメータは変分可能であり、期待値を最小化するように調整され、理想的にはMaxCutインスタンスの良い解を導くことが期待されます。"
   ]
  },
  {
   "cell_type": "markdown",
   "id": "7fea92e3-d108-4b08-be91-8ddb76a17a71",
   "metadata": {},
   "source": [
    "## PennyLaneでのQAOA回路のトランスパイルと実行\n",
    "\n",
    "QAOA 回路とハミルトニアンが定義されたら、再びトランスパイラを使用し、今回は QAOA 回路とコストハミルトニアンを PennyLane 形式に変換します。"
   ]
  },
  {
   "cell_type": "code",
   "execution_count": null,
   "id": "b38c72a8-046a-4e43-8a91-a442a0d36ecb",
   "metadata": {},
   "outputs": [],
   "source": [
    "transpiler = PennylaneTranspiler()\n",
    "circ_func = transpiler.transpile_circuit(qaoa_circuit)\n",
    "qml_hamiltonian = transpiler.transpile_hamiltonian(qaoa_hamiltonian)\n",
    "\n",
    "dev = qml.device(\"default.qubit\", wires=qaoa_circuit.num_qubits)\n",
    "\n",
    "@qml.qnode(dev)\n",
    "def circuit(params, return_samples=False):\n",
    "    circ_func(params)\n",
    "    if return_samples:\n",
    "        return qml.sample()\n",
    "    return qml.expval(qml_hamiltonian)\n",
    "\n",
    "parameters = p_np.array([np.pi/4, np.pi/4]*p, requires_grad=True)\n",
    "print(\"Initial Expectation Value:\", circuit(parameters))\n",
    "cost_history = []\n",
    "cost_history.append(circuit(parameters))"
   ]
  },
  {
   "cell_type": "markdown",
   "id": "2764e875-8bc3-486d-8e9f-82be26d83aad",
   "metadata": {},
   "source": [
    "ここで、`circ_func` は QAOA アンサッツから生成された PennyLane の回路関数です。`circuit(p)` を評価することで、与えられたパラメータ `p` に対するコストハミルトニアンの期待値が得られます。"
   ]
  },
  {
   "cell_type": "markdown",
   "id": "e4109516-4f2b-4aef-89fe-3b05fd217480",
   "metadata": {},
   "source": [
    "## パラメータの最適化\n",
    "\n",
    "最後に、PennyLane の最適化手法を用いてパラメータを更新し、より良い結果（例えば、MaxCut 目的関数のコストが低いもの）をもたらすような値を探索します。"
   ]
  },
  {
   "cell_type": "code",
   "execution_count": null,
   "id": "c911481b-0541-49e0-a867-4965b9b9f589",
   "metadata": {},
   "outputs": [],
   "source": [
    "max_iterations = 1000\n",
    "optimizer = qml.GradientDescentOptimizer(stepsize=5e-2)\n",
    "for i in range(max_iterations):\n",
    "    parameters, loss= optimizer.step_and_cost(circuit, parameters)\n",
    "    cost_history.append(loss)\n",
    "    \n",
    "print(\"Optimal Parameters\")\n",
    "print(parameters)"
   ]
  },
  {
   "cell_type": "markdown",
   "id": "c6bc8979-2351-4e3e-b76f-487f02e71d56",
   "metadata": {},
   "source": [
    "## 結果の可視化"
   ]
  },
  {
   "cell_type": "code",
   "execution_count": null,
   "id": "718cc646-5746-47f8-9568-07166df4afb7",
   "metadata": {},
   "outputs": [],
   "source": [
    "plt.title(\"Change of Cost\", fontsize=15)\n",
    "plt.xlabel(\"Iteration\", fontsize=15)\n",
    "plt.ylabel(\"Cost\", fontsize=15)\n",
    "plt.xscale(\"log\")\n",
    "plt.xlim(1, max_iterations)\n",
    "plt.plot(cost_history, label=\"Cost\", color=\"#2696EB\")\n",
    "plt.show()"
   ]
  },
  {
   "cell_type": "markdown",
   "id": "1e934adb-e212-4e4c-b74f-e4e6d24c67fb",
   "metadata": {},
   "source": [
    "最適化されたパラメータが得られたら、PennyLane の QNode を使用してパラメータ化された量子回路からサンプルを取得し、回路の測定結果（カウント）を取得します。"
   ]
  },
  {
   "cell_type": "code",
   "execution_count": null,
   "id": "2a937ced-ed37-4c0b-98cb-a2ffb7393fe4",
   "metadata": {},
   "outputs": [],
   "source": [
    "dev_counts = qml.device(\"default.qubit\", wires=qaoa_circuit.num_qubits, shots=1000)\n",
    "@qml.qnode(dev_counts)\n",
    "def circuit_counts(params):\n",
    "    circ_func(params)\n",
    "    return qml.counts()\n",
    "result = circuit_counts(parameters)"
   ]
  },
  {
   "cell_type": "code",
   "execution_count": null,
   "id": "ff9167ca-c134-4ea0-b271-0804d838da98",
   "metadata": {},
   "outputs": [],
   "source": [
    "# プロットのためのデータを準備する\n",
    "keys = list(result.keys())\n",
    "values = list(result.values())\n",
    "\n",
    "# プロットする\n",
    "plt.figure(figsize=(12, 6))\n",
    "plt.bar(keys, values, width=0.6)\n",
    "plt.xlabel(\"State\", fontsize=12)\n",
    "plt.ylabel(\"Frequency\", fontsize=12)\n",
    "plt.title(\"Distribution of State\", fontsize=14)\n",
    "plt.xticks(rotation=90, fontsize=10)\n",
    "plt.tight_layout()\n",
    "plt.show()"
   ]
  },
  {
   "cell_type": "markdown",
   "id": "cdc636d8-526b-42e2-b0e6-caa369b233dc",
   "metadata": {},
   "source": [
    "## 結果の評価  \n",
    "前に得られた `qaoa_counts` から、`qaoa_converter.decode` を使ってサンプルセットに変換することができます。  \n",
    "このサンプルセットから実行可能な解のみを選択し、目的関数の値の分布を調べます。"
   ]
  },
  {
   "cell_type": "code",
   "execution_count": null,
   "id": "56b02d6c-5eae-41a4-9eff-94657ffe73ef",
   "metadata": {},
   "outputs": [],
   "source": [
    "sampleset = qaoa_converter.decode(transpiler, result) \n",
    "plot_data = {}\n",
    "for sample in sampleset.feasibles():\n",
    "    if sample.eval.objective in plot_data:\n",
    "        plot_data[sample.eval.objective] += sample.num_occurrences\n",
    "    else:\n",
    "        plot_data[sample.eval.objective] = sample.num_occurrences\n",
    "\n",
    "plt.bar(plot_data.keys(), plot_data.values(), width=0.5)\n",
    "plt.title(\"cost distribution of feasible solution\", fontsize=15)\n",
    "plt.ylabel(\"Frequency\", fontsize=15)\n",
    "plt.xlabel(\"Energy\", fontsize=15)\n",
    "plt.show()"
   ]
  },
  {
   "cell_type": "code",
   "execution_count": null,
   "id": "9f8be86d-06dc-47e6-a975-494769daab8a",
   "metadata": {},
   "outputs": [],
   "source": []
  }
 ],
 "metadata": {
  "kernelspec": {
   "display_name": "Python 3 (ipykernel)",
   "language": "python",
   "name": "python3"
  },
  "language_info": {
   "codemirror_mode": {
    "name": "ipython",
    "version": 3
   },
   "file_extension": ".py",
   "mimetype": "text/x-python",
   "name": "python",
   "nbconvert_exporter": "python",
   "pygments_lexer": "ipython3",
   "version": "3.11.12"
  }
 },
 "nbformat": 4,
 "nbformat_minor": 5
}
