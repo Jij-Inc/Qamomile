{
 "cells": [
  {
   "cell_type": "markdown",
   "id": "82d563d2-bd8b-4d3a-872f-8347ffac16c8",
   "metadata": {},
   "source": [
    "# Qamomile における QiskitTranspiler の使用方法\n",
    "\n",
    "このチュートリアルでは、Qamomile における QiskitTranspiler の使い方を紹介し、ユーザーが効果的に活用するための主要な例を示します。"
   ]
  },
  {
   "cell_type": "markdown",
   "id": "9f64e314-600a-4838-9177-be3ef32571bf",
   "metadata": {},
   "source": [
    "## ハミルトニアンの Qiskit への変換\n",
    "\n",
    "まずはテスト用のハミルトニアンを定義し、それを変換器（トランスパイラ）を用いて Qiskit 互換の形式に変換します。  \n",
    "このステップでは、私たちのライブラリで定義されたハミルトニアンが、Qiskit に認識される演算子へとスムーズに変換される様子を示します。"
   ]
  },
  {
   "cell_type": "code",
   "execution_count": 1,
   "id": "37909839-d3b4-469a-8aab-9c11ef26551c",
   "metadata": {},
   "outputs": [],
   "source": [
    "import jijmodeling as jm\n",
    "import jijmodeling_transpiler.core as jmt\n",
    "import matplotlib.pyplot as plt\n",
    "import networkx as nx\n",
    "import numpy as np\n",
    "import qiskit.primitives as qk_pr\n",
    "from scipy.optimize import minimize\n",
    "\n",
    "import qamomile\n",
    "from qamomile.core.operator import Hamiltonian, Pauli, X, Y, Z\n",
    "from qamomile.core.circuit import QuantumCircuit as QamomileCircuit\n",
    "from qamomile.core.circuit import (\n",
    "    QuantumCircuit,\n",
    "    SingleQubitGate,\n",
    "    TwoQubitGate,\n",
    "    ParametricSingleQubitGate,\n",
    "    ParametricTwoQubitGate,\n",
    "    SingleQubitGateType,\n",
    "    TwoQubitGateType,\n",
    "    ParametricSingleQubitGateType,\n",
    "    ParametricTwoQubitGateType,\n",
    "    Parameter\n",
    ")\n",
    "from qamomile.core.circuit.drawer import plot_quantum_circuit\n",
    "from qamomile.qiskit.transpiler import QiskitTranspiler"
   ]
  },
  {
   "cell_type": "markdown",
   "id": "31b3835d-d430-4416-96ac-d355cc62e31e",
   "metadata": {},
   "source": [
    "このスニペットでは、X・Y・Z などのパウリ演算子を使って独自に定義したハミルトニアンから始め、  `QiskitTranspiler` を用いて Qiskit に直接対応する形式へと変換します。\n",
    "`qiskit_hamiltonian` を出力することで、その変換が正しく行われたかを確認できます。"
   ]
  },
  {
   "cell_type": "code",
   "execution_count": 2,
   "id": "2e548b05-fbba-4f35-a6a1-a13f9343d0f4",
   "metadata": {},
   "outputs": [
    {
     "data": {
      "text/plain": [
       "SparsePauliOp(['IIIZX', 'XXZYY'],\n",
       "              coeffs=[1.+0.j, 1.+0.j])"
      ]
     },
     "execution_count": 2,
     "metadata": {},
     "output_type": "execute_result"
    }
   ],
   "source": [
    "hamiltonian = Hamiltonian()\n",
    "hamiltonian += X(0)*Z(1)\n",
    "hamiltonian += Y(0)*Y(1)*Z(2)*X(3)*X(4)\n",
    "\n",
    "transpiler = QiskitTranspiler()\n",
    "qiskit_hamiltonian = transpiler.transpile_hamiltonian(hamiltonian)\n",
    "\n",
    "qiskit_hamiltonian"
   ]
  },
  {
   "cell_type": "markdown",
   "id": "99dbe128-1d15-4632-8fb8-651f4b159ef2",
   "metadata": {},
   "source": [
    "## パラメータ化された量子回路の構築\n",
    "\n",
    "次に、QamomileCircuit を使ってパラメータ化された量子回路を構築します。  \n",
    "ここでは、1量子ビット回転（rx, ry, rz）やその制御付きバージョン（crx, crz, cry）、さらに2量子ビットのエンタングルゲート（rxx, ryy, rzz）を含めます。  \n",
    "パラメータ（theta, beta, gamma）を使うことで、変分的な柔軟な調整が可能になります。"
   ]
  },
  {
   "cell_type": "code",
   "execution_count": 3,
   "id": "8ee2133e-2726-496f-8a37-c17670635a44",
   "metadata": {},
   "outputs": [],
   "source": [
    "qc = QamomileCircuit(3)\n",
    "theta = Parameter(\"theta\")\n",
    "beta = Parameter(\"beta\")\n",
    "gamma = Parameter(\"gamma\")\n",
    "\n",
    "qc.rx(theta, 0)\n",
    "qc.ry(beta, 1)\n",
    "qc.rz(gamma, 2)\n",
    "qc.crx(gamma, 0 ,1)\n",
    "qc.crz(theta, 1 ,2)\n",
    "qc.cry(beta, 2 ,0)\n",
    "qc.rxx(gamma, 0 ,1)\n",
    "qc.ryy(theta, 1 ,2)\n",
    "qc.rzz(beta, 2 ,0)\n",
    "\n",
    "transpiler = QiskitTranspiler()\n",
    "qk_circuit = transpiler.transpile_circuit(qc)"
   ]
  },
  {
   "cell_type": "markdown",
   "id": "73257f1d-a6a2-48ee-8b04-07213159cafe",
   "metadata": {},
   "source": [
    "## MaxCut問題の定式化と量子形式への変換\n",
    "\n",
    "以下では、古典的な最適化問題である MaxCut をどのようにしてイジング形式のハミルトニアンにエンコードするかを示します。  \n",
    "次に、QAOAスタイルのアンサッツ回路を構築し、それを実行および最適化することで、MaxCutインスタンスの解を求めようとします。"
   ]
  },
  {
   "cell_type": "code",
   "execution_count": 4,
   "id": "e9c25c31-e30b-44cf-9b33-1d78130b440c",
   "metadata": {},
   "outputs": [
    {
     "ename": "AttributeError",
     "evalue": "'CompiledInstance' object has no attribute 'get_constraints'",
     "output_type": "error",
     "traceback": [
      "\u001b[0;31m---------------------------------------------------------------------------\u001b[0m",
      "\u001b[0;31mAttributeError\u001b[0m                            Traceback (most recent call last)",
      "Cell \u001b[0;32mIn[4], line 35\u001b[0m\n\u001b[1;32m     33\u001b[0m \u001b[38;5;66;03m# コンパイルした問題をQAOA形式へ変換する\u001b[39;00m\n\u001b[1;32m     34\u001b[0m qaoa_converter \u001b[38;5;241m=\u001b[39m qamomile\u001b[38;5;241m.\u001b[39mcore\u001b[38;5;241m.\u001b[39mqaoa\u001b[38;5;241m.\u001b[39mQAOAConverter(compiled_instance)\n\u001b[0;32m---> 35\u001b[0m \u001b[43mqaoa_converter\u001b[49m\u001b[38;5;241;43m.\u001b[39;49m\u001b[43mising_encode\u001b[49m\u001b[43m(\u001b[49m\u001b[43m)\u001b[49m\n\u001b[1;32m     37\u001b[0m p \u001b[38;5;241m=\u001b[39m \u001b[38;5;241m5\u001b[39m\n\u001b[1;32m     38\u001b[0m qaoa_hamiltonian \u001b[38;5;241m=\u001b[39m qaoa_converter\u001b[38;5;241m.\u001b[39mget_cost_hamiltonian()\n",
      "File \u001b[0;32m~/dev/git/Qamomile/qamomile/core/converters/converter.py:221\u001b[0m, in \u001b[0;36mQuantumConverter.ising_encode\u001b[0;34m(self, multipliers, detail_parameters)\u001b[0m\n\u001b[1;32m    198\u001b[0m \u001b[38;5;28;01mdef\u001b[39;00m\u001b[38;5;250m \u001b[39m\u001b[38;5;21mising_encode\u001b[39m(\n\u001b[1;32m    199\u001b[0m     \u001b[38;5;28mself\u001b[39m,\n\u001b[1;32m    200\u001b[0m     multipliers: typ\u001b[38;5;241m.\u001b[39mOptional[\u001b[38;5;28mdict\u001b[39m[\u001b[38;5;28mstr\u001b[39m, \u001b[38;5;28mfloat\u001b[39m]] \u001b[38;5;241m=\u001b[39m \u001b[38;5;28;01mNone\u001b[39;00m,\n\u001b[0;32m   (...)\u001b[0m\n\u001b[1;32m    203\u001b[0m     ] \u001b[38;5;241m=\u001b[39m \u001b[38;5;28;01mNone\u001b[39;00m,\n\u001b[1;32m    204\u001b[0m ) \u001b[38;5;241m-\u001b[39m\u001b[38;5;241m>\u001b[39m IsingModel:\n\u001b[1;32m    205\u001b[0m \u001b[38;5;250m    \u001b[39m\u001b[38;5;124;03m\"\"\"\u001b[39;00m\n\u001b[1;32m    206\u001b[0m \u001b[38;5;124;03m    Encode the problem to an Ising model.\u001b[39;00m\n\u001b[1;32m    207\u001b[0m \n\u001b[0;32m   (...)\u001b[0m\n\u001b[1;32m    218\u001b[0m \n\u001b[1;32m    219\u001b[0m \u001b[38;5;124;03m    \"\"\"\u001b[39;00m\n\u001b[0;32m--> 221\u001b[0m     qubo, constant \u001b[38;5;241m=\u001b[39m \u001b[38;5;28;43mself\u001b[39;49m\u001b[38;5;241;43m.\u001b[39;49m\u001b[43minstance_to_qubo\u001b[49m\u001b[43m(\u001b[49m\u001b[43mmultipliers\u001b[49m\u001b[43m,\u001b[49m\u001b[43m \u001b[49m\u001b[43mdetail_parameters\u001b[49m\u001b[43m)\u001b[49m\n\u001b[1;32m    222\u001b[0m     \u001b[38;5;66;03m# TODO: When simplify-True, we met some errors.\u001b[39;00m\n\u001b[1;32m    223\u001b[0m     \u001b[38;5;66;03m#       Need to be fixed.\u001b[39;00m\n\u001b[1;32m    224\u001b[0m     ising \u001b[38;5;241m=\u001b[39m qubo_to_ising(qubo, simplify\u001b[38;5;241m=\u001b[39m\u001b[38;5;28;01mFalse\u001b[39;00m)\n",
      "File \u001b[0;32m~/dev/git/Qamomile/qamomile/core/converters/converter.py:170\u001b[0m, in \u001b[0;36mQuantumConverter.instance_to_qubo\u001b[0;34m(self, multipliers, detail_parameters)\u001b[0m\n\u001b[1;32m    167\u001b[0m _parameters \u001b[38;5;241m=\u001b[39m detail_parameters \u001b[38;5;28;01mif\u001b[39;00m detail_parameters \u001b[38;5;129;01mis\u001b[39;00m \u001b[38;5;129;01mnot\u001b[39;00m \u001b[38;5;28;01mNone\u001b[39;00m \u001b[38;5;28;01melse\u001b[39;00m {}\n\u001b[1;32m    169\u001b[0m penalty_weights \u001b[38;5;241m=\u001b[39m {}\n\u001b[0;32m--> 170\u001b[0m \u001b[38;5;28;01mfor\u001b[39;00m constraint \u001b[38;5;129;01min\u001b[39;00m \u001b[38;5;28;43mself\u001b[39;49m\u001b[38;5;241;43m.\u001b[39;49m\u001b[43moriginal_instance\u001b[49m\u001b[38;5;241;43m.\u001b[39;49m\u001b[43mget_constraints\u001b[49m():\n\u001b[1;32m    171\u001b[0m     name \u001b[38;5;241m=\u001b[39m constraint\u001b[38;5;241m.\u001b[39mname\n\u001b[1;32m    172\u001b[0m     \u001b[38;5;28;01mif\u001b[39;00m name \u001b[38;5;129;01mis\u001b[39;00m \u001b[38;5;129;01mnot\u001b[39;00m \u001b[38;5;28;01mNone\u001b[39;00m \u001b[38;5;129;01mand\u001b[39;00m name \u001b[38;5;129;01min\u001b[39;00m _multipliers:\n",
      "\u001b[0;31mAttributeError\u001b[0m: 'CompiledInstance' object has no attribute 'get_constraints'"
     ]
    },
    {
     "data": {
      "image/png": "[encoded data removed]",
      "text/plain": [
       "<Figure size 640x480 with 1 Axes>"
      ]
     },
     "metadata": {},
     "output_type": "display_data"
    }
   ],
   "source": [
    "def maxcut_problem() -> jm.Problem:\n",
    "    V = jm.Placeholder(\"V\")\n",
    "    E = jm.Placeholder(\"E\", ndim=2)\n",
    "    x = jm.BinaryVar(\"x\", shape=(V,))\n",
    "    e = jm.Element(\"e\", belong_to=E)\n",
    "    i = jm.Element(\"i\", belong_to=V)\n",
    "    j = jm.Element(\"j\", belong_to=V)\n",
    "\n",
    "    problem = jm.Problem(\"Maxcut\", sense=jm.ProblemSense.MAXIMIZE)\n",
    "    si = 2 * x[e[0]] - 1\n",
    "    sj = 2 * x[e[1]] - 1\n",
    "    si.set_latex(\"s_{e[0]}\")\n",
    "    sj.set_latex(\"s_{e[1]}\")\n",
    "    obj = 1 / 2 * jm.sum(e, (1 - si * sj))\n",
    "    problem += obj\n",
    "    return problem\n",
    "\n",
    "def maxcut_instance():\n",
    "    # MaxCutインスタンスのために簡単なグラフを構築します。\n",
    "    G = nx.Graph()\n",
    "    G.add_nodes_from([0, 1, 2, 3, 4])\n",
    "    G.add_edges_from([(0, 1), (0, 4), (1, 2), (1, 3), (2, 3), (3, 4)])\n",
    "    E = [list(edge) for edge in G.edges]\n",
    "    instance_data = {\"V\": G.number_of_nodes(), \"E\": E}\n",
    "    pos = {0: (1, 1), 1: (0, 1), 2: (-1, 0.5), 3: (0, 0), 4: (1, 0)}\n",
    "    nx.draw_networkx(G, pos, node_size=500)\n",
    "    return instance_data\n",
    "\n",
    "problem = maxcut_problem()\n",
    "instance_data = maxcut_instance()\n",
    "compiled_instance = jmt.compile_model(problem, instance_data)\n",
    "\n",
    "# コンパイルした問題をQAOA形式へ変換する\n",
    "qaoa_converter = qamomile.core.qaoa.QAOAConverter(compiled_instance)\n",
    "qaoa_converter.ising_encode()\n",
    "\n",
    "p = 5\n",
    "qaoa_hamiltonian = qaoa_converter.get_cost_hamiltonian()\n",
    "qaoa_circuit = qaoa_converter.get_qaoa_ansatz(p=p)"
   ]
  },
  {
   "cell_type": "code",
   "execution_count": null,
   "id": "e43ebb82-54df-4c98-9277-4b2c4047b9fd",
   "metadata": {},
   "outputs": [],
   "source": [
    "plot_quantum_circuit(qaoa_circuit)"
   ]
  },
  {
   "cell_type": "markdown",
   "id": "fe0df368-8cba-4bb3-b737-353e06dba85e",
   "metadata": {},
   "source": [
    "これで、MaxCut問題をQAOAのようなアルゴリズムに適したコストハミルトニアンに変換しました。パラメータ `p` は、問題ハミルトニアンとミキサーハミルトニアンのレイヤー数を決定します。各レイヤーのパラメータは変分的であり、期待値を最小化するように調整されます。理想的には、これによりMaxCutインスタンスの良い解が得られます。"
   ]
  },
  {
   "cell_type": "markdown",
   "id": "7fea92e3-d108-4b08-be91-8ddb76a17a71",
   "metadata": {},
   "source": [
    "## QiskitでのQAOA回路のトランスパイルと実行\n",
    "\n",
    "QAOA回路とハミルトニアンが定義されたので、再びトランスパイラを使用して、QAOA回路とコストハミルトニアンをQiskit形式に変換します："
   ]
  },
  {
   "cell_type": "code",
   "execution_count": null,
   "id": "b38c72a8-046a-4e43-8a91-a442a0d36ecb",
   "metadata": {},
   "outputs": [],
   "source": [
    "transpiler = QiskitTranspiler()\n",
    "# QAOA回路をQiskit用へ変換する\n",
    "qk_circuit = transpiler.transpile_circuit(qaoa_circuit)\n",
    "\n",
    "# QAOAハミルトニアンをQiskit用へ変換する\n",
    "qk_hamiltonian = transpiler.transpile_hamiltonian(qaoa_hamiltonian)\n",
    "qk_hamiltonian"
   ]
  },
  {
   "cell_type": "markdown",
   "id": "2764e875-8bc3-486d-8e9f-82be26d83aad",
   "metadata": {},
   "source": [
    "ここで、`qk_circuit` は Qamomile の QAOA アンサッツから生成された Qiskit 回路であり、`qk_hamiltonian` は数理モデルに基づいて Qamomile のハミルトニアンから構築されたものです。"
   ]
  },
  {
   "cell_type": "markdown",
   "id": "e4109516-4f2b-4aef-89fe-3b05fd217480",
   "metadata": {},
   "source": [
    "## パラメータの最適化\n",
    "\n",
    "最後に、変分パラメータを最適化し、より良い結果（例えば、MaxCut 目的関数に対する低コスト）をもたらすパラメータを見つけることを試みます。"
   ]
  },
  {
   "cell_type": "code",
   "execution_count": null,
   "id": "c911481b-0541-49e0-a867-4965b9b9f589",
   "metadata": {},
   "outputs": [],
   "source": [
    "cost_history = []\n",
    "# コスト推定関数\n",
    "estimator = qk_pr.StatevectorEstimator()\n",
    "\n",
    "\n",
    "def estimate_cost(param_values):\n",
    "    try:\n",
    "        job = estimator.run([(qk_circuit, qk_hamiltonian, param_values)])\n",
    "        result = job.result()[0]\n",
    "        cost = result.data[\"evs\"]\n",
    "        cost_history.append(cost)\n",
    "        return cost\n",
    "    except Exception as e:\n",
    "        print(f\"Error during cost estimation: {e}\")\n",
    "        return np.inf\n",
    "\n",
    "\n",
    "# 初期パラメータを作成する\n",
    "initial_params = np.random.uniform(low=-np.pi / 4, high=np.pi / 4, size=2 * p)\n",
    "\n",
    "# QAOA最適化を実行する\n",
    "result = minimize(\n",
    "    estimate_cost,\n",
    "    initial_params,\n",
    "    method=\"COBYLA\",\n",
    "    options={\"maxiter\": 2000},\n",
    ")\n",
    "print(result)"
   ]
  },
  {
   "cell_type": "markdown",
   "id": "9832dbb1-6c84-42f8-8a16-11cd44b376ed",
   "metadata": {},
   "source": [
    "## 結果の可視化"
   ]
  },
  {
   "cell_type": "code",
   "execution_count": null,
   "id": "718cc646-5746-47f8-9568-07166df4afb7",
   "metadata": {},
   "outputs": [],
   "source": [
    "plt.title(\"Change of Cost\", fontsize=15)\n",
    "plt.xlabel(\"Iteration\", fontsize=15)\n",
    "plt.ylabel(\"Cost\", fontsize=15)\n",
    "plt.xscale(\"log\")\n",
    "plt.xlim(1, result.nfev)\n",
    "plt.plot(cost_history, label=\"Cost\", color=\"#2696EB\")\n",
    "plt.show()"
   ]
  },
  {
   "cell_type": "markdown",
   "id": "1e934adb-e212-4e4c-b74f-e4e6d24c67fb",
   "metadata": {},
   "source": [
    "最適化されたパラメータが得られたら、Qiskit の `StatevectorSampler` を使用して、パラメータ化された量子回路からサンプリングし、回路の測定結果（カウント）を取得します。"
   ]
  },
  {
   "cell_type": "code",
   "execution_count": null,
   "id": "2a937ced-ed37-4c0b-98cb-a2ffb7393fe4",
   "metadata": {},
   "outputs": [],
   "source": [
    "# 最適化されたQAOA回路を実行する\n",
    "sampler = qk_pr.StatevectorSampler()\n",
    "qk_circuit.measure_all()\n",
    "job = sampler.run([(qk_circuit, result.x)], shots=10000)\n",
    "job_result = job.result()[0]\n",
    "qaoa_counts = job_result.data[\"meas\"]"
   ]
  },
  {
   "cell_type": "code",
   "execution_count": null,
   "id": "ff9167ca-c134-4ea0-b271-0804d838da98",
   "metadata": {},
   "outputs": [],
   "source": [
    "# プロットのためのデータを準備する\n",
    "keys = list(qaoa_counts.get_counts().keys())\n",
    "values = list(qaoa_counts.get_counts().values())\n",
    "\n",
    "# プロットする\n",
    "plt.figure(figsize=(12, 6))\n",
    "plt.bar(keys, values, width=0.6)\n",
    "plt.xlabel(\"State\", fontsize=12)\n",
    "plt.ylabel(\"Frequency\", fontsize=12)\n",
    "plt.title(\"Distribution of State\", fontsize=14)\n",
    "plt.xticks(rotation=90, fontsize=10)\n",
    "plt.tight_layout()\n",
    "plt.show()"
   ]
  },
  {
   "cell_type": "markdown",
   "id": "cdc636d8-526b-42e2-b0e6-caa369b233dc",
   "metadata": {},
   "source": [
    "## 結果の評価  \n",
    "前に得られた `qaoa_counts` から、`qaoa_converter.decode` を使ってサンプルセットに変換することができます。  \n",
    "このサンプルセットから実行可能な解のみを選択し、目的関数の値の分布を調べます。"
   ]
  },
  {
   "cell_type": "code",
   "execution_count": null,
   "id": "56b02d6c-5eae-41a4-9eff-94657ffe73ef",
   "metadata": {},
   "outputs": [],
   "source": [
    "sampleset = qaoa_converter.decode(transpiler, qaoa_counts) \n",
    "plot_data = {}\n",
    "for sample in sampleset.feasibles():\n",
    "    if sample.eval.objective in plot_data:\n",
    "        plot_data[sample.eval.objective] += sample.num_occurrences\n",
    "    else:\n",
    "        plot_data[sample.eval.objective] = sample.num_occurrences\n",
    "\n",
    "plt.bar(plot_data.keys(), plot_data.values(), width=0.5)\n",
    "plt.title(\"cost distribution of feasible solution\", fontsize=15)\n",
    "plt.ylabel(\"Frequency\", fontsize=15)\n",
    "plt.xlabel(\"Energy\", fontsize=15)\n",
    "plt.show()"
   ]
  },
  {
   "cell_type": "code",
   "execution_count": null,
   "id": "9f8be86d-06dc-47e6-a975-494769daab8a",
   "metadata": {},
   "outputs": [],
   "source": []
  }
 ],
 "metadata": {
  "kernelspec": {
   "display_name": "Python 3 (ipykernel)",
   "language": "python",
   "name": "python3"
  },
  "language_info": {
   "codemirror_mode": {
    "name": "ipython",
    "version": 3
   },
   "file_extension": ".py",
   "mimetype": "text/x-python",
   "name": "python",
   "nbconvert_exporter": "python",
   "pygments_lexer": "ipython3",
   "version": "3.11.12"
  }
 },
 "nbformat": 4,
 "nbformat_minor": 5
}
