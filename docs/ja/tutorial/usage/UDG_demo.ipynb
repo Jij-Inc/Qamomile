{
 "cells": [
  {
   "cell_type": "markdown",
   "metadata": {},
   "source": [
    "# 中性原子量子コンピュータ上の単位円グラフを用いたQUBO/イジング問題の解法"
   ]
  },
  {
   "cell_type": "markdown",
   "metadata": {},
   "source": [
    "## 依存関係のインストール"
   ]
  },
  {
   "cell_type": "code",
   "execution_count": 1,
   "metadata": {
    "id": "hd7u31I2S7yE"
   },
   "outputs": [],
   "source": [
    "# !pip install bloqade-analog"
   ]
  },
  {
   "cell_type": "markdown",
   "metadata": {},
   "source": [
    "## 必要なライブラリのインポート"
   ]
  },
  {
   "cell_type": "code",
   "execution_count": 2,
   "metadata": {},
   "outputs": [
    {
     "name": "stderr",
     "output_type": "stream",
     "text": [
      "/Users/keisukesato/Library/Caches/pypoetry/virtualenvs/qamomile-SJ_jAwfp-py3.11/lib/python3.11/site-packages/bloqade/analog/__init__.py:2: UserWarning: pkg_resources is deprecated as an API. See https://setuptools.pypa.io/en/latest/pkg_resources.html. The pkg_resources package is slated for removal as early as 2025-11-30. Refrain from using this package or pin to Setuptools<81.\n",
      "  __import__(\"pkg_resources\").declare_namespace(__name__)\n"
     ]
    }
   ],
   "source": [
    "from itertools import product\n",
    "import math\n",
    "\n",
    "from bloqade.analog import start\n",
    "import jijmodeling as jm\n",
    "import matplotlib.pyplot as plt\n",
    "from matplotlib.ticker import MultipleLocator, AutoMinorLocator, FormatStrFormatter\n",
    "import networkx as nx\n",
    "import numpy as np\n",
    "\n",
    "from qamomile.core.converters.qaoa import QAOAConverter\n",
    "from qamomile.udm import Ising_UnitDiskGraph\n",
    "from qamomile.udm.transpiler import UDMTranspiler"
   ]
  },
  {
   "cell_type": "markdown",
   "metadata": {},
   "source": [
    "## 問題ハミルトニアンの定式化  "
   ]
  },
  {
   "cell_type": "markdown",
   "metadata": {},
   "source": [
    "### `Jijmodeling`による問題の定式化\n",
    "以下では、`Jijmodeling`を使用して問題ハミルトニアンを定式化する方法を示します。"
   ]
  },
  {
   "cell_type": "code",
   "execution_count": 3,
   "metadata": {},
   "outputs": [
    {
     "data": {
      "text/latex": [
       "$$\\begin{array}{cccc}\\text{Problem:} & \\text{QUBO\\_Hamiltonian} & & \\\\& & \\min \\quad \\displaystyle \\sum_{e \\in E} U_{e_{0}, e_{1}} \\cdot n_{e_{0}} \\cdot n_{e_{1}} & \\\\\\text{{where}} & & & \\\\& n & 1\\text{-dim binary variable}\\\\\\end{array}$$"
      ],
      "text/plain": [
       "<jijmodeling.Problem at 0x125ccde50>"
      ]
     },
     "execution_count": 3,
     "metadata": {},
     "output_type": "execute_result"
    }
   ],
   "source": [
    "def QUBO_problem():\n",
    "    # --- プレースホルダー ---\n",
    "    V = jm.Placeholder(\"V\")\n",
    "    E = jm.Placeholder(\"E\", ndim=2)\n",
    "    U = jm.Placeholder(\"U\", ndim=2)\n",
    "\n",
    "    n = jm.BinaryVar(\"n\", shape=(V,))\n",
    "    e = jm.Element(\"e\", belong_to=E)\n",
    "\n",
    "    # --- 問題の定式化 ---\n",
    "    problem = jm.Problem(\"QUBO_Hamiltonian\")\n",
    "\n",
    "    quadratic_term = jm.sum(e, U[e[0], e[1]] * n[e[0]] * n[e[1]])\n",
    "    problem += quadratic_term\n",
    "    return problem\n",
    "\n",
    "\n",
    "problem = QUBO_problem()\n",
    "problem"
   ]
  },
  {
   "cell_type": "code",
   "execution_count": 4,
   "metadata": {},
   "outputs": [],
   "source": [
    "quad = {\n",
    "    (0, 0): -1.2,\n",
    "    (1, 1): -3.2,\n",
    "    (2, 2): -1.2,\n",
    "    (0, 1): 4.0,\n",
    "    (0, 2): -2.0,\n",
    "    (1, 2): 3.2,\n",
    "}\n",
    "\n",
    "V_val = 3\n",
    "E_val = np.array(list(quad.keys()), dtype=int)\n",
    "U_val = np.zeros((V_val, V_val))\n",
    "for (i, j), Jij in quad.items():\n",
    "    U_val[i, j] = U_val[j, i] = Jij\n",
    "\n",
    "instance = {\n",
    "    \"V\": V_val,\n",
    "    \"E\": E_val,\n",
    "    \"U\": U_val,\n",
    "}\n",
    "\n",
    "compiled_instance = jm.Interpreter(instance).eval_problem(problem)"
   ]
  },
  {
   "cell_type": "markdown",
   "metadata": {},
   "source": [
    "### `qamomile`を使った問題の変換\n",
    "\n",
    "`compiled_instance`を取得したら、`QuantumConverter`を使用してそれを`IsingModel`クラスに変換することができます。"
   ]
  },
  {
   "cell_type": "code",
   "execution_count": 5,
   "metadata": {},
   "outputs": [
    {
     "data": {
      "text/plain": [
       "IsingModel(quad={(0, 1): 1.0, (0, 2): -0.5, (1, 2): 0.8}, linear={0: 0.09999999999999998, 1: -0.19999999999999996, 2: 0.29999999999999993}, constant=-1.5, index_map={0: 0, 1: 1, 2: 2})"
      ]
     },
     "execution_count": 5,
     "metadata": {},
     "output_type": "execute_result"
    }
   ],
   "source": [
    "udm_converter = QAOAConverter(compiled_instance)\n",
    "ising_model = udm_converter.ising_encode()\n",
    "ising_model"
   ]
  },
  {
   "cell_type": "markdown",
   "metadata": {
    "id": "aCt24DKaUmS4"
   },
   "source": [
    "## `qamomile`によるユニットディスクグラフへのマッピング"
   ]
  },
  {
   "cell_type": "markdown",
   "metadata": {},
   "source": [
    "### マッピングの実行: `UnitDiskGraph`クラス\n",
    "\n",
    "`UnitDiskGraph`クラスは、`IsingModel`をユニットディスクグラフ（UDG）表現に変換する役割を担います。"
   ]
  },
  {
   "cell_type": "code",
   "execution_count": 6,
   "metadata": {
    "colab": {
     "base_uri": "https://localhost:8080/"
    },
    "id": "WbRQAdiVU6aG",
    "outputId": "75c187b1-79f7-4a10-f86e-d646830694d4"
   },
   "outputs": [
    {
     "name": "stdout",
     "output_type": "stream",
     "text": [
      "Overwriting delta from 2.7 to 1.5\n",
      "Converted to Unit Disk Graph:\n",
      "- 26 nodes in the grid graph\n",
      "- 3 pins (nodes corresponding to original variables)\n"
     ]
    }
   ],
   "source": [
    "udg = Ising_UnitDiskGraph(ising_model)\n",
    "\n",
    "print(f\"Converted to Unit Disk Graph:\")\n",
    "print(f\"- {len(udg.nodes)} nodes in the grid graph\")\n",
    "print(f\"- {len(udg.pins)} pins (nodes corresponding to original variables)\")"
   ]
  },
  {
   "cell_type": "markdown",
   "metadata": {
    "id": "PCdtZW3RVE1t"
   },
   "source": [
    "### UDGの可視化\n",
    "\n",
    "`networkx`と `matplotlib`を用いることで、変換後のユニットディスクグラフ（UDG）構造を視覚的に確認できます。`UnitDiskGraph`オブジェクトは、基礎となるグラフ構造へのアクセスを提供します。この可視化により、抽象的なIsing問題がユニットディスクマッピング（UDM）ガジェットを使って物理的にどのように配置されているかを理解するのに役立ちます。"
   ]
  },
  {
   "cell_type": "code",
   "execution_count": 7,
   "metadata": {
    "colab": {
     "base_uri": "https://localhost:8080/",
     "height": 807
    },
    "id": "ZTMi-xfPVGEM",
    "outputId": "5dc8f0bc-00ea-4f7b-bf39-0f9c73163687"
   },
   "outputs": [
    {
     "data": {
      "image/png": "[encoded data removed]",
      "text/plain": [
       "<Figure size 500x400 with 1 Axes>"
      ]
     },
     "metadata": {},
     "output_type": "display_data"
    }
   ],
   "source": [
    "G_vis = udg.networkx_graph\n",
    "pos = nx.get_node_attributes(G_vis, \"pos\")\n",
    "pins = udg.pins\n",
    "plt.figure(figsize=(5, 4))\n",
    "\n",
    "# ハイライトピン（元の変数）\n",
    "node_colors = [\"Green\" if i in pins else \"lightblue\" for i in G_vis.nodes()]\n",
    "node_sizes = [300 if i in pins else 100 for i in G_vis.nodes()]\n",
    "\n",
    "nx.draw_networkx_nodes(G_vis, pos, node_color=node_colors, node_size=node_sizes)\n",
    "nx.draw_networkx_edges(G_vis, pos, width=0.5, alpha=0.5)\n",
    "\n",
    "# ピンに元の変数のインデックスをラベル付けする\n",
    "pin_labels = {pin: f\"z{i}\" for i, pin in enumerate(pins)}  # Use z_i for Ising spins\n",
    "nx.draw_networkx_labels(G_vis, pos, labels=pin_labels, font_size=10)\n",
    "\n",
    "plt.title(\"Unit Disk Graph Representation of the Ising Model\", fontsize=15)\n",
    "plt.xlabel(\"X coordinate\", fontsize=15)\n",
    "plt.ylabel(\"Y coordinate\", fontsize=15)\n",
    "plt.axis(\"equal\")  # Ensure aspect ratio is maintained\n",
    "plt.tight_layout()\n",
    "plt.show()"
   ]
  },
  {
   "cell_type": "markdown",
   "metadata": {
    "id": "qwYEXHz_WIzW"
   },
   "source": [
    "## MWIS-UDGを **`bloqade-analog`** で解く\n",
    "\n",
    "Ising問題をユニットディスクグラフ（UDG）上のMWIS（最大重み独立集合）問題に変換できたので、中性原子量子コンピュータのネイティブ機能を活用して解を求めることができます。"
   ]
  },
  {
   "cell_type": "markdown",
   "metadata": {},
   "source": [
    "### **`bloqade-analog`** を用いた実装\n",
    "\n",
    "`bloqade-analog`は、中性原子量子計算、特にアナログ方式や断熱プロトコルのシミュレーションに特化した Python ライブラリです。Qamomileで生成したUDGマッピングに対して`bloqade_example.py`スクリプトを使ってこれを活用できます。\n",
    "\n",
    "**ステップ:**\n",
    "\n",
    "1. **入力の準備:**\n",
    "   - 原子の配置座標を`UnitDiskGraph`オブジェクト(`udg.nodes`)から取得します。これらの位置は、中性原子系におけるtypicalなブロッケード半径に合わせて物理単位（例：μm）にスケーリングする必要があります。\n",
    "   - 各ノードの重み`udg.nodes[i].weight`を取得します（通常は正規化された値を使用）。\n",
    "   - パルスパラメータを定義します：\n",
    "     - 最大ラビ周波数`Omega_max`\n",
    "     - 最大デチューニング`delta_max`\n",
    "     - 進化時間`t_max`"
   ]
  },
  {
   "cell_type": "code",
   "execution_count": 8,
   "metadata": {
    "colab": {
     "base_uri": "https://localhost:8080/"
    },
    "id": "SxdfEIjJWSTT",
    "outputId": "e974965f-49b5-4090-b335-405c3a3ec191"
   },
   "outputs": [
    {
     "name": "stdout",
     "output_type": "stream",
     "text": [
      "Node weights: [np.float64(1.3), np.float64(1.7999999999999998), np.float64(1.6), np.float64(5.0), np.float64(7.0), np.float64(3.0), np.float64(6.5), np.float64(5.5), np.float64(7.0), np.float64(5.0), np.float64(3.0), np.float64(5.5), np.float64(6.5), np.float64(1.4), np.float64(3.0), np.float64(3.0), np.float64(3.0), np.float64(3.0), np.float64(3.0), np.float64(3.0), np.float64(5.2), np.float64(6.8), np.float64(6.8), np.float64(5.2), np.float64(1.7), np.float64(1.2000000000000002)]\n",
      "Node locations: [(0.0, 10.0), (0.0, 30.0), (5.0, 0.0), (5.0, 5.0), (5.0, 10.0), (5.0, 20.0), (5.0, 25.0), (5.0, 30.0), (10.0, 5.0), (10.0, 10.0), (10.0, 15.0), (10.0, 25.0), (10.0, 30.0), (10.0, 35.0), (15.0, 5.0), (15.0, 25.0), (20.0, 10.0), (20.0, 30.0), (25.0, 15.0), (25.0, 20.0), (25.0, 25.0), (25.0, 30.0), (30.0, 25.0), (30.0, 30.0), (30.0, 35.0), (35.0, 25.0)]\n"
     ]
    }
   ],
   "source": [
    "LOCATION_SCALE = 5.0  # 希望するブロケード半径とハードウェアに基づいて調整する\n",
    "\n",
    "locations = udg.qubo_result.qubo_grid_to_locations(LOCATION_SCALE)\n",
    "weights = udg.qubo_result.qubo_result_to_weights()\n",
    "\n",
    "print(f\"Node weights: {weights}\")\n",
    "print(f\"Node locations: {locations}\")"
   ]
  },
  {
   "cell_type": "markdown",
   "metadata": {
    "id": "UyVGwrEtWhU1"
   },
   "source": [
    "2.  **プログラムの定義：** `bloqade.analog`を使って原子の配置とパルスシーケンスを定義する。"
   ]
  },
  {
   "cell_type": "code",
   "execution_count": 9,
   "metadata": {
    "id": "-caANq6GWifL"
   },
   "outputs": [],
   "source": [
    "def solve_ising_bloqade(locations, weights, delta_max=60.0, Omega_max=15.0, t_max=4.0):\n",
    "    locations_array = np.array(locations)\n",
    "    centroid = locations_array.mean(axis=0)\n",
    "    centered_locations = locations_array - centroid\n",
    "    locations = list(map(tuple, centered_locations))\n",
    "\n",
    "    lw = len(weights)\n",
    "    weights_norm = [x / max(weights) for x in weights]\n",
    "\n",
    "    def sine_waveform(t):\n",
    "        return Omega_max * math.sin(math.pi * t / t_max) ** 2\n",
    "\n",
    "    def linear_detune_waveform(t):\n",
    "        return delta_max * (2 * t / t_max - 1)\n",
    "\n",
    "    program = (\n",
    "        start.add_position(locations)\n",
    "        .rydberg.detuning.scale(weights_norm)\n",
    "        .fn(linear_detune_waveform, t_max)\n",
    "        .amplitude.uniform.fn(sine_waveform, t_max)\n",
    "    )\n",
    "\n",
    "    return program\n",
    "\n",
    "\n",
    "program = solve_ising_bloqade(locations, weights)"
   ]
  },
  {
   "cell_type": "markdown",
   "metadata": {
    "id": "jSzz3kVffIC9"
   },
   "source": [
    "3.  **シミュレーションの実行：** Bloqadeのエミュレータを使ってプログラムを実行する。"
   ]
  },
  {
   "cell_type": "code",
   "execution_count": 10,
   "metadata": {
    "colab": {
     "base_uri": "https://localhost:8080/"
    },
    "id": "rGa0VExRXDfk",
    "outputId": "eda0c68f-5d2a-4f8d-bd20-5f0f4fcadf83"
   },
   "outputs": [
    {
     "name": "stdout",
     "output_type": "stream",
     "text": [
      "\n",
      "Bloqade Simulation Results (Top 5):\n",
      " 1. Bitstring: 10010011111101011001110101 (Count: 681)\n",
      " 2. Bitstring: 11010101111110011001110101 (Count: 324)\n",
      " 3. Bitstring: 10010011111101011101101110 (Count: 314)\n",
      " 4. Bitstring: 11010101111110001101101110 (Count: 313)\n",
      " 5. Bitstring: 10110011111101011001110101 (Count: 292)\n"
     ]
    }
   ],
   "source": [
    "blockade_radius = (\n",
    "    LOCATION_SCALE * 1.5\n",
    ")  # ブロケード半径は対角ノードをカバーするように設定されている（1：√2）\n",
    "emu_results = program.bloqade.python().run(\n",
    "    shots=10000, solver_name=\"dop853\", blockade_radius=blockade_radius\n",
    ")\n",
    "\n",
    "report = emu_results.report()\n",
    "counts = report.counts()[0]\n",
    "\n",
    "sorted_counts = {\n",
    "    k: v for k, v in sorted(counts.items(), key=lambda item: item[1], reverse=True)\n",
    "}\n",
    "\n",
    "print(\"\\nBloqade Simulation Results (Top 5):\")\n",
    "for i, (bitstring, count) in enumerate(list(sorted_counts.items())[:5]):\n",
    "    print(f\" {i+1}. Bitstring: {bitstring} (Count: {count})\")"
   ]
  },
  {
   "cell_type": "markdown",
   "metadata": {},
   "source": [
    "### Bloqadeのエミュレータからの結果の可視化\n",
    "\n",
    "Bloqadeのエミュレータから得られた結果を可視化することができる。赤いノードは`Bitstring`のマッピングを示している。"
   ]
  },
  {
   "cell_type": "code",
   "execution_count": 11,
   "metadata": {},
   "outputs": [
    {
     "data": {
      "image/png": "[encoded data removed]",
      "text/plain": [
       "<Figure size 500x400 with 1 Axes>"
      ]
     },
     "metadata": {},
     "output_type": "display_data"
    }
   ],
   "source": [
    "G_vis = udg.networkx_graph\n",
    "pos = nx.get_node_attributes(G_vis, \"pos\")\n",
    "\n",
    "plt.figure(figsize=(5, 4))\n",
    "\n",
    "bitstr = list(sorted_counts.items())[:2][0][0]\n",
    "\n",
    "# ビット値に基づいてノードの色とサイズを変更する\n",
    "node_colors = [\"red\" if b == \"0\" else \"lightgray\" for b in bitstr]\n",
    "node_sizes = [300 if i in pins else 100 for i in G_vis.nodes()]\n",
    "\n",
    "nx.draw_networkx_nodes(G_vis, pos, node_color=node_colors, node_size=node_sizes)\n",
    "nx.draw_networkx_edges(G_vis, pos, width=0.5, alpha=0.5)\n",
    "\n",
    "# ピンに元の変数のインデックスをラベル付けする\n",
    "pin_labels = {pin: f\"z{i}\" for i, pin in enumerate(pins)}  # 偉人ぐスピンとして z_i を使う\n",
    "nx.draw_networkx_labels(G_vis, pos, labels=pin_labels, font_size=10)\n",
    "\n",
    "plt.title(\"Unit Disk Graph Representation of the Ising Model\", fontsize=15)\n",
    "plt.xlabel(\"X coordinate\", fontsize=15)\n",
    "plt.ylabel(\"Y coordinate\", fontsize=15)\n",
    "plt.axis(\"equal\")  # アスペクト比が維持されるようにする\n",
    "plt.tight_layout()\n",
    "plt.show()"
   ]
  },
  {
   "cell_type": "markdown",
   "metadata": {},
   "source": [
    "### Bloqadeのエミュレータ結果を`sampleset`結果に変換する\n",
    "\n",
    "先に得られたエミュレータの結果から、`udm_converter.decode`を使ってそれらをsamplesetに変換することができる。`sampleset`を用いることで、目的関数値の分布を調べることができる。"
   ]
  },
  {
   "cell_type": "code",
   "execution_count": 12,
   "metadata": {},
   "outputs": [],
   "source": [
    "transpiler = UDMTranspiler(udg, V_val)\n",
    "sampleset = udm_converter.decode(transpiler, counts)"
   ]
  },
  {
   "cell_type": "markdown",
   "metadata": {},
   "source": [
    "### 最も低い解を確認する"
   ]
  },
  {
   "cell_type": "code",
   "execution_count": 13,
   "metadata": {},
   "outputs": [
    {
     "data": {
      "text/plain": [
       "Solution(raw=<builtins.Solution object at 0x1214a66d0>, annotations={})"
      ]
     },
     "execution_count": 13,
     "metadata": {},
     "output_type": "execute_result"
    }
   ],
   "source": [
    "sampleset.best_feasible"
   ]
  },
  {
   "cell_type": "markdown",
   "metadata": {},
   "source": [
    "### 古典的手法を確認する"
   ]
  },
  {
   "cell_type": "code",
   "execution_count": 14,
   "metadata": {},
   "outputs": [
    {
     "name": "stdout",
     "output_type": "stream",
     "text": [
      "min_config:  (1, 0, 1)\n",
      "min_energy:  -4.4\n"
     ]
    }
   ],
   "source": [
    "Q = np.array([[-1.2, 4.0, -2.0], [4.0, -3.2, 3.2], [-2.0, 3.2, -1.2]])\n",
    "\n",
    "\n",
    "def Solve_Q(Q: np.ndarray, x: np.ndarray) -> float:\n",
    "    E = np.dot(np.diag(Q), x)\n",
    "    n = len(x)\n",
    "    for i in range(n):\n",
    "        for j in range(i + 1, n):\n",
    "            E += Q[i, j] * x[i] * x[j]\n",
    "    return E\n",
    "\n",
    "\n",
    "energies = {}\n",
    "for bits in product([0, 1], repeat=3):\n",
    "    x = np.array(bits)\n",
    "    energy = Solve_Q(Q, x)\n",
    "    energies[bits] = energy\n",
    "min_config, min_energy = min(energies.items(), key=lambda item: item[1])\n",
    "print(\"min_config: \", min_config)\n",
    "print(\"min_energy: \", min_energy)"
   ]
  },
  {
   "cell_type": "markdown",
   "metadata": {},
   "source": [
    "## 結果の評価"
   ]
  },
  {
   "cell_type": "code",
   "execution_count": 15,
   "metadata": {},
   "outputs": [
    {
     "data": {
      "image/png": "[encoded data removed]",
      "text/plain": [
       "<Figure size 800x500 with 1 Axes>"
      ]
     },
     "metadata": {},
     "output_type": "display_data"
    }
   ],
   "source": [
    "energies = []\n",
    "freqs = []\n",
    "# Create a dictionary to group energies and count their frequencies\n",
    "from collections import defaultdict\n",
    "energy_freq = defaultdict(int)\n",
    "\n",
    "for sample_id in sampleset.sample_ids:\n",
    "    sample = sampleset.get(sample_id)\n",
    "    energy_freq[sample.objective] += 1\n",
    "\n",
    "energies = list(energy_freq.keys())\n",
    "freqs = list(energy_freq.values())\n",
    "\n",
    "plt.figure(figsize=(8, 5))\n",
    "plt.bar(energies, freqs, width=0.25, label=\"Energies from Sampleset\")\n",
    "\n",
    "ax = plt.gca()\n",
    "ax.set_xticks(energies)\n",
    "ax.set_xticklabels([f\"{e:.2f}\" for e in energies], rotation=45, ha=\"right\")\n",
    "ax.axvline(min_energy, color=\"red\", linestyle=\"--\", linewidth=2, label=\"Min energy\")\n",
    "\n",
    "ax.xaxis.set_minor_locator(AutoMinorLocator(4))\n",
    "\n",
    "plt.title(\"Distribution of solution\", fontsize=15)\n",
    "plt.ylabel(\"Frequency\", fontsize=15)\n",
    "plt.xlabel(\"Energy\", fontsize=15)\n",
    "plt.legend(loc=\"upper center\")\n",
    "plt.tight_layout()\n",
    "plt.show()"
   ]
  }
 ],
 "metadata": {
  "colab": {
   "provenance": []
  },
  "kernelspec": {
   "display_name": "qamomile-SJ_jAwfp-py3.11",
   "language": "python",
   "name": "python3"
  },
  "language_info": {
   "codemirror_mode": {
    "name": "ipython",
    "version": 3
   },
   "file_extension": ".py",
   "mimetype": "text/x-python",
   "name": "python",
   "nbconvert_exporter": "python",
   "pygments_lexer": "ipython3",
   "version": "3.11.12"
  }
 },
 "nbformat": 4,
 "nbformat_minor": 4
}
