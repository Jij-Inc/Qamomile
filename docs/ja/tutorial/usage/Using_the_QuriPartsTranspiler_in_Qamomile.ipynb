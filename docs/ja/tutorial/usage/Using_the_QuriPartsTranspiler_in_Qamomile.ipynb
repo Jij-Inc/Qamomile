{
 "cells": [
  {
   "cell_type": "markdown",
   "id": "82d563d2-bd8b-4d3a-872f-8347ffac16c8",
   "metadata": {},
   "source": [
    "# Qamomile における QuriPartsTranspiler の使用方法  \n",
    "このチュートリアルでは、Qamomile における QuriPartsTranspiler の使用方法を示し、ユーザーが効果的に活用できるように主要な例を紹介します。"
   ]
  },
  {
   "cell_type": "markdown",
   "id": "9f64e314-600a-4838-9177-be3ef32571bf",
   "metadata": {},
   "source": [
    "## ハミルトニアンを QuriParts 形式に変換する\n",
    "\n",
    "まず、テスト用のハミルトニアンを定義し、それを QuriParts 互換の形式に変換するためにトランスパイラを使用します。  \n",
    "このステップでは、独自ライブラリで定義されたハミルトニアンが、QuriParts で認識される演算子にどれほどスムーズに変換されるかを示します。"
   ]
  },
  {
   "cell_type": "code",
   "execution_count": null,
   "id": "37909839-d3b4-469a-8aab-9c11ef26551c",
   "metadata": {},
   "outputs": [],
   "source": [
    "from typing import Sequence\n",
    "\n",
    "import jijmodeling as jm\n",
    "import jijmodeling_transpiler.core as jmt\n",
    "import networkx as nx\n",
    "import numpy as np\n",
    "from quri_parts.core.state import quantum_state, apply_circuit\n",
    "from quri_parts.qulacs.estimator import create_qulacs_vector_parametric_estimator\n",
    "import matplotlib.pyplot as plt\n",
    "from quri_parts.qulacs.sampler import create_qulacs_vector_sampler\n",
    "from scipy.optimize import minimize\n",
    "\n",
    "import qamomile\n",
    "from qamomile.quri_parts.transpiler import QuriPartsTranspiler\n",
    "from qamomile.core.operator import Hamiltonian, Pauli, X, Y, Z\n",
    "from qamomile.core.circuit import QuantumCircuit as QamomileCircuit\n",
    "from qamomile.core.circuit import (\n",
    "    QuantumCircuit,\n",
    "    SingleQubitGate,\n",
    "    TwoQubitGate,\n",
    "    ParametricSingleQubitGate,\n",
    "    ParametricTwoQubitGate,\n",
    "    SingleQubitGateType,\n",
    "    TwoQubitGateType,\n",
    "    ParametricSingleQubitGateType,\n",
    "    ParametricTwoQubitGateType,\n",
    "    Parameter\n",
    ")\n",
    "from qamomile.core.circuit.drawer import plot_quantum_circuit"
   ]
  },
  {
   "cell_type": "markdown",
   "id": "31b3835d-d430-4416-96ac-d355cc62e31e",
   "metadata": {},
   "source": [
    "このコードスニペットでは、さまざまなパウリ演算子（X, Y, Z）を用いてカスタム定義されたハミルトニアンから始め、`QuriPartsTranspiler` を使用して QuriParts に適した形式へ変換します。  \n",
    "`quriParts_hamiltonian` を出力することで、変換が正しく行われたかを確認できます。"
   ]
  },
  {
   "cell_type": "code",
   "execution_count": null,
   "id": "2e548b05-fbba-4f35-a6a1-a13f9343d0f4",
   "metadata": {},
   "outputs": [],
   "source": [
    "hamiltonian = Hamiltonian()\n",
    "hamiltonian += X(0)*Z(1)\n",
    "hamiltonian += Y(0)*Y(1)*Z(2)*X(3)*X(4)\n",
    "\n",
    "transpiler = QuriPartsTranspiler()\n",
    "quriParts_hamiltonian = transpiler.transpile_hamiltonian(hamiltonian)\n",
    "\n",
    "quriParts_hamiltonian"
   ]
  },
  {
   "cell_type": "markdown",
   "id": "99dbe128-1d15-4632-8fb8-651f4b159ef2",
   "metadata": {},
   "source": [
    "## パラメータ化された量子回路の構築\n",
    "\n",
    "次に、QamomileCircuit を使ってパラメータ化された量子回路を構築します。  \n",
    "この回路には、単一量子ビットの回転ゲート（例：rx、ry、rz）と制御付きバージョン（crx、crz、cry）、さらに二量子ビットのエンタングルメントゲート（rxx、ryy、rzz）を含めます。  \n",
    "パラメータ（theta、beta、gamma）によって、柔軟な変分的な調整が可能になります。"
   ]
  },
  {
   "cell_type": "code",
   "execution_count": null,
   "id": "8ee2133e-2726-496f-8a37-c17670635a44",
   "metadata": {},
   "outputs": [],
   "source": [
    "qc = QamomileCircuit(3)\n",
    "theta = Parameter(\"theta\")\n",
    "beta = Parameter(\"beta\")\n",
    "gamma = Parameter(\"gamma\")\n",
    "\n",
    "qc.rx(theta, 0)\n",
    "qc.ry(beta, 1)\n",
    "qc.rz(gamma, 2)\n",
    "qc.rxx(gamma, 0 ,1)\n",
    "qc.ryy(theta, 1 ,2)\n",
    "qc.rzz(beta, 2 ,0)\n",
    "\n",
    "transpiler = QuriPartsTranspiler()\n",
    "qp_circuit = transpiler.transpile_circuit(qc)"
   ]
  },
  {
   "cell_type": "markdown",
   "id": "73257f1d-a6a2-48ee-8b04-07213159cafe",
   "metadata": {},
   "source": [
    "## MaxCut問題の定式化と量子形式への変換\n",
    "\n",
    "このセクションでは、古典的な最適化問題である MaxCut を取り上げ、それをイジング形式のハミルトニアンにエンコードする方法を示します。  \n",
    "その後、QAOAスタイルのアンサッツ回路を構築し、それを実行・最適化することで MaxCut のインスタンスを解くことを目指します。"
   ]
  },
  {
   "cell_type": "code",
   "execution_count": null,
   "id": "e9c25c31-e30b-44cf-9b33-1d78130b440c",
   "metadata": {},
   "outputs": [],
   "source": [
    "def maxcut_problem() -> jm.Problem:\n",
    "    V = jm.Placeholder(\"V\")\n",
    "    E = jm.Placeholder(\"E\", ndim=2)\n",
    "    x = jm.BinaryVar(\"x\", shape=(V,))\n",
    "    e = jm.Element(\"e\", belong_to=E)\n",
    "    i = jm.Element(\"i\", belong_to=V)\n",
    "    j = jm.Element(\"j\", belong_to=V)\n",
    "\n",
    "    problem = jm.Problem(\"Maxcut\", sense=jm.ProblemSense.MAXIMIZE)\n",
    "    si = 2 * x[e[0]] - 1\n",
    "    sj = 2 * x[e[1]] - 1\n",
    "    si.set_latex(\"s_{e[0]}\")\n",
    "    sj.set_latex(\"s_{e[1]}\")\n",
    "    obj = 1 / 2 * jm.sum(e, (1 - si * sj))\n",
    "    problem += obj\n",
    "    return problem\n",
    "\n",
    "def maxcut_instance():\n",
    "    # MaxCutインスタンスのために簡単なグラフを構築します。\n",
    "    G = nx.Graph()\n",
    "    G.add_nodes_from([0, 1, 2, 3, 4])\n",
    "    G.add_edges_from([(0, 1), (0, 4), (1, 2), (1, 3), (2, 3), (3, 4)])\n",
    "    E = [list(edge) for edge in G.edges]\n",
    "    instance_data = {\"V\": G.number_of_nodes(), \"E\": E}\n",
    "    pos = {0: (1, 1), 1: (0, 1), 2: (-1, 0.5), 3: (0, 0), 4: (1, 0)}\n",
    "    nx.draw_networkx(G, pos, node_size=500)\n",
    "    return instance_data\n",
    "\n",
    "problem = maxcut_problem()\n",
    "instance_data = maxcut_instance()\n",
    "compiled_instance = jmt.compile_model(problem, instance_data)\n",
    "\n",
    "# コンパイルした問題をQAOA形式へ変換する\n",
    "qaoa_converter = qamomile.core.qaoa.QAOAConverter(compiled_instance)\n",
    "qaoa_converter.ising_encode()\n",
    "\n",
    "p = 5\n",
    "qaoa_hamiltonian = qaoa_converter.get_cost_hamiltonian()\n",
    "qaoa_circuit = qaoa_converter.get_qaoa_ansatz(p=p)"
   ]
  },
  {
   "cell_type": "code",
   "execution_count": null,
   "id": "e43ebb82-54df-4c98-9277-4b2c4047b9fd",
   "metadata": {},
   "outputs": [],
   "source": [
    "plot_quantum_circuit(qaoa_circuit)"
   ]
  },
  {
   "cell_type": "markdown",
   "id": "fe0df368-8cba-4bb3-b737-353e06dba85e",
   "metadata": {},
   "source": [
    "私たちは現在、MaxCut問題をQAOAのようなアルゴリズムに適したコストハミルトニアンに変換しました。  \n",
    "パラメータ `p` は、問題ハミルトニアンとミキサーハミルトニアンの層の数を決定します。  \n",
    "各層のパラメータは変分可能であり、期待値を最小化するように調整されます。これにより、MaxCutインスタンスの良好な解が得られることが期待されます。"
   ]
  },
  {
   "cell_type": "markdown",
   "id": "7fea92e3-d108-4b08-be91-8ddb76a17a71",
   "metadata": {},
   "source": [
    "## PennyLane における QAOA 回路のトランスパイルと実行\n",
    "\n",
    "QAOA 回路とハミルトニアンを定義したので、今回はトランスパイラを使って QAOA 回路とコストハミルトニアンを QuriParts 形式に変換します。"
   ]
  },
  {
   "cell_type": "code",
   "execution_count": null,
   "id": "b38c72a8-046a-4e43-8a91-a442a0d36ecb",
   "metadata": {},
   "outputs": [],
   "source": [
    "transpiler = QuriPartsTranspiler()\n",
    "# QAOA回路をQuriParts用へ変換する\n",
    "qp_circuit = transpiler.transpile_circuit(qaoa_circuit)\n",
    "\n",
    "# QAOAハミルトニアンをQuriParts用へ変換する\n",
    "qp_hamiltonian = transpiler.transpile_hamiltonian(qaoa_hamiltonian)\n",
    "qp_hamiltonian"
   ]
  },
  {
   "cell_type": "markdown",
   "id": "2764e875-8bc3-486d-8e9f-82be26d83aad",
   "metadata": {},
   "source": [
    "ここで、`qk_circuit` は Qamomile の QAOA アンサッツから生成された QuriParts 回路であり、`qk_hamiltonian` は数理モデルに基づいて Qamomile ハミルトニアンから構築されたものです。"
   ]
  },
  {
   "cell_type": "markdown",
   "id": "e4109516-4f2b-4aef-89fe-3b05fd217480",
   "metadata": {},
   "source": [
    "## パラメータの最適化\n",
    "\n",
    "最後に、変分パラメータを最適化し、より良い結果（例：MaxCut目的関数のコストを低くする）をもたらすパラメータを見つけようとします。"
   ]
  },
  {
   "cell_type": "code",
   "execution_count": null,
   "id": "c911481b-0541-49e0-a867-4965b9b9f589",
   "metadata": {},
   "outputs": [],
   "source": [
    "cost_history = []\n",
    "# 損失推定関数\n",
    "\n",
    "\n",
    "cb_state = quantum_state(qp_circuit.qubit_count, bits=0)\n",
    "parametric_state = apply_circuit(qp_circuit, cb_state)\n",
    "\n",
    "\n",
    "estimator = create_qulacs_vector_parametric_estimator()\n",
    "\n",
    "cost_history = []\n",
    "def cost_fn(param_values: Sequence[float]) -> float:\n",
    "    estimate = estimator(qp_hamiltonian, parametric_state, param_values)\n",
    "    cost = estimate.value.real\n",
    "    cost_history.append(cost)\n",
    "    return cost\n",
    "\n",
    "\n",
    "# 初期パラメータを作成する\n",
    "initial_params = np.random.uniform(low=-np.pi / 4, high=np.pi / 4, size=2 * p)\n",
    "\n",
    "# QAOA最適化を実行する\n",
    "result = minimize(\n",
    "    cost_fn,\n",
    "    initial_params,\n",
    "    method=\"COBYLA\",\n",
    "    options={\"maxiter\": 2000},\n",
    ")\n",
    "print(result)"
   ]
  },
  {
   "cell_type": "markdown",
   "id": "822ffb16-ded0-4d6d-8a1d-df3250fc84f8",
   "metadata": {},
   "source": [
    "## 結果の可視化"
   ]
  },
  {
   "cell_type": "code",
   "execution_count": null,
   "id": "718cc646-5746-47f8-9568-07166df4afb7",
   "metadata": {},
   "outputs": [],
   "source": [
    "plt.title(\"Change of Cost\", fontsize=15)\n",
    "plt.xlabel(\"Iteration\", fontsize=15)\n",
    "plt.ylabel(\"Cost\", fontsize=15)\n",
    "plt.xscale(\"log\")\n",
    "plt.xlim(1, result.nfev)\n",
    "plt.plot(cost_history, label=\"Cost\", color=\"#2696EB\")\n",
    "plt.show()"
   ]
  },
  {
   "cell_type": "markdown",
   "id": "1e934adb-e212-4e4c-b74f-e4e6d24c67fb",
   "metadata": {},
   "source": [
    "最適化されたパラメータが得られたら、QuriParts の `create_qulacs_vector_sampler` を使用してパラメータ化された量子回路からサンプリングを行い、回路のカウントを取得します。"
   ]
  },
  {
   "cell_type": "code",
   "execution_count": null,
   "id": "2a937ced-ed37-4c0b-98cb-a2ffb7393fe4",
   "metadata": {},
   "outputs": [],
   "source": [
    "# 最適化済QAOA回路を実行する\n",
    "\n",
    "sampler = create_qulacs_vector_sampler()\n",
    "bounded_circuit = qp_circuit.bind_parameters(result.x)\n",
    "qp_result = sampler(bounded_circuit, 1000)"
   ]
  },
  {
   "cell_type": "code",
   "execution_count": null,
   "id": "6536a915",
   "metadata": {},
   "outputs": [],
   "source": [
    "bitcounts = {bin(i)[2:].zfill(qp_circuit.qubit_count): count for i, count in qp_result.items()}"
   ]
  },
  {
   "cell_type": "code",
   "execution_count": null,
   "id": "ff9167ca-c134-4ea0-b271-0804d838da98",
   "metadata": {},
   "outputs": [],
   "source": [
    "# プロット用のデータを用意する\n",
    "keys = list(bitcounts.keys())\n",
    "values = list(bitcounts.values())\n",
    "\n",
    "# プロットする\n",
    "plt.figure(figsize=(12, 6))\n",
    "plt.bar(keys, values, width=0.6)\n",
    "plt.xlabel(\"State\", fontsize=12)\n",
    "plt.ylabel(\"Frequency\", fontsize=12)\n",
    "plt.title(\"Distribution of State\", fontsize=14)\n",
    "plt.xticks(rotation=90, fontsize=10)\n",
    "plt.tight_layout()\n",
    "plt.show()"
   ]
  },
  {
   "cell_type": "markdown",
   "id": "cdc636d8-526b-42e2-b0e6-caa369b233dc",
   "metadata": {},
   "source": [
    "## 結果の評価  \n",
    "前に得られた `qp_result` と `qubit_count` から、`qaoa_converter.decode` を用いてそれらを sampleset に変換できます。  \n",
    "sampleset は実行可能な解のみを選択することができ、その後、目的関数値の分布を調べます。"
   ]
  },
  {
   "cell_type": "code",
   "execution_count": null,
   "id": "56b02d6c-5eae-41a4-9eff-94657ffe73ef",
   "metadata": {},
   "outputs": [],
   "source": [
    "sampleset = qaoa_converter.decode(transpiler, (qp_result, qp_circuit.qubit_count))\n",
    "\n",
    "plot_data = {}\n",
    "for sample in sampleset.feasibles():\n",
    "    if sample.eval.objective in plot_data:\n",
    "        plot_data[sample.eval.objective] += sample.num_occurrences\n",
    "    else:\n",
    "        plot_data[sample.eval.objective] = sample.num_occurrences\n",
    "\n",
    "plt.bar(plot_data.keys(), plot_data.values(), width=0.5)\n",
    "plt.title(\"cost distribution of feasible solution\", fontsize=15)\n",
    "plt.ylabel(\"Frequency\", fontsize=15)\n",
    "plt.xlabel(\"Energy\", fontsize=15)\n",
    "plt.show()"
   ]
  },
  {
   "cell_type": "code",
   "execution_count": null,
   "id": "9f8be86d-06dc-47e6-a975-494769daab8a",
   "metadata": {},
   "outputs": [],
   "source": []
  }
 ],
 "metadata": {
  "kernelspec": {
   "display_name": "Python 3 (ipykernel)",
   "language": "python",
   "name": "python3"
  },
  "language_info": {
   "codemirror_mode": {
    "name": "ipython",
    "version": 3
   },
   "file_extension": ".py",
   "mimetype": "text/x-python",
   "name": "python",
   "nbconvert_exporter": "python",
   "pygments_lexer": "ipython3",
   "version": "3.11.12"
  }
 },
 "nbformat": 4,
 "nbformat_minor": 5
}
