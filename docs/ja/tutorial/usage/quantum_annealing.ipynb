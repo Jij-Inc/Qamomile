{
 "cells": [
  {
   "cell_type": "markdown",
   "id": "56be7a08-96b5-421b-b2a6-e5a14db9c97b",
   "metadata": {},
   "source": [
    "# QamomileにおけるQuTiPTranspilerの使用方法\n",
    "\n",
    "QamomileとQuTiPを用いた量子アニーリングの応用を紹介します。ここでは、以下の形式のハミルトニアンに注目します：\n",
    "\n",
    "$$\n",
    "H(s) = s H_0 + (1 - s) H_1\n",
    "$$\n",
    "\n",
    "ここで $H_0$ は解きたいMax-Cut問題のハミルトニアンであり、しばしばイジングモデルの形式で定式化されます。一方、$H_1$ は横磁場のハミルトニアンです。Max-Cut問題のハミルトニアンの構築方法の詳細については、[QAOA for Max-Cut](https://jij-inc.github.io/Qamomile/ja/tutorial/maxcut.html) を参照してください。  \n",
    "ハミルトニアンは次のように定義されます：\n",
    "\n",
    "$$\n",
    "H_0 = -\\frac{1}{2} \\sum_{(i,j) \\in E} w_{i,j}(1 - s_i s_j)  , \\quad H_1 = - \\sum_{i=1}^N \\sigma_i^x\n",
    "$$\n",
    "\n",
    "パラメータ $s$ が0から1に徐々に変化することで、系は $H_1$ の基底状態から $H_0$ の基底状態、すなわち最適化問題の解へと漸進的に進化します。\n",
    "\n",
    "まずは、Qamomileライブラリとこの例で使用するその他のライブラリをインポートします。\n"
   ]
  },
  {
   "cell_type": "code",
   "execution_count": null,
   "id": "f94226bd-5710-4655-8f73-cc105f3e8f2d",
   "metadata": {},
   "outputs": [],
   "source": [
    "from IPython.display import display, Latex\n",
    "import jijmodeling as jm\n",
    "import matplotlib.pyplot as plt\n",
    "import networkx as nx\n",
    "import numpy as np\n",
    "from qutip import tensor, Qobj, mesolve\n",
    "\n",
    "import qamomile.core as qm\n",
    "from qamomile.core.bitssample import BitsSample, BitsSampleSet\n",
    "import qamomile.core.operator as qm_o\n",
    "import qamomile.qutip as qm_qt"
   ]
  },
  {
   "cell_type": "markdown",
   "id": "5b8cb95c-3383-4930-95df-69ec7d5fdc61",
   "metadata": {},
   "source": [
    "## MaxCut問題の定式化と量子形式への変換"
   ]
  },
  {
   "cell_type": "code",
   "execution_count": null,
   "id": "be3ddbdf-1794-4c7e-96eb-5eb0a3994bf0",
   "metadata": {},
   "outputs": [],
   "source": [
    "def Maxcut_problem() -> jm.Problem:\n",
    "    V = jm.Placeholder(\"V\")\n",
    "    E = jm.Placeholder(\"E\", ndim=2)\n",
    "    w = jm.Placeholder(\"w\", ndim=2)\n",
    "    x = jm.BinaryVar(\"x\", shape=(V,))\n",
    "    e = jm.Element(\"e\", belong_to=E)\n",
    "\n",
    "    problem = jm.Problem(\"Maxcut\")\n",
    "    si = 2 * x[e[0]] - 1\n",
    "    sj = 2 * x[e[1]] - 1\n",
    "    si.set_latex(\"s_{e[0]}\")\n",
    "    sj.set_latex(\"s_{e[1]}\")\n",
    "    obj = -1 / 2 * jm.sum(e, (1 - si * sj))\n",
    "    problem += obj\n",
    "    return problem\n",
    "\n",
    "\n",
    "problem = Maxcut_problem()\n",
    "problem"
   ]
  },
  {
   "cell_type": "code",
   "execution_count": null,
   "id": "b3b5562e-686c-4412-b4ac-5d482795fba9",
   "metadata": {},
   "outputs": [],
   "source": [
    "G = nx.Graph()\n",
    "num_nodes = 5\n",
    "edges = [(0, 1), (0, 4), (1, 2), (1, 3), (2, 3), (3, 4)]\n",
    "G.add_nodes_from(range(num_nodes))\n",
    "G.add_edges_from(edges)\n",
    "\n",
    "pos = {0: (1, 1), 1: (0, 1), 2: (-1, 0.5), 3: (0, 0), 4: (1, 0)}\n",
    "plt.title(\"G=(V,E)\")\n",
    "plt.plot(figsize=(5, 4))\n",
    "\n",
    "nx.draw_networkx(G, pos, node_size=500)"
   ]
  },
  {
   "cell_type": "code",
   "execution_count": null,
   "id": "9b27d5c1-4bc9-4365-b1ac-dbe48bda2eaa",
   "metadata": {},
   "outputs": [],
   "source": [
    "interpreter = jm.Interpreter({\"V\": num_nodes, \"E\": edges})\n",
    "compiled_model = interpreter.eval_problem(problem)"
   ]
  },
  {
   "cell_type": "code",
   "execution_count": null,
   "id": "055212ad-8709-4850-9b99-4a24cb7ff286",
   "metadata": {},
   "outputs": [],
   "source": [
    "# 損失ハミルトニアンを取得する\n",
    "qaoa_converter = qm.qaoa.QAOAConverter(compiled_model)\n",
    "H0 = qaoa_converter.get_cost_hamiltonian()"
   ]
  },
  {
   "cell_type": "markdown",
   "id": "694fcf20-92c1-4b96-aff6-e44ac8fd55f0",
   "metadata": {},
   "source": [
    "次に、QamomileのハミルトニアンをQuTiPのハミルトニアンへ変換します。"
   ]
  },
  {
   "cell_type": "code",
   "execution_count": null,
   "id": "8910ed0b-1664-4211-8cbd-c3a6e9a94501",
   "metadata": {},
   "outputs": [],
   "source": [
    "qt_transpiler = qm_qt.QuTiPTranspiler()\n",
    "qt_H0= qt_transpiler.transpile_hamiltonian(H0)"
   ]
  },
  {
   "cell_type": "markdown",
   "id": "a329bc68-f20a-43df-aa39-d6c624faa307",
   "metadata": {},
   "source": [
    "横磁場のハミルトニアン $H_1$ も構築する必要があります。"
   ]
  },
  {
   "cell_type": "code",
   "execution_count": null,
   "id": "5bb8afe1-4cc8-47bd-845a-e84212bf37b5",
   "metadata": {},
   "outputs": [],
   "source": [
    "H1 = qm_o.Hamiltonian()\n",
    "for q1 in range(num_nodes):\n",
    "    H1 -= qm_o.X(q1)\n",
    "qt_H1= qt_transpiler.transpile_hamiltonian(H1)"
   ]
  },
  {
   "cell_type": "markdown",
   "id": "3448f8e4-cad2-4e85-8e66-4f498089a57b",
   "metadata": {},
   "source": [
    "先ほど導入したハミルトニアン $H(s)$ のパラメータ $s = t / T$ として、アニーリング時間 $T$ を定義します。量子アニーリングにおいて、$T$ を十分大きく取れば、理論的には $H_0$ の基底状態を得ることができます。Max-Cut問題に対して量子アニーリングを行い、最終状態 $|\\psi(T)\\rangle$ が問題の最適解となっているかを検証します。"
   ]
  },
  {
   "cell_type": "markdown",
   "id": "a1f1084c-02de-4d96-ba4b-b23cc9ef798e",
   "metadata": {},
   "source": [
    "量子アニーリング全体のハミルトニアンは、各要素がハミルトニアンとその係数のペアとなるリストとして表されます。また、時刻 $t = 0$ における初期状態 $ \\psi(t) $ を作成します。これは $H_1$ の基底状態です。"
   ]
  },
  {
   "cell_type": "code",
   "execution_count": null,
   "id": "a61ce5bd-9064-4b2c-9890-a4251cd18f0f",
   "metadata": {},
   "outputs": [],
   "source": [
    "T=100\n",
    "\n",
    "def coef0(t, args):\n",
    "    return t/T\n",
    "\n",
    "def coef1(t, args):\n",
    "    return 1-t/T\n",
    "\n",
    "H = [[qt_H0, coef0], [qt_H1, coef1]]\n",
    "psi0 = tensor([Qobj([[1], [1]])/np.sqrt(2) for _ in range(num_nodes)])"
   ]
  },
  {
   "cell_type": "markdown",
   "id": "eeaac1de-4c86-4d6a-a3d7-a9f2dc983cca",
   "metadata": {},
   "source": [
    "シュレディンガー方程式を解くために、ハミルトニアン、初期状態、および時間のリストを用いて`mesolve`を使用します。"
   ]
  },
  {
   "cell_type": "code",
   "execution_count": null,
   "id": "06cccc3f-42c8-432a-9aae-67ca4daa5686",
   "metadata": {},
   "outputs": [],
   "source": [
    "tlist = np.linspace(0.0, T, 101)\n",
    "result = mesolve(H, psi0, tlist, [])\n",
    "psi_final = result.states[-1]"
   ]
  },
  {
   "cell_type": "markdown",
   "id": "95623dab-df3d-4aa4-a442-fd988711bdbc",
   "metadata": {},
   "source": [
    "アニーリング後の最終状態の確率分布を可視化することができます。"
   ]
  },
  {
   "cell_type": "code",
   "execution_count": null,
   "id": "42e52cb0-99f0-4160-94b5-e96be637f59c",
   "metadata": {},
   "outputs": [],
   "source": [
    "probs = np.abs(psi_final.full())**2\n",
    "plt.figure(figsize=(10, 6))\n",
    "basis_labels = [f\"{i:0{num_nodes}b}\" for i in range(2**num_nodes)]\n",
    "bars=plt.bar(range(len(probs)), probs.flatten())\n",
    "plt.xticks(ticks=range(len(probs)), labels=basis_labels, rotation=90)\n",
    "plt.xlabel(\"States\")\n",
    "plt.ylabel(\"Probability\")\n",
    "plt.title(\"Probability Distribution of Final States\")\n",
    "\n",
    "plt.show()"
   ]
  },
  {
   "cell_type": "markdown",
   "id": "11a682a2-7b56-4ef8-8a58-2dd60dda69ef",
   "metadata": {},
   "source": [
    "最終状態とそれに対応する確率は以下の通りです："
   ]
  },
  {
   "cell_type": "code",
   "execution_count": null,
   "id": "f2f6b220-5bdf-4ea7-87f6-d53150fa64b6",
   "metadata": {},
   "outputs": [],
   "source": [
    "final_states = []\n",
    "for bar, label in zip(bars, basis_labels):\n",
    "    if bar.get_height() > 1e-4:\n",
    "        print(f\"Final state: {label}, Probability: {bar.get_height():.4f}\")\n",
    "        array_label = np.array([int(bit) for bit in label])\n",
    "        final_states.append((array_label, bar.get_height())) "
   ]
  },
  {
   "cell_type": "markdown",
   "id": "c90ccf4b-8383-4274-ab68-d254c75ca9cf",
   "metadata": {},
   "source": [
    "結果によると、4つの縮退した解が存在します。それらすべての解を可視化してみましょう。その際、[QAOA](https://jij-inc.github.io/Qamomile/tutorial/maxcut.html) を用いて得られた結果を参考にすることができます。"
   ]
  },
  {
   "cell_type": "code",
   "execution_count": null,
   "id": "45c8865b-8655-422d-97dd-50e8ccbb204d",
   "metadata": {},
   "outputs": [],
   "source": [
    "samples = []\n",
    "for state,prob in final_states:\n",
    "    sample = BitsSample(int(prob), state)\n",
    "    samples.append(sample)\n",
    "\n",
    "sample_set = BitsSampleSet(bitarrays=samples)\n",
    "\n",
    "transformed_state = []\n",
    "for transformed in qaoa_converter.decode_bits_to_sampleset(sample_set).data:\n",
    "    transformed_state.append(transformed.var_values['x'].values)\n",
    "print(transformed_state)"
   ]
  },
  {
   "cell_type": "code",
   "execution_count": null,
   "id": "73303f50-383e-4fa4-8375-a67bae5a0029",
   "metadata": {},
   "outputs": [],
   "source": [
    "edge_colors = []\n",
    "\n",
    "def get_edge_colors(graph, cut_solution, in_cut_color=\"r\", not_in_cut_color=\"b\"):\n",
    "    cut_set_1 = [node[0] for node, value in cut_solution.items() if value == 1.0]\n",
    "    cut_set_2 = [node for node in graph.nodes() if node not in cut_set_1]\n",
    "\n",
    "    edge_colors = []\n",
    "    for u, v, _ in graph.edges(data=True):\n",
    "        if (u in cut_set_1 and v in cut_set_2) or (u in cut_set_2 and v in cut_set_1):\n",
    "            edge_colors.append(in_cut_color)\n",
    "        else:\n",
    "            edge_colors.append(not_in_cut_color)\n",
    "            \n",
    "    node_colors = [\"#2696EB\" if node in cut_set_1 else \"#EA9B26\" for node in graph.nodes()]\n",
    "    return edge_colors, node_colors\n",
    "\n",
    "fig, axes = plt.subplots(2, 2, figsize=(10, 8)) \n",
    "axes = axes.flatten()\n",
    "\n",
    "for i, cut_solution in enumerate(transformed_state):\n",
    "    \n",
    "    edge_colors, node_colors = get_edge_colors(G, cut_solution)\n",
    "    \n",
    "    # プロットを作成する\n",
    "    ax = axes[i]  # サブプロットを選択する\n",
    "    ax.set_title(f\"Solution {i+1}\")\n",
    "    \n",
    "    nx.draw_networkx(\n",
    "        G,\n",
    "        pos,\n",
    "        node_size=500,\n",
    "        width=3,\n",
    "        with_labels=True,\n",
    "        edge_color=edge_colors,\n",
    "        node_color=node_colors,\n",
    "        ax=ax,\n",
    "    )\n",
    "\n",
    "plt.tight_layout()\n",
    "plt.show()"
   ]
  },
  {
   "cell_type": "markdown",
   "id": "6e5ed788-a105-48d4-8e1b-702db919b873",
   "metadata": {},
   "source": [
    "また、`eigenenergies`で計算されたエネルギースペクトル上で、パラメータ $s$ が0から1に変化するにつれてハミルトニアンの固有エネルギーがどのように変化するかを可視化することもできます。"
   ]
  },
  {
   "cell_type": "code",
   "execution_count": null,
   "id": "f624a3cf-8875-4754-99eb-e711f5daa92c",
   "metadata": {},
   "outputs": [],
   "source": [
    "slist = np.linspace(0.0, 1.0, 101)\n",
    "enegry_list = [[] for i in range(2**num_nodes)]\n",
    "\n",
    "for s in slist:\n",
    "    qt_H = s*qt_H0 + (1-s)*qt_H1\n",
    "    enegry = qt_H.eigenenergies()\n",
    "    for i in range(2**num_nodes):\n",
    "        enegry_list[i].append(enegry[i])"
   ]
  },
  {
   "cell_type": "code",
   "execution_count": null,
   "id": "e5102eef-e724-4161-8304-7e5b4e2bed9b",
   "metadata": {},
   "outputs": [],
   "source": [
    "for i in range(2**num_nodes):\n",
    "    plt.plot(slist, enegry_list[i], label=f\"{i+1}th\")\n",
    "\n",
    "plt.xlabel(\"s\")\n",
    "plt.ylabel(\"Eigenenergies\")\n",
    "plt.title(\"Energy Spectrum\")\n",
    "plt.show()"
   ]
  },
  {
   "cell_type": "markdown",
   "id": "3b4ee9f1-fd31-4d8d-8436-b79e04e92124",
   "metadata": {},
   "source": [
    "同じ最低エネルギー準位を共有する縮退した状態が4つ存在することがわかり、これはアニーリングの結果と一致しています。"
   ]
  },
  {
   "cell_type": "markdown",
   "id": "e646589d-cd63-4847-adb5-2c74fc89e36b",
   "metadata": {},
   "source": [
    "Masaphys. *PythonとQuTiPで量子アニーリングのダイナミクスを追う*. Qiita. Accessed October 30, 2024. [https://qiita.com/masaphys/items/38aeaee5313f81e15414](https://qiita.com/masaphys/items/38aeaee5313f81e15414)\n"
   ]
  }
 ],
 "metadata": {
  "kernelspec": {
   "display_name": "Python 3 (ipykernel)",
   "language": "python",
   "name": "python3"
  },
  "language_info": {
   "codemirror_mode": {
    "name": "ipython",
    "version": 3
   },
   "file_extension": ".py",
   "mimetype": "text/x-python",
   "name": "python",
   "nbconvert_exporter": "python",
   "pygments_lexer": "ipython3",
   "version": "3.11.12"
  }
 },
 "nbformat": 4,
 "nbformat_minor": 5
}
