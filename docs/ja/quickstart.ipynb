{
 "cells": [
  {
   "cell_type": "markdown",
   "metadata": {},
   "source": [
    "# Qamomileクイックスタートガイド\n",
    "\n",
    "このガイドでは、Qamomileのインストール方法と基本的な使い方を簡単に紹介します。\n",
    "\n",
    "## インストール\n",
    "\n",
    "### 前提条件\n",
    "\n",
    "Qamomileをインストールする前に、以下の環境が整っていることを確認してください：\n",
    "\n",
    "- Python3.10以上\n",
    "- pip（Python パッケージインストーラ）\n",
    "\n",
    "### Qamomileのインストール\n",
    "\n",
    "pipを使ってQamomileをインストールします：\n",
    "\n",
    "```bash\n",
    "pip install qamomile\n",
    "```\n",
    "\n",
    "### オプションの依存パッケージ\n",
    "\n",
    "利用目的に応じて、以下の追加パッケージをインストールすることができます：\n",
    "\n",
    "- Qiskitとの連携用：`pip install \"qamomile[qiskit]\"`\n",
    "- Quri Partsとの連携用：`pip install \"qamomile[quri-parts]\"`\n",
    "- Qutipとの連携用：`pip install \"qamomile[qutip]\"`\n",
    "- PennyLaneとの連携用：`pip install \"qamomile[pennylane]\"`"
   ]
  },
  {
   "cell_type": "markdown",
   "metadata": {},
   "source": [
    "## 基本的な使い方\n",
    "\n",
    "簡単な例を通して、Qamomileの使用方法を見ていきましょう。\n",
    "\n",
    "### 1. QamomileとJijModelingのインポート"
   ]
  },
  {
   "cell_type": "code",
   "execution_count": 1,
   "metadata": {},
   "outputs": [],
   "source": [
    "import qamomile.core as qm\n",
    "import jijmodeling as jm\n",
    "import jijmodeling_transpiler.core as jmt\n",
    "import ommx.v1"
   ]
  },
  {
   "cell_type": "markdown",
   "metadata": {},
   "source": [
    "### 2. JijModelingを使って数理モデルを作成する"
   ]
  },
  {
   "cell_type": "code",
   "execution_count": 2,
   "metadata": {},
   "outputs": [
    {
     "data": {
      "text/latex": [
       "$$\\begin{array}{cccc}\\text{Problem:} & \\text{qubo} & & \\\\& & \\min \\quad \\displaystyle \\sum_{i = 0}^{n - 1} \\sum_{j = 0}^{n - 1} Q_{i, j} \\cdot x_{i} \\cdot x_{j} & \\\\\\text{{where}} & & & \\\\& x & 1\\text{-dim binary variable}\\\\\\end{array}$$"
      ],
      "text/plain": [
       "<jijmodeling.Problem at 0x11bd17e00>"
      ]
     },
     "execution_count": 2,
     "metadata": {},
     "output_type": "execute_result"
    }
   ],
   "source": [
    "# 単純なQUBO問題を定義する\n",
    "\n",
    "Q = jm.Placeholder(\"Q\", ndim=2)\n",
    "n = Q.len_at(0, latex=\"n\")\n",
    "x = jm.BinaryVar(\"x\", shape=(n,))\n",
    "\n",
    "problem = jm.Problem(\"qubo\")\n",
    "i, j = jm.Element(\"i\", n), jm.Element(\"j\", n)\n",
    "problem += jm.sum([i, j], Q[i, j] * x[i] * x[j])\n",
    "\n",
    "problem"
   ]
  },
  {
   "cell_type": "code",
   "execution_count": 3,
   "metadata": {},
   "outputs": [],
   "source": [
    "# データを用意する\n",
    "instance_data = {\n",
    "    \"Q\": [[0.1, 0.2, -0.1],\n",
    "          [0.2, 0.3, 0.4],\n",
    "          [-0.1, 0.4, 0.0]]\n",
    "}\n",
    "\n",
    "# 問題をコンパイルする:\n",
    "# データを問題へと代入する\n",
    "interpreter = jm.Interpreter(instance_data)\n",
    "instance: ommx.v1.Instance = interpreter.eval_problem(problem)"
   ]
  },
  {
   "cell_type": "markdown",
   "metadata": {},
   "source": [
    "### 3. Qamomileを使って量子回路とハミルトニアンを作成する"
   ]
  },
  {
   "cell_type": "code",
   "execution_count": 4,
   "metadata": {},
   "outputs": [],
   "source": [
    "qaoa_converter = qm.qaoa.QAOAConverter(instance)\n",
    "\n",
    "# イジングハミルトニアンへとエンコードする\n",
    "qaoa_converter.ising_encode()\n",
    "\n",
    "# QAOAの量子回路を取得する\n",
    "qaoa_circuit = qaoa_converter.get_qaoa_ansatz(p=2)\n",
    "# 損失ハミルトニアンを取得する\n",
    "qaoa_hamiltonian = qaoa_converter.get_cost_hamiltonian()"
   ]
  },
  {
   "cell_type": "markdown",
   "metadata": {},
   "source": [
    "### 4. 量子計算SDK（QiskitまたはQuri Parts）へのトランスパイル  \n",
    "この例ではQiskitを使用します。"
   ]
  },
  {
   "cell_type": "code",
   "execution_count": 5,
   "metadata": {},
   "outputs": [
    {
     "data": {
      "image/png": "[encoded data removed]",
      "text/plain": [
       "<Figure size 872.774x284.278 with 1 Axes>"
      ]
     },
     "execution_count": 5,
     "metadata": {},
     "output_type": "execute_result"
    }
   ],
   "source": [
    "import qamomile.qiskit as qm_qk\n",
    "\n",
    "qk_transpiler = qm_qk.QiskitTranspiler()\n",
    "\n",
    "# QAOA量子回路をQiskit形式へと変換する\n",
    "qk_circuit = qk_transpiler.transpile_circuit(qaoa_circuit)\n",
    "qk_circuit.draw(output=\"mpl\")"
   ]
  },
  {
   "cell_type": "code",
   "execution_count": 6,
   "metadata": {},
   "outputs": [
    {
     "data": {
      "text/plain": [
       "SparsePauliOp(['IIZ', 'IZI', 'ZII', 'IZZ', 'ZIZ', 'ZZI', 'III'],\n",
       "              coeffs=[-0.1 +0.j, -0.45+0.j, -0.15+0.j,  0.1 +0.j, -0.05+0.j,  0.2 +0.j,\n",
       "  0.45+0.j])"
      ]
     },
     "execution_count": 6,
     "metadata": {},
     "output_type": "execute_result"
    }
   ],
   "source": [
    "# QAOAハミルトニアンをQiskit形式へと変換する\n",
    "qk_hamiltonian = qk_transpiler.transpile_hamiltonian(qaoa_hamiltonian)\n",
    "qk_hamiltonian"
   ]
  },
  {
   "cell_type": "markdown",
   "metadata": {},
   "source": [
    "### 5. 量子回路の実行\n",
    "\n",
    "量子回路を量子シミュレータまたは実際の量子コンピュータ上で実行します。この例ではQiskitを使用します。\n",
    "\n",
    "Qamomileでは、量子回路の実行は各SDKに委ねられており、ユーザーが自分で実装できるようになっています。現在の量子コンピュータの主な用途が研究や教育であることを踏まえると、量子最適化アルゴリズムを実行する多くのケースがこれらの分野に該当すると考えられます。Qamomileがブラックボックス化するのを避けるため、量子回路の実行部分はユーザーに任せており、アルゴリズムのカスタマイズを容易にしています。"
   ]
  },
  {
   "cell_type": "code",
   "execution_count": 7,
   "metadata": {},
   "outputs": [
    {
     "name": "stdout",
     "output_type": "stream",
     "text": [
      " message: Optimization terminated successfully.\n",
      " success: True\n",
      "  status: 1\n",
      "     fun: 0.02175724764529785\n",
      "       x: [ 8.003e-01  1.940e+00  1.020e+00  1.508e+00]\n",
      "    nfev: 310\n",
      "   maxcv: 0.0\n"
     ]
    }
   ],
   "source": [
    "import qiskit.primitives as qk_pr\n",
    "import numpy as np\n",
    "from scipy.optimize import minimize\n",
    "\n",
    "cost_history = []\n",
    "def cost_estimator(param_values):\n",
    "    estimator = qk_pr.StatevectorEstimator()\n",
    "    job = estimator.run([(qk_circuit, qk_hamiltonian, param_values)])\n",
    "    result = job.result()[0]\n",
    "    cost = result.data['evs']\n",
    "    cost_history.append(cost)\n",
    "    return cost\n",
    "\n",
    "# QAOAオプティマイザーを実行する\n",
    "result = minimize(\n",
    "    cost_estimator,\n",
    "    [np.pi / 4, np.pi / 2, np.pi / 2, np.pi / 4],\n",
    "    method=\"COBYLA\",\n",
    "    options={\"maxiter\": 1000},\n",
    ")\n",
    "print(result)"
   ]
  },
  {
   "cell_type": "code",
   "execution_count": 8,
   "metadata": {},
   "outputs": [
    {
     "data": {
      "image/png": "[encoded data removed]",
      "text/plain": [
       "<Figure size 640x480 with 1 Axes>"
      ]
     },
     "metadata": {},
     "output_type": "display_data"
    }
   ],
   "source": [
    "import matplotlib.pyplot as plt\n",
    "\n",
    "plt.title(\"Change of Cost\", fontsize=15)\n",
    "plt.xlabel(\"Iteration\", fontsize=15)\n",
    "plt.ylabel(\"Cost\", fontsize=15)\n",
    "plt.xlim(1, result.nfev)\n",
    "plt.plot(cost_history, label=\"Cost\", color=\"#2696EB\")\n",
    "plt.show()"
   ]
  },
  {
   "cell_type": "code",
   "execution_count": 9,
   "metadata": {},
   "outputs": [
    {
     "data": {
      "text/plain": [
       "{'001': 214, '000': 641, '100': 106, '101': 36, '010': 2, '011': 1}"
      ]
     },
     "execution_count": 9,
     "metadata": {},
     "output_type": "execute_result"
    }
   ],
   "source": [
    "# 最適化されたQAOAを実行する\n",
    "sampler = qk_pr.StatevectorSampler()\n",
    "qk_circuit.measure_all()\n",
    "job = sampler.run([(qk_circuit, result.x)], shots=1000)\n",
    "job_result = job.result()[0]\n",
    "qaoa_counts = job_result.data[\"meas\"]\n",
    "qaoa_counts.get_counts()"
   ]
  },
  {
   "cell_type": "markdown",
   "metadata": {},
   "source": [
    "### 6. 結果のデコード\n",
    "\n",
    "量子回路を実行した後、得られた結果をデコードして解を取得します。"
   ]
  },
  {
   "cell_type": "code",
   "execution_count": 12,
   "metadata": {},
   "outputs": [
    {
     "data": {
      "image/png": "[encoded data removed]",
      "text/plain": [
       "<Figure size 640x480 with 1 Axes>"
      ]
     },
     "metadata": {},
     "output_type": "display_data"
    }
   ],
   "source": [
    "from collections import defaultdict\n",
    "import matplotlib.pyplot as plt\n",
    "\n",
    "sampleset: ommx.v1.SampleSet = qaoa_converter.decode(qk_transpiler, job_result.data[\"meas\"])\n",
    "energies = []\n",
    "frequencies = []\n",
    "for entry in sampleset.raw.objectives.entries:\n",
    "    energies.append(entry.value)\n",
    "    frequencies.append(len(entry.ids))\n",
    "\n",
    "plt.bar(energies, frequencies, width=0.05)\n",
    "plt.xlabel('Objective')\n",
    "plt.ylabel('Frequency')\n",
    "plt.show()\n"
   ]
  },
  {
   "cell_type": "code",
   "execution_count": null,
   "metadata": {},
   "outputs": [],
   "source": []
  }
 ],
 "metadata": {
  "kernelspec": {
   "display_name": "Python 3 (ipykernel)",
   "language": "python",
   "name": "python3"
  },
  "language_info": {
   "codemirror_mode": {
    "name": "ipython",
    "version": 3
   },
   "file_extension": ".py",
   "mimetype": "text/x-python",
   "name": "python",
   "nbconvert_exporter": "python",
   "pygments_lexer": "ipython3",
   "version": "3.11.12"
  }
 },
 "nbformat": 4,
 "nbformat_minor": 4
}
