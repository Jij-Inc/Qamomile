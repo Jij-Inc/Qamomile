{
 "cells": [
  {
   "cell_type": "code",
   "execution_count": 1,
   "metadata": {
    "id": "hd7u31I2S7yE"
   },
   "outputs": [],
   "source": [
    "# !pip install bloqade-analog pulser"
   ]
  },
  {
   "cell_type": "code",
   "execution_count": 2,
   "metadata": {},
   "outputs": [
    {
     "data": {
      "text/latex": [
       "$$\\begin{array}{cccc}\\text{Problem:} & \\text{MWIS\\_Hamiltonian} & & \\\\& & \\min \\quad \\displaystyle - \\sum_{i = 0}^{V - 1} delta_{i} \\cdot n_{i} + \\sum_{e \\in E} U_{e_{0}, e_{1}} \\cdot n_{e_{0}} \\cdot n_{e_{1}} & \\\\\\text{{where}} & & & \\\\& n & 1\\text{-dim binary variable}\\\\\\end{array}$$"
      ],
      "text/plain": [
       "<jijmodeling.Problem at 0x1578bdc20>"
      ]
     },
     "execution_count": 2,
     "metadata": {},
     "output_type": "execute_result"
    }
   ],
   "source": [
    "import numpy as np\n",
    "import jijmodeling as jm\n",
    "import jijmodeling_transpiler.core as jmt\n",
    "\n",
    "def MWIS_problem():\n",
    "    # --- placeholders ---\n",
    "    V     = jm.Placeholder(\"V\")             \n",
    "    E     = jm.Placeholder(\"E\", ndim=2)    \n",
    "    delta = jm.Placeholder(\"delta\", ndim=1) \n",
    "    U     = jm.Placeholder(\"U\", ndim=2)\n",
    "    \n",
    "    n = jm.BinaryVar(\"n\", shape=(V,))\n",
    "    i = jm.Element(\"i\", belong_to=(0, V))\n",
    "    e = jm.Element(\"e\", belong_to=E)        \n",
    "    \n",
    "    # --- build problem ---\n",
    "    problem = jm.Problem(\"MWIS_Hamiltonian\")\n",
    "\n",
    "    linear_term = - jm.sum(i, delta[i] * n[i])\n",
    "    quadratic_term = jm.sum(e, U[e[0], e[1]] * n[e[0]] * n[e[1]])\n",
    "    \n",
    "    problem += linear_term + quadratic_term\n",
    "    return problem\n",
    "\n",
    "problem = MWIS_problem()\n",
    "problem"
   ]
  },
  {
   "cell_type": "code",
   "execution_count": 3,
   "metadata": {},
   "outputs": [],
   "source": [
    "import numpy as np\n",
    "quad = {\n",
    "    (0, 1): 4.0,   # coupling J_{01}\n",
    "    (0, 2): -2.0,  # coupling J_{02}\n",
    "    (1, 2): 3.2    # coupling J_{12}\n",
    "}\n",
    "delta = {\n",
    "    0: -1.2,   # bias h_0\n",
    "    1: -3.2,  # bias h_1\n",
    "    2: -1.2    # bias h_2\n",
    "}\n",
    "\n",
    "V_val = len(delta)\n",
    "E_val = np.array(list(quad.keys()), dtype=int)  \n",
    "delta_val = np.array([ - delta[i] for i in range(V_val) ])\n",
    "U_val = np.zeros((V_val, V_val))\n",
    "for (i,j), Jij in quad.items():\n",
    "    U_val[i, j] = U_val[j, i] = Jij\n",
    "\n",
    "instance = {\n",
    "    \"V\":     V_val,\n",
    "    \"E\":     E_val,\n",
    "    \"delta\": delta_val,\n",
    "    \"U\":     U_val,\n",
    "}\n",
    "\n",
    "compiled_instance = jmt.compile_model(problem, instance)"
   ]
  },
  {
   "cell_type": "code",
   "execution_count": 4,
   "metadata": {},
   "outputs": [
    {
     "data": {
      "text/plain": [
       "IsingModel(quad={(0, 1): 1.0, (0, 2): -0.5, (1, 2): 0.8}, linear={0: 0.09999999999999998, 1: -0.19999999999999996, 2: 0.30000000000000004}, constant=-1.5000000000000002, index_map=None)"
      ]
     },
     "execution_count": 4,
     "metadata": {},
     "output_type": "execute_result"
    }
   ],
   "source": [
    "from qamomile.core.converters.converter import QuantumConverter\n",
    "from qamomile.core.ising_qubo import IsingModel, qubo_to_ising\n",
    "import typing as typ\n",
    "\n",
    "class MyConverter(QuantumConverter):\n",
    "    def __init__(self, instance):\n",
    "        super().__init__(instance)\n",
    "\n",
    "    def get_cost_hamiltonian(self):\n",
    "        # Your logic to build and return the cost Hamiltonian\n",
    "        # e.g., loop over instance terms and assemble a PauliSum or similar\n",
    "        return my_hamiltonian\n",
    "\n",
    "# usage\n",
    "my_converter = MyConverter(compiled_instance)\n",
    "ising_model = my_converter.ising_encode()\n",
    "ising_model"
   ]
  },
  {
   "cell_type": "markdown",
   "metadata": {
    "id": "aCt24DKaUmS4"
   },
   "source": [
    "## Unit-Disk Mapping with `qamomile`\n",
    "\n",
    "### Performing the Mapping: `UnitDiskGraph` Class\n",
    "\n",
    "The `UnitDiskGraph` class (also in `qamomile.core.ising_qubo`) handles the conversion from an `IsingModel` to the UDG representation."
   ]
  },
  {
   "cell_type": "code",
   "execution_count": 5,
   "metadata": {
    "colab": {
     "base_uri": "https://localhost:8080/"
    },
    "id": "WbRQAdiVU6aG",
    "outputId": "75c187b1-79f7-4a10-f86e-d646830694d4"
   },
   "outputs": [
    {
     "name": "stdout",
     "output_type": "stream",
     "text": [
      "Overwriting delta from 2.7 to 1.5\n",
      "Converted to Unit Disk Graph:\n",
      "- 26 nodes in the grid graph\n",
      "- 3 pins (nodes corresponding to original variables)\n"
     ]
    }
   ],
   "source": [
    "from qamomile.udm import Ising_UnitDiskGraph\n",
    "\n",
    "udg = Ising_UnitDiskGraph(ising_model)\n",
    "\n",
    "print(f\"Converted to Unit Disk Graph:\")\n",
    "print(f\"- {len(udg.nodes)} nodes in the grid graph\")\n",
    "print(f\"- {len(udg.pins)} pins (nodes corresponding to original variables)\")"
   ]
  },
  {
   "cell_type": "markdown",
   "metadata": {
    "id": "PCdtZW3RVE1t"
   },
   "source": [
    "### Visualizing the UDG\n",
    "\n",
    "We can visualize the resulting UDG structure using `networkx` and `matplotlib`. The `UnitDiskGraph` object provides access to the underlying graph structure. This visualization helps understand how the abstract Ising problem is physically laid out using the UDM gadgets."
   ]
  },
  {
   "cell_type": "code",
   "execution_count": 6,
   "metadata": {
    "colab": {
     "base_uri": "https://localhost:8080/",
     "height": 807
    },
    "id": "ZTMi-xfPVGEM",
    "outputId": "5dc8f0bc-00ea-4f7b-bf39-0f9c73163687"
   },
   "outputs": [
    {
     "data": {
      "image/png": "[encoded data removed]",
      "text/plain": [
       "<Figure size 500x400 with 1 Axes>"
      ]
     },
     "metadata": {},
     "output_type": "display_data"
    }
   ],
   "source": [
    "import matplotlib.pyplot as plt\n",
    "import networkx as nx\n",
    "\n",
    "G_vis = udg.networkx_graph\n",
    "pos = nx.get_node_attributes(G_vis, 'pos')\n",
    "pins = udg.pins\n",
    "plt.figure(figsize=(5, 4))\n",
    "\n",
    "# Highlight pins (original variables)\n",
    "node_colors = ['Green' if i in pins else 'lightblue' for i in G_vis.nodes()]\n",
    "node_sizes = [300 if i in pins else 100 for i in G_vis.nodes()]\n",
    "\n",
    "nx.draw_networkx_nodes(G_vis, pos, node_color=node_colors, node_size=node_sizes)\n",
    "nx.draw_networkx_edges(G_vis, pos, width=0.5, alpha=0.5)\n",
    "\n",
    "# Label the pins with their original variable index\n",
    "pin_labels = {pin: f\"z{i}\" for i, pin in enumerate(pins)} # Use z_i for Ising spins\n",
    "nx.draw_networkx_labels(G_vis, pos, labels=pin_labels, font_size=10)\n",
    "\n",
    "plt.title(\"Unit Disk Graph Representation of the Ising Model\", fontsize=15)\n",
    "plt.xlabel(\"X coordinate\", fontsize=15)\n",
    "plt.ylabel(\"Y coordinate\", fontsize=15)\n",
    "plt.axis('equal') # Ensure aspect ratio is maintained\n",
    "plt.tight_layout()\n",
    "plt.show()"
   ]
  },
  {
   "cell_type": "markdown",
   "metadata": {
    "id": "qwYEXHz_WIzW"
   },
   "source": [
    "## 3. Solving MWIS-UDG with **`bloqade-analog`**\n",
    "\n",
    "Now that we have mapped the original Ising problem to an MWIS problem on a Unit-Disk Graph, we can leverage the native capabilities of neutral atom quantum computers to find the solution.\n",
    "\n",
    "### Implementation with **`bloqade-analog`**\n",
    "\n",
    "`bloqade-analog` is a Python library for simulating analog neutral atom quantum computations, particularly suited for adiabatic protocols like the one described above. The `bloqade_example.py` script shows how to use it with our UDG mapping.\n",
    "\n",
    "**Steps:**\n",
    "\n",
    "1.  **Prepare Inputs:**\n",
    "    *   Get atom locations from the `UnitDiskGraph` object (`udg.nodes`). These locations need to be scaled to physical units (e.g., micrometers) appropriate for typical blockade radii.\n",
    "    *   Get node weights (`udg.nodes[i].weight`). These weights are typically normalized.\n",
    "    *   Define the pulse parameters: maximum Rabi frequency `Omega_max`, maximum detuning `delta_max`, and total evolution time `t_max`."
   ]
  },
  {
   "cell_type": "code",
   "execution_count": 7,
   "metadata": {
    "id": "4sSNpnLTdYhW"
   },
   "outputs": [],
   "source": [
    "# def qubo_grid_to_locations(qubo_result, scale = 5.0):\n",
    "#     \"\"\"\n",
    "#     Convert a QUBO grid graph to a list of tuples, each represent the node location.\n",
    "\n",
    "#     Args:\n",
    "#         qubo_result: QUBOResult object from map_qubo\n",
    "\n",
    "#     Returns:\n",
    "#         List of (x, y) tuples\n",
    "#     \"\"\"\n",
    "#     return [(node.loc[0] * scale, node.loc[1] * scale) for node in qubo_result.grid_graph.nodes]\n",
    "\n",
    "# def qubo_result_to_weights(qubo_result):\n",
    "#     \"\"\"\n",
    "#     Convert a QUBOResult to a list of weights for each node.\n",
    "\n",
    "#     Args:\n",
    "#         qubo_result: QUBOResult object from map_qubo\n",
    "\n",
    "#     Returns:\n",
    "#         List of weights for each node in the grid graph.\n",
    "#     \"\"\"\n",
    "#     return [node.weight for node in qubo_result.grid_graph.nodes]"
   ]
  },
  {
   "cell_type": "code",
   "execution_count": 8,
   "metadata": {
    "colab": {
     "base_uri": "https://localhost:8080/"
    },
    "id": "SxdfEIjJWSTT",
    "outputId": "e974965f-49b5-4090-b335-405c3a3ec191"
   },
   "outputs": [
    {
     "name": "stdout",
     "output_type": "stream",
     "text": [
      "Node weights: [1.3, 1.8, 1.6, 5.0, 7.0, 3.0, 6.5, 5.5, 7.0, 5.0, 3.0, 5.5, 6.5, 1.4, 3.0, 3.0, 3.0, 3.0, 3.0, 3.0, 5.2, 6.8, 6.8, 5.2, 1.7, 1.2]\n",
      "Node locations: [(0.0, 10.0), (0.0, 30.0), (5.0, 0.0), (5.0, 5.0), (5.0, 10.0), (5.0, 20.0), (5.0, 25.0), (5.0, 30.0), (10.0, 5.0), (10.0, 10.0), (10.0, 15.0), (10.0, 25.0), (10.0, 30.0), (10.0, 35.0), (15.0, 5.0), (15.0, 25.0), (20.0, 10.0), (20.0, 30.0), (25.0, 15.0), (25.0, 20.0), (25.0, 25.0), (25.0, 30.0), (30.0, 25.0), (30.0, 30.0), (30.0, 35.0), (35.0, 25.0)]\n"
     ]
    }
   ],
   "source": [
    "import numpy as np\n",
    "import math\n",
    "\n",
    "# Scale factor to convert grid units to physical units (e.g., um)\n",
    "LOCATION_SCALE = 5.0 # Adjust based on desired blockade radius and hardware\n",
    "\n",
    "locations = udg.qubo_result.qubo_grid_to_locations(LOCATION_SCALE)\n",
    "weights = udg.qubo_result.qubo_result_to_weights()\n",
    "\n",
    "print(f\"Node weights: {weights}\")\n",
    "print(f\"Node locations: {locations}\")\n"
   ]
  },
  {
   "cell_type": "markdown",
   "metadata": {
    "id": "UyVGwrEtWhU1"
   },
   "source": [
    "2.  **Define the Program:** Use `bloqade.analog` to define the atom geometry and pulse sequence."
   ]
  },
  {
   "cell_type": "code",
   "execution_count": 9,
   "metadata": {
    "id": "-caANq6GWifL"
   },
   "outputs": [],
   "source": [
    "from bloqade.analog import start\n",
    "\n",
    "def solve_ising_bloqade(locations, weights, delta_max=60.0, Omega_max=15.0, t_max=4.0):\n",
    "    \"\"\"\n",
    "    Solve the Ising model using Bloqade.\n",
    "\n",
    "    \"\"\"\n",
    "    locations_array = np.array(locations)\n",
    "    centroid = locations_array.mean(axis=0)\n",
    "    centered_locations = locations_array - centroid\n",
    "    locations = list(map(tuple, centered_locations))\n",
    "\n",
    "\n",
    "    assert len(locations)==len(weights)\n",
    "    assert len(locations)==26\n",
    "    lw = len(weights)\n",
    "    weights_norm =  [x/max(weights) for x in weights]\n",
    "\n",
    "    def sine_waveform(t):\n",
    "        return Omega_max * math.sin(math.pi * t / t_max)**2\n",
    "\n",
    "    def linear_detune_waveform(t):\n",
    "        return delta_max * (2 * t / t_max - 1)\n",
    "\n",
    "    program = (\n",
    "        start.add_position(locations)\n",
    "        .rydberg.detuning.scale(weights_norm)\n",
    "        .fn(linear_detune_waveform, t_max)\n",
    "        .amplitude.uniform.fn(sine_waveform, t_max)\n",
    "    )\n",
    "\n",
    "    return program\n",
    "    \n",
    "program = solve_ising_bloqade(locations, weights)"
   ]
  },
  {
   "cell_type": "markdown",
   "metadata": {
    "id": "jSzz3kVffIC9"
   },
   "source": [
    "3.  **Run the Simulation:** Execute the program using Bloqade's emulator."
   ]
  },
  {
   "cell_type": "code",
   "execution_count": 10,
   "metadata": {
    "colab": {
     "base_uri": "https://localhost:8080/"
    },
    "id": "rGa0VExRXDfk",
    "outputId": "eda0c68f-5d2a-4f8d-bd20-5f0f4fcadf83"
   },
   "outputs": [
    {
     "name": "stdout",
     "output_type": "stream",
     "text": [
      "\n",
      "Bloqade Simulation Results (Top 5):\n",
      " 1. Bitstring: 10010011111101011001110101 (Count: 634)\n",
      " 2. Bitstring: 11010101111110011001110101 (Count: 336)\n",
      " 3. Bitstring: 11010101111110001101101110 (Count: 284)\n",
      " 4. Bitstring: 10010011111101011101101110 (Count: 279)\n",
      " 5. Bitstring: 01111101010110111001110101 (Count: 274)\n"
     ]
    }
   ],
   "source": [
    "blockade_radius = LOCATION_SCALE * 1.5 # blockade radius is set to cover the diagonoal node (1: sqrt(2))\n",
    "emu_results = program.bloqade.python().run(\n",
    "    shots=10000,\n",
    "    solver_name =\"dop853\",\n",
    "    blockade_radius=blockade_radius\n",
    ")\n",
    "\n",
    "report = emu_results.report()\n",
    "counts = report.counts()[0]\n",
    "\n",
    "# Sort by frequency\n",
    "sorted_counts = {k: v for k, v in sorted(counts.items(), key=lambda item: item[1], reverse=True)}\n",
    "\n",
    "print(\"\\nBloqade Simulation Results (Top 5):\")\n",
    "for i, (bitstring, count) in enumerate(list(sorted_counts.items())[:5]):\n",
    "    print(f\" {i+1}. Bitstring: {bitstring} (Count: {count})\")"
   ]
  },
  {
   "cell_type": "code",
   "execution_count": 11,
   "metadata": {},
   "outputs": [
    {
     "data": {
      "image/png": "[encoded data removed]",
      "text/plain": [
       "<Figure size 500x400 with 1 Axes>"
      ]
     },
     "metadata": {},
     "output_type": "display_data"
    }
   ],
   "source": [
    "import matplotlib.pyplot as plt\n",
    "import networkx as nx\n",
    "\n",
    "G_vis = udg.networkx_graph\n",
    "pos = nx.get_node_attributes(G_vis, 'pos')\n",
    "\n",
    "plt.figure(figsize=(5, 4))\n",
    "\n",
    "bitstr = list(sorted_counts.items())[:2][0][0]\n",
    "\n",
    "# Color and size nodes based on bit value\n",
    "node_colors = ['red' if b == '0' else 'lightgray' for b in bitstr]\n",
    "node_sizes = [300 if i in pins else 100 for i in G_vis.nodes()]\n",
    "\n",
    "nx.draw_networkx_nodes(G_vis, pos, node_color=node_colors, node_size=node_sizes)\n",
    "nx.draw_networkx_edges(G_vis, pos, width=0.5, alpha=0.5)\n",
    "\n",
    "# Label the pins with their original variable index\n",
    "pin_labels = {pin: f\"z{i}\" for i, pin in enumerate(pins)} # Use z_i for Ising spins\n",
    "nx.draw_networkx_labels(G_vis, pos, labels=pin_labels, font_size=10)\n",
    "\n",
    "plt.title(\"Unit Disk Graph Representation of the Result\", fontsize=15)\n",
    "plt.xlabel(\"X coordinate\", fontsize=15)\n",
    "plt.ylabel(\"Y coordinate\", fontsize=15)\n",
    "plt.axis('equal') # Ensure aspect ratio is maintained\n",
    "plt.tight_layout()\n",
    "plt.show()"
   ]
  },
  {
   "cell_type": "code",
   "execution_count": 12,
   "metadata": {},
   "outputs": [],
   "source": [
    "from qamomile.udm.transpiler import UDMTranspiler\n",
    "transpiler = UDMTranspiler(udg, V_val)\n",
    "sampleset = my_converter.decode(transpiler, counts) "
   ]
  },
  {
   "cell_type": "code",
   "execution_count": 13,
   "metadata": {},
   "outputs": [
    {
     "data": {
      "image/png": "[encoded data removed]",
      "text/plain": [
       "<Figure size 640x480 with 1 Axes>"
      ]
     },
     "metadata": {},
     "output_type": "display_data"
    }
   ],
   "source": [
    "plot_data = {}\n",
    "for sample in sampleset:\n",
    "    if sample.eval.objective in plot_data:\n",
    "        plot_data[sample.eval.objective] += sample.num_occurrences\n",
    "    else:\n",
    "        plot_data[sample.eval.objective] = sample.num_occurrences\n",
    "\n",
    "plt.bar(plot_data.keys(), plot_data.values(), width=0.25)\n",
    "plt.title(\"cost distribution of solution\", fontsize=15)\n",
    "plt.ylabel(\"Frequency\", fontsize=15)\n",
    "plt.xlabel(\"Energy\", fontsize=15)\n",
    "plt.show()"
   ]
  },
  {
   "cell_type": "code",
   "execution_count": null,
   "metadata": {},
   "outputs": [],
   "source": []
  }
 ],
 "metadata": {
  "colab": {
   "provenance": []
  },
  "kernelspec": {
   "display_name": "Python 3 (ipykernel)",
   "language": "python",
   "name": "python3"
  },
  "language_info": {
   "codemirror_mode": {
    "name": "ipython",
    "version": 3
   },
   "file_extension": ".py",
   "mimetype": "text/x-python",
   "name": "python",
   "nbconvert_exporter": "python",
   "pygments_lexer": "ipython3",
   "version": "3.10.6"
  }
 },
 "nbformat": 4,
 "nbformat_minor": 4
}
