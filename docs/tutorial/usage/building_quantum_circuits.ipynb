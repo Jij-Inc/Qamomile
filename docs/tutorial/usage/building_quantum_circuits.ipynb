{
 "cells": [
  {
   "cell_type": "markdown",
   "metadata": {},
   "source": [
    "# Building Quantum Circuits\n",
    "\n",
    "## Introduction\n",
    "Welcome to this tutorial on building quantum circuits with Qamomile! While Qamomile is primarily designed for quantum optimization tasks, it also offers powerful capabilities for constructing arbitrary quantum circuits. This tutorial will guide you through the process of creating and manipulating quantum circuits using Qamomile's unique intermediate representation.\n",
    "\n",
    "\n",
    "## Prerequisites\n",
    "Before we begin, make sure you have:\n",
    "\n",
    "- Qamomile Installed in your Python Environment\n"
   ]
  },
  {
   "cell_type": "markdown",
   "metadata": {},
   "source": [
    "## Getting Started\n",
    "First, let's import the necessary modules from Qamomile:"
   ]
  },
  {
   "cell_type": "code",
   "execution_count": 1,
   "metadata": {},
   "outputs": [],
   "source": [
    "import qamomile.core as qm"
   ]
  },
  {
   "cell_type": "markdown",
   "metadata": {},
   "source": [
    "## Creating a Quantum Circuit\n",
    "To create a quantum circuit in Qamomile, we start by initializing quantum and classical registers, then use these to create a QuantumCircuit object:"
   ]
  },
  {
   "cell_type": "code",
   "execution_count": 2,
   "metadata": {},
   "outputs": [],
   "source": [
    "circuit = qm.circuit.QuantumCircuit(2)  # Create a quantum circuit with 2 qubits"
   ]
  },
  {
   "cell_type": "markdown",
   "metadata": {},
   "source": [
    "## Adding Gates to the Circuit\n",
    "Qamomile supports a wide range of quantum gates. Let's add some common gates to our circuit:"
   ]
  },
  {
   "cell_type": "code",
   "execution_count": 3,
   "metadata": {},
   "outputs": [],
   "source": [
    "# Apply Hadamard gate to the first qubit\n",
    "circuit.h(0)\n",
    "\n",
    "# Apply CNOT gate with first qubit as control and second as target\n",
    "circuit.cx(0, 1)\n",
    "\n",
    "# Apply X-gate to the second qubit\n",
    "circuit.x(1)"
   ]
  },
  {
   "cell_type": "markdown",
   "metadata": {},
   "source": [
    "The quantum gates supported by Qamomile can be found at the following link: \n",
    "https://jij-inc.github.io/Qamomile/autoapi/core/circuit/circuit/index.html#core.circuit.circuit.QuantumCircuit"
   ]
  },
  {
   "cell_type": "markdown",
   "metadata": {},
   "source": [
    "## Measurements\n",
    "To perform measurements in Qamomile:"
   ]
  },
  {
   "cell_type": "code",
   "execution_count": 4,
   "metadata": {},
   "outputs": [],
   "source": [
    "circuit.measure_all()"
   ]
  },
  {
   "cell_type": "markdown",
   "metadata": {},
   "source": [
    "## Visualizing the Circuit\n",
    "Qamomile provides a method to visualize the quantum circuit:"
   ]
  },
  {
   "cell_type": "code",
   "execution_count": 5,
   "metadata": {},
   "outputs": [
    {
     "data": {
      "image/png": "[encoded data removed]",
      "text/plain": [
       "<Figure size 340x140 with 1 Axes>"
      ]
     },
     "metadata": {},
     "output_type": "display_data"
    }
   ],
   "source": [
    "from qamomile.core.circuit.drawer import plot_quantum_circuit\n",
    "\n",
    "plot_quantum_circuit(circuit)"
   ]
  },
  {
   "cell_type": "markdown",
   "metadata": {},
   "source": [
    "## Circuit Composition\n",
    "\n",
    "You can combine smaller circuits to create more complex ones:"
   ]
  },
  {
   "cell_type": "code",
   "execution_count": 6,
   "metadata": {},
   "outputs": [
    {
     "data": {
      "image/png": "[encoded data removed]",
      "text/plain": [
       "<Figure size 244x140 with 1 Axes>"
      ]
     },
     "metadata": {},
     "output_type": "display_data"
    }
   ],
   "source": [
    "# Create two separate circuits\n",
    "circuit1 = qm.circuit.QuantumCircuit(2)\n",
    "circuit1.h(0)\n",
    "circuit1.h(1)\n",
    "\n",
    "circuit2 = qm.circuit.QuantumCircuit(2)\n",
    "circuit2.cx(0, 1)\n",
    "\n",
    "\n",
    "circuit1.append(circuit2)\n",
    "\n",
    "plot_quantum_circuit(circuit1)"
   ]
  },
  {
   "cell_type": "markdown",
   "metadata": {},
   "source": [
    "By specifying the `decompose_level` when plotting, you can display the circuit in more detail."
   ]
  },
  {
   "cell_type": "code",
   "execution_count": 7,
   "metadata": {},
   "outputs": [
    {
     "data": {
      "image/png": "[encoded data removed]",
      "text/plain": [
       "<Figure size 212x140 with 1 Axes>"
      ]
     },
     "metadata": {},
     "output_type": "display_data"
    }
   ],
   "source": [
    "plot_quantum_circuit(circuit1, decompose_level=1)"
   ]
  },
  {
   "cell_type": "markdown",
   "metadata": {},
   "source": [
    "## Executing the Quantum Circuit\n",
    "\n",
    "While Qamomile itself doesn't have the functionality to execute quantum circuits, it can translate the circuit to other quantum SDKs for execution.\n",
    "\n",
    "### Qiskit Backend\n",
    "\n",
    "Here's how you can execute a Qamomile circuit using Qiskit:\n",
    "\n",
    "1- First import the necessary modules:"
   ]
  },
  {
   "cell_type": "code",
   "execution_count": 8,
   "metadata": {},
   "outputs": [],
   "source": [
    "from qamomile.qiskit import QiskitTranspiler\n",
    "import qiskit.primitives as qk_pr"
   ]
  },
  {
   "cell_type": "markdown",
   "metadata": {},
   "source": [
    "2- Create a QiskitTranspiler object:"
   ]
  },
  {
   "cell_type": "code",
   "execution_count": 9,
   "metadata": {},
   "outputs": [],
   "source": [
    "qk_transpiler = QiskitTranspiler()"
   ]
  },
  {
   "cell_type": "markdown",
   "metadata": {},
   "source": [
    "3- Trasnpile your Qamomile circuit to a Qiskit circuit:"
   ]
  },
  {
   "cell_type": "code",
   "execution_count": 10,
   "metadata": {},
   "outputs": [],
   "source": [
    "qk_circuit = qk_transpiler.transpile_circuit(circuit)"
   ]
  },
  {
   "cell_type": "markdown",
   "metadata": {},
   "source": [
    "4- Now you can use Qiskit's functionality to execute the circuit. For example, to run the circuit on a simulator:"
   ]
  },
  {
   "cell_type": "code",
   "execution_count": 11,
   "metadata": {},
   "outputs": [],
   "source": [
    "simulator = qk_pr.StatevectorSampler()\n",
    "job = simulator.run([qk_circuit], shots=1000)\n",
    "result = job.result()"
   ]
  },
  {
   "cell_type": "markdown",
   "metadata": {},
   "source": [
    "5- The results can then be processed and analyzed using Qiskit's tools:"
   ]
  },
  {
   "cell_type": "code",
   "execution_count": 12,
   "metadata": {},
   "outputs": [
    {
     "data": {
      "text/plain": [
       "{'10': 494, '01': 506}"
      ]
     },
     "execution_count": 12,
     "metadata": {},
     "output_type": "execute_result"
    }
   ],
   "source": [
    "result[0].data['c'].get_counts()"
   ]
  },
  {
   "cell_type": "markdown",
   "metadata": {},
   "source": [
    "### QURI-Parts with Qulacs Backend\n",
    "\n",
    "Here's how you can execute a Qamomile circuit using QURI-Parts with Qulacs.\n",
    "\n",
    "Execute the quantum circuit by converting it in the same way as Qiskit."
   ]
  },
  {
   "cell_type": "code",
   "execution_count": 13,
   "metadata": {},
   "outputs": [],
   "source": [
    "from qamomile.quri_parts import QuriPartsTranspiler\n",
    "\n",
    "# Transpile the circuit to QURI-Parts\n",
    "qp_transpiler = QuriPartsTranspiler()\n",
    "qp_circuit = qp_transpiler.transpile_circuit(circuit)"
   ]
  },
  {
   "cell_type": "markdown",
   "metadata": {},
   "source": [
    "Now you can use Qulacs to execute the circuit:"
   ]
  },
  {
   "cell_type": "code",
   "execution_count": 14,
   "metadata": {},
   "outputs": [],
   "source": [
    "from quri_parts.core.state import quantum_state, apply_circuit\n",
    "from quri_parts.qulacs.sampler import create_qulacs_vector_sampler\n",
    "\n",
    "sampler = create_qulacs_vector_sampler()\n",
    "sampling_result = sampler(qp_circuit, 1000)"
   ]
  },
  {
   "cell_type": "code",
   "execution_count": 15,
   "metadata": {},
   "outputs": [
    {
     "data": {
      "text/plain": [
       "Counter({1: 501, 2: 499})"
      ]
     },
     "execution_count": 15,
     "metadata": {},
     "output_type": "execute_result"
    }
   ],
   "source": [
    "sampling_result"
   ]
  },
  {
   "cell_type": "markdown",
   "metadata": {},
   "source": [
    "### Pennylane Backend\n",
    "\n",
    "Here's how you can execute a Qamomile circuit using Pennylane.\n",
    "\n",
    "Execute the quantum circuit by converting it in the same way as Qiskit."
   ]
  },
  {
   "cell_type": "code",
   "execution_count": 16,
   "metadata": {},
   "outputs": [],
   "source": [
    "from qamomile.pennylane import PennylaneTranspiler\n",
    "\n",
    "# Transpile the circuit to Pennylane\n",
    "qml_transpiler = PennylaneTranspiler()\n",
    "qml_circuit_func = qml_transpiler.transpile_circuit(circuit)"
   ]
  },
  {
   "cell_type": "code",
   "execution_count": 17,
   "metadata": {},
   "outputs": [],
   "source": [
    "import pennylane as qml\n",
    "\n",
    "dev = qml.device(\"default.qubit\", wires=circuit.num_qubits, shots=1000)\n",
    "@qml.qnode(dev)\n",
    "def qml_circuit(params):\n",
    "    qml_circuit_func(params)\n",
    "        \n",
    "    return qml.counts()"
   ]
  },
  {
   "cell_type": "code",
   "execution_count": 18,
   "metadata": {},
   "outputs": [
    {
     "data": {
      "text/plain": [
       "{'01': 483, '10': 517}"
      ]
     },
     "execution_count": 18,
     "metadata": {},
     "output_type": "execute_result"
    }
   ],
   "source": [
    "qml_circuit(None)"
   ]
  },
  {
   "cell_type": "markdown",
   "metadata": {},
   "source": [
    "## Conclusion\n",
    "\n",
    "This tutorial has introduced you to building quantum circuits using Qamomile's intermediate representation and executing them using Qiskit and QURI-Parts. While Qamomile's primary focus is on quantum optimization, these circuit-building capabilities provide flexibility for various quantum computing tasks.  \n",
    "Happy quantum computing with Qamomile!"
   ]
  }
 ],
 "metadata": {
  "kernelspec": {
   "display_name": "Python 3 (ipykernel)",
   "language": "python",
   "name": "python3"
  },
  "language_info": {
   "codemirror_mode": {
    "name": "ipython",
    "version": 3
   },
   "file_extension": ".py",
   "mimetype": "text/x-python",
   "name": "python",
   "nbconvert_exporter": "python",
   "pygments_lexer": "ipython3",
   "version": "3.10.6"
  }
 },
 "nbformat": 4,
 "nbformat_minor": 4
}
