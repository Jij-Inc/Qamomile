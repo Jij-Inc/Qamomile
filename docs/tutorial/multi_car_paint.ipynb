{
 "cells": [
  {
   "cell_type": "markdown",
   "metadata": {
    "id": "i9nXiSl26DJK"
   },
   "source": [
    "# QAOA for Two-Color Multi Car Paint Shop Problem\n",
    "The goal of [the multi-car paint shop problem](https://arxiv.org/pdf/2109.07876) is to reduce the number of color switches between cars in a paint shop line during the manufacturing process, which is recognized as an NP-hard problem.\n",
    "\n",
    "Let's consider two-color scenario in this tutorial. "
   ]
  },
  {
   "cell_type": "markdown",
   "metadata": {},
   "source": [
    "## Expressing the problem using a mathematical model\n",
    "\n",
    "Given a set of cars $ X = \\{x_1, x_2, \\dots, x_n\\} $ that need to be painted in one of two colors, denoted as $ x_i=0 $ and $ x_i=1 $,  for each $ i = 1, \\dots n$. The objective is to minimize the number of color switches (i.e., changes from $ 0 $ to $ 1 $ or from $ 1 $ to $ 0 $) between consecutive cars in the sequence.\n",
    "\n",
    "\n",
    "The cost of the sequence is the number of times the color switches between consecutive cars, which can be formulated as:\n",
    "\n",
    "$$\n",
    "\\text{min} \\quad - \\sum_{i=0}^{N-2} s_i s_{i+1}\n",
    "$$\n",
    "\n",
    "The term, $-s_i \\cdot s_{i+1}$, represents consecutive cars and indicates whether they are going to be painted the same color, either $-1$ or $1$. This term becomes $-1$ when the cars are painted the same color, and $+1$ when they are painted different colors. Summing over all the cars in $X$, the cost function is minimized. By converting the spin variables to binary variables, the mathematical expression transforms into the following: \n",
    "\n",
    "$$\n",
    "\\text{min} \\quad -\\sum_{i=0}^{N-2} (x_i - 0.5) \\cdot (x_{i+1} - 0.5)\n",
    "$$\n",
    "\n",
    "In the Two-Color Multi-Car Paint Shop Problem, the goal is to minimize the number of color switches while meeting specific constraints. In this notebook, we consider the constraint that the scheduled number of cars in each of the two colors per model (the total number of models is $M$) must be met.\n",
    "\n",
    "$$\n",
    " V_{i,m} \\cdot x_i = W_m \\quad ,\\forall m \\in \\{0, \\dots, M-1\\}\n",
    "$$\n",
    "\n",
    ", where $V_{i,m}$ is a one-hot 2-dimensional matrix representing which model each car $i$ belongs to."
   ]
  },
  {
   "cell_type": "code",
   "execution_count": 1,
   "metadata": {
    "id": "pSop3H_y6Aw1"
   },
   "outputs": [],
   "source": [
    "import jijmodeling as jm\n",
    "import jijmodeling_transpiler.core as jmt\n",
    "import qamomile as qm\n",
    "import numpy as np\n",
    "import random as rand"
   ]
  },
  {
   "cell_type": "markdown",
   "metadata": {},
   "source": [
    "## Formulation using JijModeling\n",
    "Let's first model the problem using JijModeling."
   ]
  },
  {
   "cell_type": "code",
   "execution_count": 2,
   "metadata": {
    "colab": {
     "base_uri": "https://localhost:8080/",
     "height": 226
    },
    "id": "0U8vttmT6n92",
    "outputId": "a03d3f76-bbbf-4056-9917-e2029ee548d1"
   },
   "outputs": [
    {
     "data": {
      "text/latex": [
       "$$\\begin{array}{cccc}\\text{Problem:} & \\text{MCPS} & & \\\\& & \\min \\quad \\displaystyle \\sum_{i = 0}^{N - 2} - \\left(x_{i} - 0.5\\right) \\cdot \\left(x_{i + 1} - 0.5\\right) & \\\\\\text{{s.t.}} & & & \\\\ & \\text{n-hot} & \\displaystyle \\sum_{j = 0}^{N - 1} V_{j, m} \\cdot x_{j} = W_{m} & \\forall m \\in \\left\\{0,\\ldots,M - 1\\right\\} \\\\\\text{{where}} & & & \\\\& x & 1\\text{-dim binary variable}\\\\\\end{array}$$"
      ],
      "text/plain": [
       "<jijmodeling.Problem at 0x11ca061b0>"
      ]
     },
     "execution_count": 2,
     "metadata": {},
     "output_type": "execute_result"
    }
   ],
   "source": [
    "def get_mcps_problem() -> jm.Problem:\n",
    "  V = jm.Placeholder(\"V\", ndim=2) # sequence of car entry\n",
    "  W = jm.Placeholder(\"W\", ndim=1) # number of black cars by model\n",
    "  N = jm.Placeholder(\"N\") # number of cars\n",
    "  M = jm.Placeholder(\"M\") # number of car models\n",
    "  x = jm.BinaryVar(\"x\", shape=(N,))\n",
    "  i = jm.Element(\"i\", belong_to=(0, N-1))\n",
    "  j = jm.Element(\"j\", belong_to=(0, N))\n",
    "  m = jm.Element(\"m\", belong_to=(0, M))\n",
    "\n",
    "  problem = jm.Problem(\"MCPS\") \n",
    "  problem += jm.sum([i], -(x[i] - 0.5) * (x[i+1] - 0.5))\n",
    "  problem += jm.Constraint(\"n-hot\", jm.sum([j], V[j][m] * x[j]) == W[m], forall=m)\n",
    "  return problem\n",
    "problem = get_mcps_problem()\n",
    "problem"
   ]
  },
  {
   "cell_type": "code",
   "execution_count": 3,
   "metadata": {
    "colab": {
     "base_uri": "https://localhost:8080/"
    },
    "id": "bx-_iCNEDzTZ",
    "outputId": "490e6f96-f19d-4e62-a2be-64404d3d6b3f"
   },
   "outputs": [
    {
     "name": "stdout",
     "output_type": "stream",
     "text": [
      "The order of car intake: ['🚕', '🚕', '🚙', '🚓', '🚙', '🚓', '🚗', '🚗']\n",
      "['🚗', '🚕', '🚙', '🚓']\n",
      "[[0. 1. 0. 0.]\n",
      " [0. 1. 0. 0.]\n",
      " [0. 0. 1. 0.]\n",
      " [0. 0. 0. 1.]\n",
      " [0. 0. 1. 0.]\n",
      " [0. 0. 0. 1.]\n",
      " [1. 0. 0. 0.]\n",
      " [1. 0. 0. 0.]]\n"
     ]
    }
   ],
   "source": [
    "car_map = {\n",
    "    0: \"🚗\",  # Red car\n",
    "    1: \"🚕\",  # Taxi\n",
    "    2: \"🚙\",  # SUV\n",
    "    3: \"🚓\"   # Police car\n",
    "}\n",
    "\n",
    "number_of_models = 4 \n",
    "number_of_cars = 8\n",
    "# number of black cars by model\n",
    "black_per_models = [1, 1, 1, 1]\n",
    "\n",
    "# Create 8 cars in 4 different kinds of models\n",
    "cars = [0, 0, 1, 1, 2, 2, 3, 3] \n",
    "rand.shuffle(cars)\n",
    "print(f\"The order of car intake: {[car_map[car] for car in cars]}\") \n",
    "\n",
    "#Create a 2d array of the sequence of car entry\n",
    "cars_onehot = np.eye(number_of_models)[cars]\n",
    "print([car_map[i] for i in range(4)])\n",
    "print(cars_onehot)"
   ]
  },
  {
   "cell_type": "markdown",
   "metadata": {},
   "source": [
    "## Creating a Compiled Instance\n",
    "A compiled instance is an intermediate representation where actual values are substituted into the constants of the mathematical expressions. Before converting to various algorithms, it is necessary to first create this compiled instance."
   ]
  },
  {
   "cell_type": "code",
   "execution_count": 4,
   "metadata": {
    "id": "sER6W0afIppX"
   },
   "outputs": [],
   "source": [
    "data = {\"V\": cars_onehot, \"W\":  black_per_models, \"N\":  number_of_cars, \"M\": number_of_models}\n",
    "compiled_model = jmt.compile_model(problem, data)"
   ]
  },
  {
   "cell_type": "markdown",
   "metadata": {},
   "source": [
    "## Generation of QAOA Circuit and Hamiltonian Using Qamomile\n",
    "Qamomile provides a converter that generates circuits and Hamiltonians for QAOA from the compiled instance. Additionally, it allows setting parameters that arise during the conversion to QUBO.\n",
    "\n",
    "First, we will generate the Ising Hamiltonian. Once this is done, we can also generate the quantum circuit and Hamiltonian for QAOA. "
   ]
  },
  {
   "cell_type": "code",
   "execution_count": 5,
   "metadata": {
    "id": "biyMqO-NJqgu"
   },
   "outputs": [
    {
     "data": {
      "image/png": "[encoded data removed]",
      "text/plain": [
       "<Figure size 516x560 with 1 Axes>"
      ]
     },
     "metadata": {},
     "output_type": "display_data"
    }
   ],
   "source": [
    "from qamomile.core.converters.qaoa import QAOAConverter\n",
    "from qamomile.core.circuit.drawer import plot_quantum_circuit\n",
    "\n",
    "qaoa_converter = QAOAConverter(compiled_model)\n",
    "# Encode to Ising Hamiltonian\n",
    "qaoa_converter.ising_encode(multipliers={\"n-hot\": 3})\n",
    "# Get the QAOA circuit\n",
    "qaoa_circuit = qaoa_converter.get_qaoa_ansatz(p=1)\n",
    "plot_quantum_circuit(qaoa_circuit) #print it out\n",
    "# Get the cost Hamiltonian\n",
    "qaoa_cost = qaoa_converter.get_cost_hamiltonian()"
   ]
  },
  {
   "cell_type": "markdown",
   "metadata": {},
   "source": [
    "## Converting the Obtained Circuit and Hamiltonian for Qiskit\n",
    "let's first convert the circuit and Hamiltonian for Qiskit."
   ]
  },
  {
   "cell_type": "code",
   "execution_count": 6,
   "metadata": {
    "id": "JZ9e1qh7JtWg"
   },
   "outputs": [],
   "source": [
    "import qamomile.qiskit as qm_qk\n",
    "qk_transpiler = qm_qk.QiskitTranspiler()\n",
    "\n",
    "# Transpile the QAOA circuit to Qiskit\n",
    "qk_circuit = qk_transpiler.transpile_circuit(qaoa_circuit)\n",
    "qk_hamiltonian = qk_transpiler.transpile_hamiltonian(qaoa_cost)"
   ]
  },
  {
   "cell_type": "markdown",
   "metadata": {},
   "source": [
    "## Running QAOA\n",
    "Now that everything is ready, let's run QAOA. Here, we are using Scipy's COBYLA as the optimization algorithm."
   ]
  },
  {
   "cell_type": "code",
   "execution_count": 7,
   "metadata": {
    "colab": {
     "base_uri": "https://localhost:8080/"
    },
    "id": "ELs-WCq5Jv9b",
    "outputId": "3f9937b7-ca5c-4c98-f671-1044b10540b5"
   },
   "outputs": [
    {
     "name": "stdout",
     "output_type": "stream",
     "text": [
      " message: Optimization terminated successfully.\n",
      " success: True\n",
      "  status: 1\n",
      "     fun: -1.0355860005356643\n",
      "       x: [ 2.787e+00  1.013e+00]\n",
      "    nfev: 80\n",
      "   maxcv: 0.0\n"
     ]
    }
   ],
   "source": [
    "import qiskit.primitives as qk_pr\n",
    "import numpy as np\n",
    "from scipy.optimize import minimize\n",
    "\n",
    "cost_history = []\n",
    "def cost_estimator(param_values):\n",
    "    estimator = qk_pr.StatevectorEstimator()\n",
    "    job = estimator.run([(qk_circuit, qk_hamiltonian, param_values)])\n",
    "    result = job.result()[0]\n",
    "    cost = result.data['evs']\n",
    "    cost_history.append(cost)\n",
    "    return cost\n",
    "\n",
    "# Run QAOA optimization\n",
    "result = minimize(\n",
    "    cost_estimator,\n",
    "    np.random.rand(2) * np.pi,\n",
    "    method=\"COBYLA\",\n",
    "    options={\"maxiter\": 100},\n",
    ")\n",
    "print(result)"
   ]
  },
  {
   "cell_type": "markdown",
   "metadata": {},
   "source": [
    "Let's also take a look at the changes in the cost function"
   ]
  },
  {
   "cell_type": "code",
   "execution_count": 8,
   "metadata": {
    "colab": {
     "base_uri": "https://localhost:8080/",
     "height": 469
    },
    "id": "c8Qj2OUB6HkA",
    "outputId": "6bef1601-45b7-4e28-8fdd-2dc450fca94a"
   },
   "outputs": [
    {
     "data": {
      "image/png": "[encoded data removed]",
      "text/plain": [
       "<Figure size 640x480 with 1 Axes>"
      ]
     },
     "metadata": {},
     "output_type": "display_data"
    }
   ],
   "source": [
    "import matplotlib.pyplot as plt\n",
    "\n",
    "plt.plot(cost_history)\n",
    "plt.xlabel(\"Iteration\")\n",
    "plt.ylabel(\"Cost\")\n",
    "plt.show()"
   ]
  },
  {
   "cell_type": "markdown",
   "metadata": {},
   "source": [
    "Now we have obtained the QAOA parameters. Let's use them for sampling"
   ]
  },
  {
   "cell_type": "code",
   "execution_count": 9,
   "metadata": {
    "id": "QjdU1QW_6X8N"
   },
   "outputs": [],
   "source": [
    "# Run Optimized QAOA circuit\n",
    "sampler = qk_pr.StatevectorSampler()\n",
    "qk_circuit.measure_all()\n",
    "job = sampler.run([(qk_circuit, result.x)], shots=1000)\n",
    "job_result = job.result()[0]\n",
    "qaoa_counts = job_result.data[\"meas\"]"
   ]
  },
  {
   "cell_type": "markdown",
   "metadata": {},
   "source": [
    "## Evaluating the Results"
   ]
  },
  {
   "cell_type": "markdown",
   "metadata": {},
   "source": [
    "One can determine the optimal solution for the painting order."
   ]
  },
  {
   "cell_type": "code",
   "execution_count": 10,
   "metadata": {
    "colab": {
     "base_uri": "https://localhost:8080/"
    },
    "id": "_ddpxjij6dv0",
    "outputId": "aff5f8a9-537b-4b29-b02c-427eb254253a"
   },
   "outputs": [
    {
     "name": "stdout",
     "output_type": "stream",
     "text": [
      "The order of car intake:  ['🚕', '🚕', '🚙', '🚓', '🚙', '🚓', '🚗', '🚗']\n",
      "Color separation:  ['', '⚫', '⚫', '⚫', '', '', '', '⚫']\n"
     ]
    }
   ],
   "source": [
    "paint_map = {\n",
    "    1: \"⚫\",  # Black heart \n",
    "    0: \"\"    # Empty string\n",
    "}\n",
    "\n",
    "sampleset = qaoa_converter.decode(qk_transpiler, job_result.data[\"meas\"])\n",
    "max_energy = -1e9\n",
    "best_values = None\n",
    "for sample in sampleset.feasibles():\n",
    "    if max_energy < sample.eval.objective:\n",
    "        max_energy = sample.eval.objective\n",
    "        best_values = sample.var_values\n",
    "\n",
    "best_values = sampleset.lowest()[0].var_values\n",
    "\n",
    "values = [0] * 8\n",
    "for idx in best_values[\"x\"].values:\n",
    "  values[idx[0]] = 1\n",
    "\n",
    "print(\"The order of car intake: \", [car_map[car] for car in cars])\n",
    "print(\"Color separation: \", [paint_map[value] for value in values])"
   ]
  },
  {
   "cell_type": "code",
   "execution_count": 14,
   "metadata": {},
   "outputs": [
    {
     "data": {
      "image/png": "[encoded data removed]",
      "text/plain": [
       "<Figure size 640x480 with 1 Axes>"
      ]
     },
     "metadata": {},
     "output_type": "display_data"
    }
   ],
   "source": [
    "from collections import defaultdict\n",
    "import matplotlib.pyplot as plt\n",
    "\n",
    "sampleset = qaoa_converter.decode(qk_transpiler, job_result.data[\"meas\"])\n",
    "\n",
    "# Initialize a dictionary to accumulate occurrences for each energy value\n",
    "frequencies = defaultdict(int)\n",
    "\n",
    "# Define the precision to which you want to round the energy values\n",
    "for sample in sampleset:\n",
    "    energy = round(sample.eval.objective, ndigits = 3)  \n",
    "    frequencies[energy] += sample.num_occurrences\n",
    "\n",
    "plt.bar(frequencies.keys(), frequencies.values(), width=0.25)\n",
    "plt.xticks(sorted(np.array(list(frequencies.keys()))))\n",
    "plt.xlabel('Objective', fontsize=15)\n",
    "plt.ylabel('Frequency', fontsize=15)\n",
    "plt.show()"
   ]
  },
  {
   "cell_type": "markdown",
   "metadata": {},
   "source": [
    "## Evaluation using classical algorithms\n",
    "Comparing the best costs by brute force search."
   ]
  },
  {
   "cell_type": "code",
   "execution_count": 15,
   "metadata": {
    "colab": {
     "base_uri": "https://localhost:8080/"
    },
    "id": "hs56wo3tEy9F",
    "outputId": "dda62774-f968-4605-d763-3ed442a29624"
   },
   "outputs": [
    {
     "name": "stdout",
     "output_type": "stream",
     "text": [
      "exact solution:  3\n",
      "solution using QAOA:  3\n"
     ]
    }
   ],
   "source": [
    "def eval_mcps_state(cars, black_per_models, state, num_cars, num_models):\n",
    "  cnt = [0] * num_models\n",
    "  for i in range(num_cars):\n",
    "    cnt[cars[i]] += state[i]\n",
    "  for i in range(num_models):\n",
    "    if black_per_models[i] != cnt[i]:\n",
    "      return None\n",
    "  score = 0\n",
    "  for i in range(num_cars-1):\n",
    "    if state[i] != state[i+1]:\n",
    "      score += 1\n",
    "  return score\n",
    "\n",
    "def best_cost_mcps(cars, black_per_models, num_cars, num_models):\n",
    "  best_score = 1e9\n",
    "  for i in range(2**num_cars):\n",
    "    state = [0] * num_cars\n",
    "    for j in range(num_cars):\n",
    "      if i & (2**j) != 0:\n",
    "        state[j] = 1\n",
    "    score = eval_mcps_state(cars, black_per_models, state, num_cars, num_models)\n",
    "    if not(score is None):\n",
    "      best_score = min(best_score, score)\n",
    "  return best_score\n",
    "\n",
    "exact_score = best_cost_mcps(cars, black_per_models, number_of_cars, number_of_models)\n",
    "qaoa_score = eval_mcps_state(cars, black_per_models, values, number_of_cars, number_of_models)\n",
    "print(\"exact solution: \", exact_score)\n",
    "print(\"solution using QAOA: \", qaoa_score)"
   ]
  },
  {
   "cell_type": "code",
   "execution_count": null,
   "metadata": {},
   "outputs": [],
   "source": []
  }
 ],
 "metadata": {
  "colab": {
   "provenance": []
  },
  "kernelspec": {
   "display_name": "Python 3 (ipykernel)",
   "language": "python",
   "name": "python3"
  },
  "language_info": {
   "codemirror_mode": {
    "name": "ipython",
    "version": 3
   },
   "file_extension": ".py",
   "mimetype": "text/x-python",
   "name": "python",
   "nbconvert_exporter": "python",
   "pygments_lexer": "ipython3",
   "version": "3.11.8"
  }
 },
 "nbformat": 4,
 "nbformat_minor": 4
}
