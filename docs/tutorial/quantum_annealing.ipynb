{
 "cells": [
  {
   "cell_type": "markdown",
   "id": "56be7a08-96b5-421b-b2a6-e5a14db9c97b",
   "metadata": {},
   "source": [
    "## Quantum Annealing using Qamomile and QuTip"
   ]
  },
  {
   "cell_type": "markdown",
   "id": "9be4cfd7-dea4-49bf-8b62-1ffb9c25a3ee",
   "metadata": {},
   "source": [
    "From here, we will introduce applications in quantum annealing using Qamomile and QuTip. The Hamiltonian we are considering this time is of the following form\n",
    "\n",
    "$$\n",
    "H(s) = s H_0 + (1 - s) H_1\n",
    "$$\n",
    "\n",
    "where $ H_0 $ is the Hamiltonian for the Max-Cut problem we want to solve and often formulated in terms of an Ising model, and $ H_1 $ is the Hamiltonian for the transverse magnetic field.For further details on how to construct the Hamiltonian for the max-cut problem, please refer to [QAOA for Max-Cut](https://jij-inc.github.io/Qamomile/tutorial/maxcut.html).\n",
    "\n",
    "$$\n",
    "H_0 = -\\frac{1}{2} \\sum_{(i,j) \\in E} w_{i,j}(1 - s_i s_j)  , \\quad H_1 = - \\sum_{i=1}^N \\sigma_i^x\n",
    "$$\n",
    "\n",
    "\n",
    "As $t$ increases and $1-t$ decreases, the system gradually evolves from the ground state of $H_1$ to the ground state of  $H_0$, which corresponds to the solution to the optimization problem. \n",
    "\n",
    "Quantum annealing relies on quantum tunneling to allow the system to escape local minima by passing through energy barriers, rather than needing to climb over them as in classical annealing.\n",
    "\n",
    "First, let’s import the Qamomile library and other libraries used in this example.\n"
   ]
  },
  {
   "cell_type": "code",
   "execution_count": 1,
   "id": "be3ddbdf-1794-4c7e-96eb-5eb0a3994bf0",
   "metadata": {},
   "outputs": [
    {
     "ename": "ModuleNotFoundError",
     "evalue": "No module named 'qamomile.qutip'",
     "output_type": "error",
     "traceback": [
      "\u001b[0;31m---------------------------------------------------------------------------\u001b[0m",
      "\u001b[0;31mModuleNotFoundError\u001b[0m                       Traceback (most recent call last)",
      "Cell \u001b[0;32mIn[1], line 5\u001b[0m\n\u001b[1;32m      3\u001b[0m \u001b[38;5;28;01mimport\u001b[39;00m \u001b[38;5;21;01mqamomile\u001b[39;00m\u001b[38;5;21;01m.\u001b[39;00m\u001b[38;5;21;01mcore\u001b[39;00m\u001b[38;5;21;01m.\u001b[39;00m\u001b[38;5;21;01moperator\u001b[39;00m \u001b[38;5;28;01mas\u001b[39;00m \u001b[38;5;21;01mqm_o\u001b[39;00m\n\u001b[1;32m      4\u001b[0m \u001b[38;5;28;01mimport\u001b[39;00m \u001b[38;5;21;01mmatplotlib\u001b[39;00m\u001b[38;5;21;01m.\u001b[39;00m\u001b[38;5;21;01mpyplot\u001b[39;00m \u001b[38;5;28;01mas\u001b[39;00m \u001b[38;5;21;01mplt\u001b[39;00m\n\u001b[0;32m----> 5\u001b[0m \u001b[38;5;28;01mimport\u001b[39;00m \u001b[38;5;21;01mqamomile\u001b[39;00m\u001b[38;5;21;01m.\u001b[39;00m\u001b[38;5;21;01mqutip\u001b[39;00m \u001b[38;5;28;01mas\u001b[39;00m \u001b[38;5;21;01mqm_qt\u001b[39;00m\n\u001b[1;32m      7\u001b[0m \u001b[38;5;28;01mdef\u001b[39;00m \u001b[38;5;21mMaxcut_problem\u001b[39m() \u001b[38;5;241m-\u001b[39m\u001b[38;5;241m>\u001b[39m jm\u001b[38;5;241m.\u001b[39mProblem:\n\u001b[1;32m      8\u001b[0m     V \u001b[38;5;241m=\u001b[39m jm\u001b[38;5;241m.\u001b[39mPlaceholder(\u001b[38;5;124m\"\u001b[39m\u001b[38;5;124mV\u001b[39m\u001b[38;5;124m\"\u001b[39m)\n",
      "\u001b[0;31mModuleNotFoundError\u001b[0m: No module named 'qamomile.qutip'"
     ]
    }
   ],
   "source": [
    "import jijmodeling as jm\n",
    "import numpy as np\n",
    "import qamomile.core.operator as qm_o\n",
    "import matplotlib.pyplot as plt\n",
    "import qamomile.qutip as qm_qt\n",
    "\n",
    "def Maxcut_problem() -> jm.Problem:\n",
    "    V = jm.Placeholder(\"V\")\n",
    "    E = jm.Placeholder(\"E\", ndim=2)\n",
    "    w = jm.Placeholder(\"w\", ndim=2)\n",
    "    x = jm.BinaryVar(\"x\", shape=(V,))\n",
    "    e = jm.Element(\"e\", belong_to=E)\n",
    "    i = jm.Element(\"i\", belong_to=V)\n",
    "    j = jm.Element(\"j\", belong_to=V)\n",
    "\n",
    "    problem = jm.Problem(\"Maxcut\")\n",
    "    si = 2 * x[e[0]] - 1\n",
    "    sj = 2 * x[e[1]] - 1\n",
    "    si.set_latex(\"s_{e[0]}\")\n",
    "    sj.set_latex(\"s_{e[1]}\")\n",
    "    obj = -1 / 2 * jm.sum(e, w[e[0], e[1]] * (1 - si * sj))\n",
    "    problem += obj\n",
    "    return problem\n",
    "\n",
    "\n",
    "problem = Maxcut_problem()\n",
    "problem"
   ]
  },
  {
   "cell_type": "code",
   "execution_count": null,
   "id": "b3b5562e-686c-4412-b4ac-5d482795fba9",
   "metadata": {},
   "outputs": [],
   "source": [
    "import networkx as nx\n",
    "from IPython.display import display, Latex\n",
    "\n",
    "G = nx.Graph()\n",
    "num_nodes = 5\n",
    "edges = [(0, 1, 1), (0, 4, 1), (1, 2, 1), (1, 3, 1), (2, 3, 1), (3, 4, 1)]\n",
    "G.add_nodes_from(range(num_nodes))\n",
    "G.add_weighted_edges_from(edges)\n",
    "\n",
    "weight_matrix = nx.to_numpy_array(G)\n",
    "\n",
    "edge_labels = nx.get_edge_attributes(G, \"weight\")\n",
    "pos = {0: (1, 1), 1: (0, 1), 2: (-1, 0.5), 3: (0, 0), 4: (1, 0)}\n",
    "plt.title(\"G=(V,E)\")\n",
    "plt.plot(figsize=(5, 4))\n",
    "\n",
    "nx.draw_networkx(G, pos, node_size=500)\n",
    "label_key = nx.draw_networkx_edge_labels(G, pos, edge_labels=edge_labels)"
   ]
  },
  {
   "cell_type": "code",
   "execution_count": null,
   "id": "28195407-600d-45e2-9a2d-b14b94fc2e20",
   "metadata": {},
   "outputs": [],
   "source": [
    "# Create data\n",
    "V = num_nodes\n",
    "E = edges\n",
    "w = weight_matrix\n",
    "data = {\"V\": V, \"E\": E, \"w\": w}\n",
    "data"
   ]
  },
  {
   "cell_type": "code",
   "execution_count": null,
   "id": "9b27d5c1-4bc9-4365-b1ac-dbe48bda2eaa",
   "metadata": {},
   "outputs": [],
   "source": [
    "import jijmodeling_transpiler.core as jmt\n",
    "compiled_model = jmt.compile_model(problem, data)"
   ]
  },
  {
   "cell_type": "code",
   "execution_count": null,
   "id": "055212ad-8709-4850-9b99-4a24cb7ff286",
   "metadata": {},
   "outputs": [],
   "source": [
    "import qamomile.core as qm\n",
    "\n",
    "# Obtain cost hamiltonian\n",
    "qaoa_converter = qm.qaoa.QAOAConverter(compiled_model)\n",
    "H0 = qaoa_converter.get_cost_hamiltonian()"
   ]
  },
  {
   "cell_type": "markdown",
   "id": "694fcf20-92c1-4b96-aff6-e44ac8fd55f0",
   "metadata": {},
   "source": [
    "Now transpile the qamomile’s hamiltonian to the qutip’s hamiltonian"
   ]
  },
  {
   "cell_type": "code",
   "execution_count": null,
   "id": "8910ed0b-1664-4211-8cbd-c3a6e9a94501",
   "metadata": {},
   "outputs": [],
   "source": [
    "qt_transpiler = qm_qt.QuTiPTranspiler()\n",
    "qt_H0= qt_transpiler.transpile_hamiltonian(H0)"
   ]
  },
  {
   "cell_type": "markdown",
   "id": "a329bc68-f20a-43df-aa39-d6c624faa307",
   "metadata": {},
   "source": [
    "Same procedure for $H_1$"
   ]
  },
  {
   "cell_type": "code",
   "execution_count": null,
   "id": "5bb8afe1-4cc8-47bd-845a-e84212bf37b5",
   "metadata": {},
   "outputs": [],
   "source": [
    "H1 = qm_o.Hamiltonian()\n",
    "for q1 in range(V):\n",
    "    H1 -= qm_o.X(q1)\n",
    "qt_H1= qt_transpiler.transpile_hamiltonian(H1)\n"
   ]
  },
  {
   "cell_type": "markdown",
   "id": "aad9d0d9-f406-4f3d-9bdd-d9c264853746",
   "metadata": {},
   "source": [
    "We can calculate the energy spectrum by using `eigenenergies` form QuTiP. We will examine how the eigenenergy of the Hamiltonian changes as the parameter $s$ varies from 0 to 1.\n"
   ]
  },
  {
   "cell_type": "code",
   "execution_count": null,
   "id": "e268dbb2-0a52-4f9c-b310-b75a638f0a94",
   "metadata": {},
   "outputs": [],
   "source": [
    "from qutip import *\n",
    "slist = np.linspace(0.0, 1.0, 101)\n",
    "Elists = [[] for i in range(2**V)]\n",
    "\n",
    "for s in slist:\n",
    "    qt_H = s*qt_H0 + (1-s)*qt_H1\n",
    "    evals = qt_H.eigenenergies()\n",
    "    for i in range(2**V):\n",
    "        Elists[i].append(evals[i])"
   ]
  },
  {
   "cell_type": "code",
   "execution_count": null,
   "id": "dd3e97a1-caf7-4cb0-be77-3cb34117d9b4",
   "metadata": {},
   "outputs": [],
   "source": [
    "for i in range(2**V):\n",
    "    plt.plot(slist, Elists[i], label=f\"{i+1}th\")\n",
    "\n",
    "plt.xlabel(\"t\")\n",
    "plt.ylabel(\"Eigenenergies\")\n",
    "#plt.legend()\n",
    "plt.show()\n"
   ]
  },
  {
   "cell_type": "markdown",
   "id": "42a44777-e227-43de-9e88-61ea5597e02e",
   "metadata": {},
   "source": [
    "We can verify if the state corresponding to the ground energy is the optimal solution for the max-cut problem. According to the plot, there are four degenerate solutions. Let's examine the first eigenstate"
   ]
  },
  {
   "cell_type": "code",
   "execution_count": null,
   "id": "55b79d48-f765-4c13-8a97-761a66eb5bd5",
   "metadata": {},
   "outputs": [],
   "source": [
    "evals, eigstates = qt_H0.eigenstates()\n",
    "eket0 = eigstates[0]\n",
    "state_vector = eket0.full().flatten()\n",
    "indices_with_one = np.where(np.abs(state_vector) == 1.0)[0]\n",
    "\n",
    "# Convert indices to their binary representation\n",
    "qubit_states = [\n",
    "    np.array(list(map(int, format(index, f'0{V}b'))))\n",
    "    for index in indices_with_one\n",
    "]"
   ]
  },
  {
   "cell_type": "code",
   "execution_count": null,
   "id": "54eced75-b0c4-4bf0-ab3d-32d0d0dd2c18",
   "metadata": {},
   "outputs": [],
   "source": [
    "# Transform the qutip's state back to sampleset format\n",
    "from qamomile.core.bitssample import BitsSample, BitsSampleSet\n",
    "sample = BitsSample(1,qubit_states[0])\n",
    "sample_set = BitsSampleSet(bitarrays=[sample])\n",
    "transformed_state=qaoa_converter.decode_bits_to_sampleset(sample_set).data[0].var_values['x'].values"
   ]
  },
  {
   "cell_type": "markdown",
   "id": "45c95db6-614b-440c-9d49-464a1e351cd4",
   "metadata": {},
   "source": [
    "The result is the same as that obtained using [QAOA](https://jij-inc.github.io/Qamomile/tutorial/maxcut.html)"
   ]
  },
  {
   "cell_type": "code",
   "execution_count": null,
   "id": "0acc1e97-ca5c-46f5-be01-13ff49011d3a",
   "metadata": {},
   "outputs": [],
   "source": [
    "edge_colors = []\n",
    "\n",
    "def get_edge_colors(\n",
    "    graph, cut_solution, in_cut_color=\"r\", not_in_cut_color=\"b\"\n",
    ") :\n",
    "    cut_set_1 = [node[0] for node, value in cut_solution.items() if value == 1.0]\n",
    "    cut_set_2 = [node for node in graph.nodes() if node not in cut_set_1]\n",
    "\n",
    "    edge_colors = []\n",
    "    for u, v, _ in graph.edges(data=True):\n",
    "        if (u in cut_set_1 and v in cut_set_2) or (u in cut_set_2 and v in cut_set_1):\n",
    "            edge_colors.append(in_cut_color)\n",
    "        else:\n",
    "            edge_colors.append(not_in_cut_color)\n",
    "    node_colors = [\"#2696EB\" if node in cut_set_1 else \"#EA9b26\" for node in G.nodes()]\n",
    "    return edge_colors, node_colors\n",
    "\n",
    "\n",
    "edge_colors, node_colors = get_edge_colors(G, transformed_state)\n",
    "plt.plot(figsize=(5, 4))\n",
    "nx.draw_networkx(\n",
    "    G,\n",
    "    pos,\n",
    "    node_size=500,\n",
    "    width=3,\n",
    "    with_labels=True,\n",
    "    edge_color=edge_colors,\n",
    "    node_color=node_colors,\n",
    ")\n",
    "label_key = nx.draw_networkx_edge_labels(G, pos, edge_labels=edge_labels)"
   ]
  },
  {
   "cell_type": "markdown",
   "id": "3448f8e4-cad2-4e85-8e66-4f498089a57b",
   "metadata": {},
   "source": [
    "Next, let's calculate the dynamics of quantum annealing and try to determine the success probability of the annealing. In the Hamiltonian $H(s)$ introduced earlier, we define the annealing time $T$ with $s = t / T$. In quantum annealing, if $T$ is taken sufficiently large, the ground state can theoretically be obtained with 100\\% probability. Therefore, we adjust $T$ and perform quantum annealing, and we examine how much the final state $|\\psi(T)\\rangle$ overlaps with the ground state $|\\phi_0\\rangle$ of $H_0$ by looking at $|\\langle \\phi_0 | \\psi(T) \\rangle|^2$. We refer to this as the success probability of quantum annealing.\n",
    "\n",
    "Quantum annealing follows the Schrödinger equation for time evolution, but with QuTiP, we can numerically solve this Schrödinger equation easily with simple code.\n",
    "\n"
   ]
  },
  {
   "cell_type": "code",
   "execution_count": null,
   "id": "bf8c2ace-0bf3-4a87-9d27-fe7bde7a8bac",
   "metadata": {},
   "outputs": [],
   "source": [
    "T = 100.0\n",
    "def f0(t, args):\n",
    "    return t/T\n",
    "\n",
    "def f1(t, args):\n",
    "    return 1 - t/T"
   ]
  },
  {
   "cell_type": "markdown",
   "id": "a1f1084c-02de-4d96-ba4b-b23cc9ef798e",
   "metadata": {},
   "source": [
    "The entire Hamiltonian is given as a list where each element is a pair consisting of a Hamiltonian and its coefficient.\n",
    "\n",
    "We create the initial state $ \\psi(t)$ at $t = 0$, which is the ground state of $H_1$.\n"
   ]
  },
  {
   "cell_type": "code",
   "execution_count": null,
   "id": "a61ce5bd-9064-4b2c-9890-a4251cd18f0f",
   "metadata": {},
   "outputs": [],
   "source": [
    "H = [[qt_H0, f0], [qt_H1, f1]]\n",
    "psi0 = tensor([Qobj([[1], [1]])/np.sqrt(2) for i in range(V)])"
   ]
  },
  {
   "cell_type": "markdown",
   "id": "eeaac1de-4c86-4d6a-a3d7-a9f2dc983cca",
   "metadata": {},
   "source": [
    "This time, we will not only look at the success probability but also examine how much $|\\psi(t)\\rangle$ overlaps with $|\\phi_0\\rangle$ at each moment. To solve the Schrödinger equation, we use `mesolve`. By providing the Hamiltonian to be solved (which may depend on time), the initial state, a list of times, a list of collapse operators (which is not relevant this time), and a list of operators for which we want to calculate the expectation values at each moment (this time, $\\rho = |\\phi_0\\rangle \\langle \\phi_0|$, a function that converts the ket vector into a density operator), the dynamics can be calculated. `ket2dm` converts the ket vector to a density operator.\n"
   ]
  },
  {
   "cell_type": "code",
   "execution_count": null,
   "id": "06cccc3f-42c8-432a-9aae-67ca4daa5686",
   "metadata": {},
   "outputs": [],
   "source": [
    "tlist = np.linspace(0.0, T, 101)\n",
    "result = mesolve(H, psi0, tlist, [], [ket2dm(eket0)])"
   ]
  },
  {
   "cell_type": "markdown",
   "id": "9e4aa0f7-2a04-4161-8563-79aad9008883",
   "metadata": {},
   "source": [
    "Among the calculation results, the expected value $|\\langle \\phi_0 | \\psi(t) \\rangle|^2$, which we wanted to calculate, is stored in `result.expect[0]`. Let's plot it.\n"
   ]
  },
  {
   "cell_type": "code",
   "execution_count": null,
   "id": "80665cbf-18d0-4f2b-a0da-e038c108d5dd",
   "metadata": {},
   "outputs": [],
   "source": [
    "plt.plot(result.times, result.expect[0])\n",
    "plt.xlabel(\"Time\")\n",
    "plt.ylabel(\"Probability\")\n",
    "plt.show()"
   ]
  },
  {
   "cell_type": "markdown",
   "id": "e646589d-cd63-4847-adb5-2c74fc89e36b",
   "metadata": {},
   "source": [
    "Masaphys. *PythonとQuTiPで量子アニーリングのダイナミクスを追う*. Qiita. Accessed October 30, 2024. [https://qiita.com/masaphys/items/38aeaee5313f81e15414](https://qiita.com/masaphys/items/38aeaee5313f81e15414)\n"
   ]
  },
  {
   "cell_type": "code",
   "execution_count": null,
   "id": "cc64a5dd-4ff8-4ddb-8150-c46f854cdd6e",
   "metadata": {},
   "outputs": [],
   "source": []
  }
 ],
 "metadata": {
  "kernelspec": {
   "display_name": "Python 3 (ipykernel)",
   "language": "python",
   "name": "python3"
  },
  "language_info": {
   "codemirror_mode": {
    "name": "ipython",
    "version": 3
   },
   "file_extension": ".py",
   "mimetype": "text/x-python",
   "name": "python",
   "nbconvert_exporter": "python",
   "pygments_lexer": "ipython3",
   "version": "3.11.8"
  }
 },
 "nbformat": 4,
 "nbformat_minor": 5
}
