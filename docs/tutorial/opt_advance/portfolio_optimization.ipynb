{
 "cells": [
  {
   "cell_type": "markdown",
   "id": "f4c810c3",
   "metadata": {},
   "source": [
    "# Fermionic QAOA for Portfolio Optimization\n",
    "In this tutorial, we will solve the portfolio optimization using the Femionic Quantum Approximate Optimization Algorithm (FQAOA)."
   ]
  },
  {
   "cell_type": "code",
   "execution_count": 2,
   "id": "e0c81a50",
   "metadata": {},
   "outputs": [],
   "source": [
    "import copy\n",
    "from itertools import combinations\n",
    "import numpy as np\n",
    "import matplotlib.pyplot as plt\n",
    "import scipy.optimize as opt\n",
    "import networkx as nx\n",
    "import qiskit.primitives as qk_pr\n",
    "\n",
    "import jijmodeling as jm\n",
    "import ommx.v1\n",
    "from ommx_pyscipopt_adapter import OMMXPySCIPOptAdapter\n",
    "\n",
    "import qamomile.core as qm\n",
    "from qamomile.core.circuit.circuit import ParametricTwoQubitGate\n",
    "from qamomile.qiskit import QiskitTranspiler\n",
    "from qamomile.core.circuit.drawer import plot_quantum_circuit\n",
    "from qamomile.core.converters.fqaoa import FQAOAConverter\n",
    "from qamomile.core.ising_qubo import IsingModel, qubo_to_ising\n",
    "\n",
    "rng = np.random.default_rng()"
   ]
  },
  {
   "cell_type": "markdown",
   "id": "818bc3be",
   "metadata": {},
   "source": [
    "# Portfolio optimization\n",
    "\n",
    "The portfolio optimization problem is the problem of finding the optimal portfolio in asset investment. \n",
    "Here, we use a formulation based on the most well-known Markowitz model. The Markowitz model aims to maximize returns while minimizing risk. \n",
    "Risk is given by the variance $\\mu_{ij}$ between assets, and return is represented by $h_i$. \n",
    "The combination of these two forms the cost function:\n",
    "\n",
    "$$\n",
    "C(\\boldsymbol{w}) = -\\lambda \\sum_{1 = i \\leq j}^N \\sigma_{ij} w_i w_j + (1-\\lambda) \\sum_{i=1}^N \\mu_i w_i.\n",
    "$$\n",
    "\n",
    "Here, $\\lambda : (0 < \\lambda < 1)$ is a parameter that adjusts the balance between return and risk. \n",
    "The solution to the portfolio optimization is obtained by solving the minimization problem of this function. The decision variable $w_i$ represents the position for the $i$-th asset. \n",
    "When $w_i = 0$, the stock is not held (no position), and when $w_i = \\pm 1$, the stock is held in a long or short position. \n",
    "Furthermore, if there is a limit on the number of assets that can be held, it can be expressed with the following constraint conditions:\n",
    "\n",
    "$$\n",
    "\\sum_i w_i = D.\n",
    "$$\n",
    "\n",
    "Here, $D$ is the total number of assets that can be held. In this case, the portfolio optimization problem becomes a constrained combinatorial optimization problem."
   ]
  },
  {
   "cell_type": "markdown",
   "id": "e6230468",
   "metadata": {},
   "source": [
    "# Constructing the Mathematical Model\n",
    "\n",
    "The mathematical model of portfolio optimization is implemented using `JijModeling`. Since QAOA is an algorithm for QUBO, the integer variables $w = \\{-1, 0 , 1\\}^N$ need to be converted into binary variables $x = \\{0,1\\}$. Here, two binary variables are used for each variable $w_i$, and $w_i = 1 - x_{i,1} - x_{i,2}$ is used to represent it.\n",
    "\n",
    "$$\n",
    "\\begin{gather*}\n",
    "C(\\boldsymbol{x}) = -\\lambda \\sum_{i=1}^N \\sigma_{ij} \\sum_{1 = d \\leq d'}^2 \\left(x_{i,d}-\\frac{1}{2}\\right) \\left(x_{j,d'}-\\frac{1}{2}\\right) + (1-\\lambda) \\sum_{i=1}^N \\mu_i \\sum_{d=1}^2 \\left( x_{i,d}-\\frac{1}{2} \\right) \\\\\n",
    "{\\rm{s.t.}} \\quad \\sum_{i=1}^N\\sum_{d=1}^2 x_{i,d} = N-M \n",
    "\\end{gather*}\n",
    "$$\n",
    "\n",
    "First, we will implement the mathematical model of the portofolio optimization problem using `JijModeling`."
   ]
  },
  {
   "cell_type": "code",
   "execution_count": 4,
   "id": "f4755d19",
   "metadata": {},
   "outputs": [
    {
     "data": {
      "text/latex": [
       "$$\\begin{array}{cccc}\\text{Problem:} & \\text{Portfolio Optimization} & & \\\\& & \\min \\quad \\displaystyle - \\lambda \\cdot \\sum_{l = 0}^{N - 1} \\sum_{l' = 0}^{N - 1} \\sigma_{l, l'} \\cdot \\sum_{d = 0}^{D - 1} \\sum_{d' = 0}^{D - 1} \\left(x_{l, d} - 0.5\\right) \\cdot \\left(x_{l', d'} - 0.5\\right) + \\left(- \\lambda + 1\\right) \\cdot \\sum_{l = 0}^{N - 1} \\mu_{l} \\cdot \\sum_{d = 0}^{D - 1} \\left(x_{l, d} - 0.5\\right) & \\\\\\text{{s.t.}} & & & \\\\ & \\text{the total number of stock holdings} & \\displaystyle \\sum_{l = 0}^{N - 1} \\sum_{d = 0}^{D - 1} x_{l, d} = N - M &  \\\\\\text{{where}} & & & \\\\& x & 2\\text{-dim binary variable}\\\\\\end{array}$$"
      ],
      "text/plain": [
       "<jijmodeling.Problem at 0x105434400>"
      ]
     },
     "execution_count": 4,
     "metadata": {},
     "output_type": "execute_result"
    }
   ],
   "source": [
    "def create_potofolio_optimzation_problem():\n",
    "    N = jm.Placeholder(\"N\") # The number of decision variables\n",
    "    D = jm.Placeholder(\"D\") # The number of bits that need to encode an integer variable into binary variables\n",
    "    M = jm.Placeholder(\"M\")\n",
    "    lam = jm.Placeholder(\"lam\") # A parameter that adjusts the balance between risk and return\n",
    "    lam.set_latex(\"\\lambda\")\n",
    "    sigma = jm.Placeholder(\"sigma\", ndim=2) # A covariance matrix that represents the normalized asset returns\n",
    "    sigma.set_latex(\"\\sigma\")\n",
    "    mu = jm.Placeholder(\"mu\", ndim=1) # A returns vector that represents the normalized average asset \n",
    "    mu.set_latex(\"\\mu\")\n",
    "    \n",
    "    x = jm.BinaryVar(\"x\", shape=(N,D))\n",
    "    l = jm.Element(\"l\", belong_to=(0,N))\n",
    "    l_dash = jm.Element(\"l'\", belong_to=(0,N))\n",
    "    d = jm.Element(\"d\", belong_to=(0,D))\n",
    "    d_dash = jm.Element(\"d'\", belong_to=(0,D))\n",
    "    \n",
    "    problem = jm.Problem(\"Portfolio Optimization\", sense=jm.ProblemSense.MINIMIZE)\n",
    "    \n",
    "    problem += -lam * jm.sum([l, l_dash], sigma[l,l_dash] * jm.sum([d, d_dash], (x[l,d]-0.5) * (x[l_dash, d_dash]-0.5))) + (1-lam) * jm.sum(l, mu[l] * jm.sum(d, (x[l,d]-0.5)))\n",
    "    \n",
    "    problem += jm.Constraint(\"the total number of stock holdings\", jm.sum([l,d], x[l,d])==N-M)\n",
    "    \n",
    "    return problem\n",
    "    \n",
    "problem_minimize = create_potofolio_optimzation_problem()\n",
    "problem_minimize"
   ]
  },
  {
   "cell_type": "markdown",
   "id": "2c04798f",
   "metadata": {},
   "source": [
    "We will now prepare the problem to be solved and perform compilation using `JijModeling.Interpreter` and `ommx.v1.Instance`."
   ]
  },
  {
   "cell_type": "code",
   "execution_count": 5,
   "id": "a246375b",
   "metadata": {},
   "outputs": [],
   "source": [
    "num_integer = 5\n",
    "num_bit = 2\n",
    "num_stock = 3\n",
    "sigma = rng.uniform(-0.1, 0.1, size=(num_integer, num_integer))\n",
    "mu = rng.uniform(-1.0, 1.0, size=num_integer)\n",
    "lam = 0.1\n",
    "\n",
    "instance_data = {\"N\": num_integer, \"D\": num_bit, \"M\": num_stock, \"lam\": lam, \"sigma\": sigma, \"mu\": mu}\n",
    "interpreter = jm.Interpreter(instance_data)\n",
    "instance: ommx.v1.Instance = interpreter.eval_problem(problem_minimize)"
   ]
  },
  {
   "cell_type": "markdown",
   "id": "79a4b97d",
   "metadata": {},
   "source": [
    "# Implementing QAOA using Qamomile\n",
    "\n",
    "We generate the FQAOA circuit and Hamiltonian from the compiled Instance. The converter used to generate these is `qm.fqaoa.FQAOAConverter`."
   ]
  },
  {
   "cell_type": "code",
   "execution_count": 6,
   "id": "f6f3e256",
   "metadata": {},
   "outputs": [],
   "source": [
    "num_fermions = num_integer - num_stock # N - M\n",
    "p = 10\n",
    "fqaoa_converter = FQAOAConverter(instance, num_fermions=num_fermions, mixer_connectivity='cyclic', normalize_model=False)\n",
    "fqaoa_circuit = fqaoa_converter.get_fqaoa_ansatz(p)\n",
    "fqaoa_cost = fqaoa_converter.get_cost_hamiltonian()"
   ]
  },
  {
   "cell_type": "markdown",
   "id": "76440442",
   "metadata": {},
   "source": [
    "# Run QAOA using Qiskit\n",
    "\n",
    "Here, we generate the Qiskit’s QAOA circuit and Hamiltonian using the `qamomile.qiskit.QiskitTranspiler` converters. By utilizing the two methods,`QiskitTranspiler.transpile_circuit` and `QiskitTranspiler.transpile_hamiltonian`, we can transform the QAOA circuit and Hamiltonian into a format compatible with Qiskit."
   ]
  },
  {
   "cell_type": "code",
   "execution_count": 7,
   "id": "f7e3a37f",
   "metadata": {},
   "outputs": [],
   "source": [
    "qk_transpiler = QiskitTranspiler()\n",
    "qk_circuit = qk_transpiler.transpile_circuit(fqaoa_circuit)\n",
    "qk_cost = qk_transpiler.transpile_hamiltonian(fqaoa_cost)"
   ]
  },
  {
   "cell_type": "markdown",
   "id": "7e25ef66",
   "metadata": {},
   "source": [
    "We run QAOA to optimize the parameters. Here, we use the BFGS method as the optimizer."
   ]
  },
  {
   "cell_type": "code",
   "execution_count": 8,
   "id": "c066f4c7",
   "metadata": {},
   "outputs": [
    {
     "data": {
      "text/plain": [
       "  message: Optimization terminated successfully.\n",
       "  success: True\n",
       "   status: 0\n",
       "      fun: 0.738592496278632\n",
       "        x: [ 4.847e+00  6.180e+00 ...  5.668e+00 -4.581e+00]\n",
       "      nit: 202\n",
       "      jac: [ 5.960e-07  7.823e-07 ...  2.310e-07  2.757e-07]\n",
       " hess_inv: [[ 1.537e+01 -1.015e+01 ...  3.121e+00 -1.027e+01]\n",
       "            [-1.015e+01  1.859e+01 ... -2.376e+01  4.800e+01]\n",
       "            ...\n",
       "            [ 3.121e+00 -2.376e+01 ...  4.190e+02 -3.835e+02]\n",
       "            [-1.027e+01  4.800e+01 ... -3.835e+02  5.629e+02]]\n",
       "     nfev: 4452\n",
       "     njev: 212"
      ]
     },
     "execution_count": 8,
     "metadata": {},
     "output_type": "execute_result"
    }
   ],
   "source": [
    "init_params = [rng.uniform(0.0, 2.0*np.pi) for i in range(2*p)]\n",
    "estimator = qk_pr.StatevectorEstimator()\n",
    "\n",
    "cost_history = []\n",
    "def estinamate_cost(params):\n",
    "    job = estimator.run([(qk_circuit, qk_cost, params)])\n",
    "    job_result = job.result()\n",
    "    cost = job_result[0].data['evs']\n",
    "    cost_history.append(cost)\n",
    "    return cost\n",
    "\n",
    "result = opt.minimize(estinamate_cost, init_params, method=\"BFGS\")\n",
    "result"
   ]
  },
  {
   "cell_type": "markdown",
   "id": "5e200d4e",
   "metadata": {},
   "source": [
    "# Result Visualization\n",
    "\n",
    "We visualize the optimization process. We plot the changes in the cost function and the approximation ratio. The approximation ratio is an indicator of how close the algorithm's solution $\\boldsymbol{x}$ is to the optimal solution $\\boldsymbol{x}^*$.\n",
    "\n",
    "$$\n",
    "{\\rm{AR}} = \\frac{C_{\\max} - C(\\boldsymbol{x})}{C_{\\max} - C(\\boldsymbol{x}^*)}\n",
    "$$\n",
    "\n",
    "Here, $C_{\\max}$ is the maximum energy value. First, we compute the maximum and minimum energy of the transformed Ising Hamiltonian by brute-force search."
   ]
  },
  {
   "cell_type": "code",
   "execution_count": 9,
   "id": "0e3fb796",
   "metadata": {},
   "outputs": [],
   "source": [
    "num_qubits = num_integer * num_bit\n",
    "ising = fqaoa_converter.ising\n",
    "\n",
    "energy_list = []\n",
    "state_list = []\n",
    "for id_list in combinations(np.arange(num_qubits), num_fermions):\n",
    "    state = [-1 if x in id_list else 1 for x in range(num_qubits)]\n",
    "    objective_value = ising.calc_energy(state) - ising.constant\n",
    "    energy_list.append(objective_value)\n",
    "    state_list.append(state)\n",
    "\n",
    "energy_list = np.array(energy_list)\n",
    "min_energy = energy_list.min()\n",
    "max_energy = energy_list.max()"
   ]
  },
  {
   "cell_type": "markdown",
   "id": "918a7803",
   "metadata": {},
   "source": [
    "Using the obtained maximum and minimum energy values, we calculate the approximation ratio."
   ]
  },
  {
   "cell_type": "code",
   "execution_count": 10,
   "id": "217d4e1c",
   "metadata": {},
   "outputs": [
    {
     "data": {
      "image/png": "[encoded data removed]",
      "text/plain": [
       "<Figure size 1600x400 with 2 Axes>"
      ]
     },
     "metadata": {},
     "output_type": "display_data"
    }
   ],
   "source": [
    "approx_ratio = 1.0 - np.abs(np.array(cost_history)-min_energy) / np.abs(max_energy - min_energy)\n",
    "\n",
    "fig1, ax1 = plt.subplots(1, 2, figsize=(16,4))\n",
    "\n",
    "ax1[0].plot(cost_history, label=\"Cost\", color=\"#2696EB\")\n",
    "ax1[0].axhline(min_energy, linestyle=\"--\", color=\"black\")\n",
    "ax1[0].set_xlim(1, result.nfev)\n",
    "ax1[0].set_xlabel(\"Iteration\", fontsize=15)\n",
    "ax1[0].set_ylabel(\"Cost\", fontsize=15)\n",
    "ax1[0].set_title(\"Change of Cost\", fontsize=15)\n",
    "\n",
    "ax1[1].plot(approx_ratio, label=\"AR\", color=\"#2696EB\")\n",
    "ax1[1].axhline(1.0, linestyle=\"--\", color=\"black\")\n",
    "ax1[1].set_xlim(1, result.nfev)\n",
    "ax1[1].set_xlabel(\"Iteration\", fontsize=15)\n",
    "ax1[1].set_ylabel(\"A.R.\", fontsize=15)\n",
    "ax1[1].set_title(\"Change of Approximation Ratio\", fontsize=15)\n",
    "\n",
    "plt.show()"
   ]
  },
  {
   "cell_type": "markdown",
   "id": "d35f021f",
   "metadata": {},
   "source": [
    "# Evaluating the Results\n",
    "\n",
    "From the job counts obtained earlier, we can transfer them to a sampleset by `qm.fqaoa.FQAOAConverter.decode`.\n",
    "The sampleset can select only the feasible solutions and then we examine the distribution of the objective function values."
   ]
  },
  {
   "cell_type": "code",
   "execution_count": 16,
   "id": "313f03e3",
   "metadata": {},
   "outputs": [
    {
     "data": {
      "image/png": "[encoded data removed]",
      "text/plain": [
       "<Figure size 800x400 with 1 Axes>"
      ]
     },
     "metadata": {},
     "output_type": "display_data"
    }
   ],
   "source": [
    "solution = OMMXPySCIPOptAdapter.solve(instance)\n",
    "min_objective = solution.objective\n",
    "\n",
    "num_samples = 10000\n",
    "sampler = qk_pr.StatevectorSampler()\n",
    "qk_circuit.measure_all()\n",
    "job = sampler.run([(qk_circuit, result.x)], shots=num_samples)\n",
    "job_result = job.result()[0]\n",
    "qaoa_counts = job_result.data[\"meas\"]\n",
    "\n",
    "sampleset = fqaoa_converter.decode(qk_transpiler, job_result.data[\"meas\"])\n",
    "plot_data = {}\n",
    "energies = []\n",
    "frequencies = []\n",
    "for entry in sampleset.raw.objectives.entries:\n",
    "    energies.append(entry.value)\n",
    "    frequencies.append(len(entry.ids))\n",
    "\n",
    "fig2, ax2 = plt.subplots(figsize=(8,4))\n",
    "ax2.bar(energies, frequencies, width=0.05, color='#2696EB')\n",
    "ax2.axvline(min_objective, linestyle=\"--\", color=\"red\", label='Optimal solution')\n",
    "ax2.set_title(\"cost distribution of feasible solution\", fontsize=15)\n",
    "ax2.set_ylabel(\"Frequency\", fontsize=15)\n",
    "ax2.set_xlabel(\"Energy\", fontsize=15)\n",
    "ax2.legend()\n",
    "plt.show()"
   ]
  },
  {
   "cell_type": "markdown",
   "id": "b95971bb",
   "metadata": {},
   "source": [
    "Of course, `ommx.v1.SampleSet` can be used to verify whether the samples satisfy the constraints of the original problem. The output states of FQAOA all satisfy the constraints."
   ]
  },
  {
   "cell_type": "code",
   "execution_count": 12,
   "id": "5812c1be",
   "metadata": {},
   "outputs": [
    {
     "name": "stdout",
     "output_type": "stream",
     "text": [
      "feasible solutions: 10000/10000\n",
      "infeasible solutions: 0/10000\n"
     ]
    }
   ],
   "source": [
    "df_sampleset = sampleset.summary\n",
    "print(f\"feasible solutions: {(df_sampleset['feasible'] == True).sum()}/{num_samples}\")\n",
    "print(f\"infeasible solutions: {(df_sampleset['feasible'] == False).sum()}/{num_samples}\")"
   ]
  }
 ],
 "metadata": {
  "kernelspec": {
   "display_name": "qamomile-hfP7042S-py3.11",
   "language": "python",
   "name": "python3"
  },
  "language_info": {
   "codemirror_mode": {
    "name": "ipython",
    "version": 3
   },
   "file_extension": ".py",
   "mimetype": "text/x-python",
   "name": "python",
   "nbconvert_exporter": "python",
   "pygments_lexer": "ipython3",
   "version": "3.11.7"
  }
 },
 "nbformat": 4,
 "nbformat_minor": 5
}
