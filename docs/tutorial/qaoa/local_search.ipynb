{
 "cells": [
  {
   "cell_type": "markdown",
   "metadata": {
    "id": "i9nXiSl26DJK"
   },
   "source": [
    "# Local Search post-processing\n",
    "The goal of this tutorial is to demonstrate how post-processing—specifically, Local Search—can improve the solutions obtained from QAOA, whether run on a noisy quantum device or a noise simulator. We revisit [the multi-car paint shop problem](https://jij-inc.github.io/Qamomile/tutorial/qaoa/multi_car_paint.html) as our target optimization task, this time with a larger number of cars and models. The objective remains to minimize the number of color switches between cars on the paint shop line during the manufacturing process.\n",
    "\n",
    "In this tutorial, we focus on a simplified scenario with only two colors."
   ]
  },
  {
   "cell_type": "markdown",
   "metadata": {},
   "source": [
    "## Expressing the problem using a mathematical model\n",
    "\n",
    "Given a set of cars $ X = \\{x_1, x_2, \\dots, x_n\\} $ that need to be painted in one of two colors, denoted as $ x_i=0 $ and $ x_i=1 $,  for each $ i = 1, \\dots n$. The objective is to minimize the number of color switches (i.e., changes from $ 0 $ to $ 1 $ or from $ 1 $ to $ 0 $) between consecutive cars in the sequence.\n",
    "\n",
    "\n",
    "The cost of the sequence is the number of times the color switches between consecutive cars, which can be formulated as:\n",
    "\n",
    "$$\n",
    "\\text{min} \\quad - \\sum_{i=0}^{N-2} s_i s_{i+1}.\n",
    "$$\n",
    "\n",
    "The term, $-s_i \\cdot s_{i+1}$, represents consecutive cars and indicates whether they are going to be painted the same color, either $-1$ or $1$. This term becomes $-1$ when the cars are painted the same color, and $+1$ when they are painted different colors. Summing over all the cars in $X$, the cost function is minimized. By converting the spin variables to binary variables, the mathematical expression transforms into the following: \n",
    "\n",
    "$$\n",
    "\\text{min} \\quad -\\sum_{i=0}^{N-2} (x_i - 0.5) \\cdot (x_{i+1} - 0.5).\n",
    "$$\n",
    "\n",
    "In the Two-Color Multi-Car Paint Shop Problem, the goal is to minimize the number of color switches while meeting specific constraints. In this notebook, we consider the constraint that the scheduled number of cars in each of the two colors per model (the total number of models is $M$) must be met.\n",
    "\n",
    "$$\n",
    " V_{i,m} \\cdot x_i = W_m \\quad ,\\forall m \\in \\{0, \\dots, M-1\\}\n",
    "$$\n",
    "\n",
    ", where $V_{i,m}$ is a one-hot 2-dimensional matrix representing which model each car $i$ belongs to."
   ]
  },
  {
   "cell_type": "code",
   "execution_count": 2,
   "metadata": {
    "id": "pSop3H_y6Aw1"
   },
   "outputs": [],
   "source": [
    "import jijmodeling as jm\n",
    "import ommx.v1\n",
    "import qamomile as qm\n",
    "import numpy as np\n",
    "import random as rand"
   ]
  },
  {
   "cell_type": "markdown",
   "metadata": {},
   "source": [
    "## Formulation using JijModeling\n",
    "Let's first model the problem using `JijModeling`."
   ]
  },
  {
   "cell_type": "code",
   "execution_count": 3,
   "metadata": {
    "colab": {
     "base_uri": "https://localhost:8080/",
     "height": 226
    },
    "id": "0U8vttmT6n92",
    "outputId": "a03d3f76-bbbf-4056-9917-e2029ee548d1"
   },
   "outputs": [
    {
     "data": {
      "text/latex": [
       "$$\\begin{array}{cccc}\\text{Problem:} & \\text{MCPS} & & \\\\& & \\min \\quad \\displaystyle \\sum_{i = 0}^{N - 2} - \\left(x_{i} - 0.5\\right) \\cdot \\left(x_{i + 1} - 0.5\\right) & \\\\\\text{{s.t.}} & & & \\\\ & \\text{n-hot} & \\displaystyle \\sum_{j = 0}^{N - 1} V_{j, m} \\cdot x_{j} = W_{m} & \\forall m \\in \\left\\{0,\\ldots,M - 1\\right\\} \\\\\\text{{where}} & & & \\\\& x & 1\\text{-dim binary variable}\\\\\\end{array}$$"
      ],
      "text/plain": [
       "<jijmodeling.Problem at 0x1393e1c00>"
      ]
     },
     "execution_count": 3,
     "metadata": {},
     "output_type": "execute_result"
    }
   ],
   "source": [
    "def get_mcps_problem() -> jm.Problem:\n",
    "  V = jm.Placeholder(\"V\", ndim=2) # sequence of car entry\n",
    "  W = jm.Placeholder(\"W\", ndim=1) # number of black cars by model\n",
    "  N = jm.Placeholder(\"N\") # number of cars\n",
    "  M = jm.Placeholder(\"M\") # number of car models\n",
    "  x = jm.BinaryVar(\"x\", shape=(N,))\n",
    "  i = jm.Element(\"i\", belong_to=(0, N-1))\n",
    "  j = jm.Element(\"j\", belong_to=(0, N))\n",
    "  m = jm.Element(\"m\", belong_to=(0, M))\n",
    "\n",
    "  problem = jm.Problem(\"MCPS\") \n",
    "  problem += jm.sum([i], -(x[i] - 0.5) * (x[i+1] - 0.5))\n",
    "  problem += jm.Constraint(\"n-hot\", jm.sum([j], V[j][m] * x[j]) == W[m], forall=m)\n",
    "  return problem\n",
    "problem = get_mcps_problem()\n",
    "problem"
   ]
  },
  {
   "cell_type": "markdown",
   "metadata": {},
   "source": [
    "We specify the number of cars, the number of models, and the total number of cars to be painted. The number of painted cars assigned to each model is randomly determined, with the constraint that each model must have at least one car scheduled for painting."
   ]
  },
  {
   "cell_type": "code",
   "execution_count": 28,
   "metadata": {
    "colab": {
     "base_uri": "https://localhost:8080/"
    },
    "id": "bx-_iCNEDzTZ",
    "outputId": "490e6f96-f19d-4e62-a2be-64404d3d6b3f"
   },
   "outputs": [
    {
     "name": "stdout",
     "output_type": "stream",
     "text": [
      "Order of car intake: ['Model 4', 'Model 1', 'Model 1', 'Model 3', 'Model 1', 'Model 1', 'Model 4', 'Model 4', 'Model 2', 'Model 0', 'Model 4', 'Model 2', 'Model 2', 'Model 1', 'Model 1', 'Model 3', 'Model 1', 'Model 0', 'Model 0', 'Model 0', 'Model 4', 'Model 0', 'Model 1', 'Model 0', 'Model 4', 'Model 0', 'Model 0', 'Model 4', 'Model 1', 'Model 4', 'Model 2', 'Model 0', 'Model 3', 'Model 3', 'Model 0', 'Model 2', 'Model 0', 'Model 4', 'Model 0', 'Model 3']\n",
      "Car types: ['Model 0', 'Model 1', 'Model 2', 'Model 3', 'Model 4']\n",
      "[[0. 0. 0. 0. 1.]\n",
      " [0. 1. 0. 0. 0.]\n",
      " [0. 1. 0. 0. 0.]\n",
      " [0. 0. 0. 1. 0.]\n",
      " [0. 1. 0. 0. 0.]\n",
      " [0. 1. 0. 0. 0.]\n",
      " [0. 0. 0. 0. 1.]\n",
      " [0. 0. 0. 0. 1.]\n",
      " [0. 0. 1. 0. 0.]\n",
      " [1. 0. 0. 0. 0.]\n",
      " [0. 0. 0. 0. 1.]\n",
      " [0. 0. 1. 0. 0.]\n",
      " [0. 0. 1. 0. 0.]\n",
      " [0. 1. 0. 0. 0.]\n",
      " [0. 1. 0. 0. 0.]\n",
      " [0. 0. 0. 1. 0.]\n",
      " [0. 1. 0. 0. 0.]\n",
      " [1. 0. 0. 0. 0.]\n",
      " [1. 0. 0. 0. 0.]\n",
      " [1. 0. 0. 0. 0.]\n",
      " [0. 0. 0. 0. 1.]\n",
      " [1. 0. 0. 0. 0.]\n",
      " [0. 1. 0. 0. 0.]\n",
      " [1. 0. 0. 0. 0.]\n",
      " [0. 0. 0. 0. 1.]\n",
      " [1. 0. 0. 0. 0.]\n",
      " [1. 0. 0. 0. 0.]\n",
      " [0. 0. 0. 0. 1.]\n",
      " [0. 1. 0. 0. 0.]\n",
      " [0. 0. 0. 0. 1.]\n",
      " [0. 0. 1. 0. 0.]\n",
      " [1. 0. 0. 0. 0.]\n",
      " [0. 0. 0. 1. 0.]\n",
      " [0. 0. 0. 1. 0.]\n",
      " [1. 0. 0. 0. 0.]\n",
      " [0. 0. 1. 0. 0.]\n",
      " [1. 0. 0. 0. 0.]\n",
      " [0. 0. 0. 0. 1.]\n",
      " [1. 0. 0. 0. 0.]\n",
      " [0. 0. 0. 1. 0.]]\n",
      "Black car count per model: [1, 1, 1, 1, 1]\n"
     ]
    }
   ],
   "source": [
    "import numpy as np\n",
    "import random as rand\n",
    "\n",
    "number_of_models = 5\n",
    "number_of_cars = 40\n",
    "total_black_cars = number_of_models * 1\n",
    "car_map = {i: f\"Model {i}\" for i in range(number_of_models)}\n",
    "\n",
    "# Create car sequence: each model appears at least once\n",
    "cars = [i for i in range(number_of_models)]  \n",
    "# Fill the rest of cars randomly\n",
    "cars += [rand.randint(0, number_of_models - 1) for _ in range(number_of_cars - number_of_models)]\n",
    "rand.shuffle(cars)\n",
    "print(f\"Order of car intake: {[car_map[car] for car in cars]}\")\n",
    "\n",
    "# One-hot encoding\n",
    "cars_onehot = np.eye(number_of_models)[cars]\n",
    "print(f\"Car types: {[car_map[i] for i in range(number_of_models)]}\")\n",
    "print(cars_onehot)\n",
    "\n",
    "# Randomly distribute total_black_cars across models\n",
    "black_per_models = [1] * number_of_models  #at least one black car per model\n",
    "for _ in range(total_black_cars-number_of_models):\n",
    "    idx = rand.randint(0, number_of_models - 1)\n",
    "    black_per_models[idx] += 1\n",
    "\n",
    "print(f\"Black car count per model: {black_per_models}\")\n"
   ]
  },
  {
   "cell_type": "markdown",
   "metadata": {},
   "source": [
    "## Creating an Instance\n",
    "An instance is created where actual values are substituted into the constants of the mathematical expressions. Before converting to various algorithms, it is necessary to first create this instance using `JijModeling.Interpreter` and `ommx.Instance`."
   ]
  },
  {
   "cell_type": "code",
   "execution_count": 29,
   "metadata": {
    "id": "sER6W0afIppX"
   },
   "outputs": [],
   "source": [
    "data = {\"V\": cars_onehot, \"W\":  black_per_models, \"N\":  number_of_cars, \"M\": number_of_models}\n",
    "interpreter = jm.Interpreter(data)\n",
    "instance = interpreter.eval_problem(problem)"
   ]
  },
  {
   "cell_type": "markdown",
   "metadata": {},
   "source": [
    "## Generation of QAOA Circuit and Hamiltonian Using Qamomile\n",
    "`Qamomile` provides a converter that generates circuits and Hamiltonians for QAOA from the compiled instance. Additionally, it allows setting parameters that arise during the conversion to QUBO.\n",
    "\n",
    "First, we will generate the Ising Hamiltonian. Once this is done, we can also generate the quantum circuit and Hamiltonian for QAOA. "
   ]
  },
  {
   "cell_type": "code",
   "execution_count": 90,
   "metadata": {
    "id": "biyMqO-NJqgu"
   },
   "outputs": [],
   "source": [
    "from qamomile.core.converters.qaoa import QAOAConverter\n",
    "from qamomile.core.circuit.drawer import plot_quantum_circuit\n",
    "\n",
    "qaoa_converter = QAOAConverter(instance)\n",
    "# Encode to Ising Hamiltonian\n",
    "qaoa_converter.ising_encode(multipliers={\"n-hot\": 0.5})\n",
    "# Get the QAOA circuit\n",
    "p=1\n",
    "qaoa_circuit = qaoa_converter.get_qaoa_ansatz(p=p)\n",
    "# plot_quantum_circuit(qaoa_circuit) #print it out\n",
    "# Get the cost Hamiltonian\n",
    "qaoa_cost = qaoa_converter.get_cost_hamiltonian()"
   ]
  },
  {
   "cell_type": "markdown",
   "metadata": {},
   "source": [
    "## Converting the Obtained Circuit and Hamiltonian for Qiskit\n",
    "let's first convert the circuit and Hamiltonian for Qiskit."
   ]
  },
  {
   "cell_type": "code",
   "execution_count": 91,
   "metadata": {
    "id": "JZ9e1qh7JtWg"
   },
   "outputs": [],
   "source": [
    "import qamomile.qiskit as qm_qk\n",
    "qk_transpiler = qm_qk.QiskitTranspiler()\n",
    "\n",
    "# Transpile the QAOA circuit to Qiskit\n",
    "qk_circuit = qk_transpiler.transpile_circuit(qaoa_circuit)\n",
    "qk_hamiltonian = qk_transpiler.transpile_hamiltonian(qaoa_cost)"
   ]
  },
  {
   "cell_type": "markdown",
   "metadata": {},
   "source": [
    "## Running QAOA\n",
    "Let’s run QAOA using SciPy’s COBYLA as the classical optimization algorithm. The optimization is performed with [Qiskit’s MPS (Matrix Product State) simulation method](https://qiskit.github.io/qiskit-aer/tutorials/7_matrix_product_state_method.html) and the noiseless AerSimulator. We choose the MPS method over the statevector approach because it can efficiently simulate systems with a large number of qubits. However, simulating large systems without specifying a maximum bond dimension can still be computationally expensive. Therefore, selecting an appropriate bond dimension is crucial to balancing simulation accuracy and runtime efficiency."
   ]
  },
  {
   "cell_type": "code",
   "execution_count": 80,
   "metadata": {},
   "outputs": [],
   "source": [
    "from qiskit_aer.primitives import EstimatorV2\n",
    "from qiskit_ibm_runtime.fake_provider import FakeKyoto\n",
    "from qiskit_aer import AerSimulator\n",
    "from qiskit import transpile\n",
    "from scipy.optimize import minimize\n",
    "\n",
    "def optimize_circuit(qk_circuit, qk_hamiltonian, shots, noises=False, initial_params=None):\n",
    "    if noises:\n",
    "        device_backend = FakeKyoto()\n",
    "        sim = AerSimulator.from_backend(device_backend, method='matrix_product_state')\n",
    "    \n",
    "    else:\n",
    "        sim = AerSimulator(method='matrix_product_state')\n",
    "\n",
    "    sim.set_options(matrix_product_state_max_bond_dimension= 16)\n",
    "    cost_history = []\n",
    "    coupling_map = FakeKyoto().configuration().coupling_map\n",
    "    transpiled_circuit = transpile(qk_circuit, backend=sim, optimization_level=3, coupling_map=coupling_map)\n",
    "    transpiled_hamiltonian = qk_hamiltonian.apply_layout(transpiled_circuit.layout)\n",
    "\n",
    "    def cost_estimator(param_values, shots=shots):\n",
    "        estimator = EstimatorV2.from_backend(sim)\n",
    "        job = estimator.run([(transpiled_circuit, transpiled_hamiltonian, param_values)])\n",
    "        result = job.result()[0]\n",
    "        cost = result.data['evs']\n",
    "        cost_history.append(cost)\n",
    "        return cost\n",
    "\n",
    "    result = minimize(cost_estimator, initial_params, method=\"COBYLA\", options={\"maxiter\": 500})\n",
    "    return result, cost_history"
   ]
  },
  {
   "cell_type": "code",
   "execution_count": 92,
   "metadata": {},
   "outputs": [
    {
     "name": "stdout",
     "output_type": "stream",
     "text": [
      " message: Optimization terminated successfully.\n",
      " success: True\n",
      "  status: 1\n",
      "     fun: 23.002405215487506\n",
      "       x: [ 2.365e+00  2.117e+00]\n",
      "    nfev: 36\n",
      "   maxcv: 0.0\n"
     ]
    }
   ],
   "source": [
    "result, cost_history = optimize_circuit(qk_circuit, qk_hamiltonian, shots=1000 ,noises=False, initial_params=np.random.rand(2*p) * np.pi)\n",
    "print(result)"
   ]
  },
  {
   "cell_type": "markdown",
   "metadata": {},
   "source": [
    "Let's also take a look at the changes in the cost function"
   ]
  },
  {
   "cell_type": "code",
   "execution_count": 95,
   "metadata": {
    "colab": {
     "base_uri": "https://localhost:8080/",
     "height": 469
    },
    "id": "c8Qj2OUB6HkA",
    "outputId": "6bef1601-45b7-4e28-8fdd-2dc450fca94a"
   },
   "outputs": [
    {
     "data": {
      "image/png": "[encoded data removed]",
      "text/plain": [
       "<Figure size 640x480 with 1 Axes>"
      ]
     },
     "metadata": {},
     "output_type": "display_data"
    }
   ],
   "source": [
    "import matplotlib.pyplot as plt\n",
    "\n",
    "plt.title(\"Change of Cost\", fontsize=15)\n",
    "plt.xlabel(\"Iteration\", fontsize=15)\n",
    "plt.ylabel(\"Cost\", fontsize=15)\n",
    "plt.xscale(\"log\")\n",
    "plt.xlim(1, result.nfev)\n",
    "plt.plot(cost_history, label=\"Cost\", color=\"#2696EB\")\n",
    "plt.show()"
   ]
  },
  {
   "cell_type": "markdown",
   "metadata": {},
   "source": [
    "After obtaining the QAOA parameters, we perform sampling using the noisy FakeKyoto backend, again with the MPS simulation method."
   ]
  },
  {
   "cell_type": "code",
   "execution_count": 11,
   "metadata": {},
   "outputs": [],
   "source": [
    "from qiskit.primitives import BackendSamplerV2\n",
    "\n",
    "def run_simulation(qk_circuit, params, shots, noises=False):\n",
    "    if noises:\n",
    "        device_backend = FakeKyoto()\n",
    "        sim = AerSimulator.from_backend(device_backend, method='matrix_product_state') \n",
    "    \n",
    "    else:\n",
    "        sim = AerSimulator(method='matrix_product_state')\n",
    "\n",
    "    sim.set_options(matrix_product_state_max_bond_dimension= 16)\n",
    "    sampler = BackendSamplerV2(backend = sim)\n",
    "    qk_circuit.measure_all()\n",
    "    coupling_map = FakeKyoto().configuration().coupling_map\n",
    "    tcirc = transpile(qk_circuit, backend=sim, optimization_level=3 , coupling_map=coupling_map)\n",
    "    job = sampler.run([(tcirc, params)], shots=shots)\n",
    "    \n",
    "    return job.result()[0]"
   ]
  },
  {
   "cell_type": "code",
   "execution_count": 93,
   "metadata": {},
   "outputs": [],
   "source": [
    "job_result = run_simulation(qk_circuit, result.x, shots=10000, noises= True)\n"
   ]
  },
  {
   "cell_type": "markdown",
   "metadata": {},
   "source": [
    "## Evaluating the Results"
   ]
  },
  {
   "cell_type": "markdown",
   "metadata": {},
   "source": [
    "The optimal painting order and its corresponding transition score can be determined. If a solution is infeasible, its transition score will be set to None."
   ]
  },
  {
   "cell_type": "code",
   "execution_count": 36,
   "metadata": {},
   "outputs": [],
   "source": [
    "def eval_mcps_state(cars, black_per_models, state, num_cars, num_models):\n",
    "    cnt = [0] * num_models\n",
    "    for i in range(num_cars):\n",
    "        cnt[cars[i]] += state[i]\n",
    "    for i in range(num_models):\n",
    "        if black_per_models[i] != cnt[i]:\n",
    "            return None\n",
    "    score = 0\n",
    "    for i in range(num_cars - 1):\n",
    "        if state[i] != state[i + 1]:\n",
    "            score += 1\n",
    "    return score"
   ]
  },
  {
   "cell_type": "code",
   "execution_count": 94,
   "metadata": {
    "colab": {
     "base_uri": "https://localhost:8080/"
    },
    "id": "_ddpxjij6dv0",
    "outputId": "aff5f8a9-537b-4b29-b02c-427eb254253a"
   },
   "outputs": [
    {
     "name": "stdout",
     "output_type": "stream",
     "text": [
      "cannot find a feasible solution\n",
      "Minimum transition score: None\n",
      "The order of car intake:  ['Model 4', 'Model 1', 'Model 1', 'Model 3', 'Model 1', 'Model 1', 'Model 4', 'Model 4', 'Model 2', 'Model 0', 'Model 4', 'Model 2', 'Model 2', 'Model 1', 'Model 1', 'Model 3', 'Model 1', 'Model 0', 'Model 0', 'Model 0', 'Model 4', 'Model 0', 'Model 1', 'Model 0', 'Model 4', 'Model 0', 'Model 0', 'Model 4', 'Model 1', 'Model 4', 'Model 2', 'Model 0', 'Model 3', 'Model 3', 'Model 0', 'Model 2', 'Model 0', 'Model 4', 'Model 0', 'Model 3']\n",
      "Color separation:  ['', '', '', '', '⚫', '', '', '', '', '', '⚫', '', '', '', '', '', '⚫', '', '', '', '', '', '', '', '', '', '', '⚫', '', '', '', '⚫', '⚫', '⚫', '', '', '', '⚫', '', '']\n"
     ]
    }
   ],
   "source": [
    "paint_map = {\n",
    "    1: \"⚫\",  # Black heart \n",
    "    0: \"\"    # Empty string\n",
    "}\n",
    "\n",
    "sampleset = qaoa_converter.decode(qk_transpiler, job_result.data[\"meas\"])\n",
    "\n",
    "try:\n",
    "    best_sample = sampleset.best_feasible_unrelaxed()\n",
    "    best_values = best_sample.extract_decision_variables(\"x\")\n",
    "except:\n",
    "    print(\"cannot find a feasible solution\")\n",
    "    objectives = sampleset.objectives\n",
    "    best_index = min(objectives, key=objectives.get)\n",
    "    best_values = sampleset.get(sample_id=best_index).extract_decision_variables(\"x\")\n",
    "\n",
    "solution = np.array([best_values.get((i,)) for i in range(len(cars))])\n",
    "score = eval_mcps_state(cars, black_per_models, solution, number_of_cars, number_of_models)\n",
    "\n",
    "print(\"Minimum transition score:\", score)\n",
    "print(\"The order of car intake: \", [car_map[car] for car in cars])\n",
    "print(\"Color separation: \", [paint_map[value] for value in solution])"
   ]
  },
  {
   "cell_type": "markdown",
   "metadata": {},
   "source": [
    "We examine the distribution of the objective function values."
   ]
  },
  {
   "cell_type": "code",
   "execution_count": 96,
   "metadata": {},
   "outputs": [
    {
     "data": {
      "image/png": "[encoded data removed]",
      "text/plain": [
       "<Figure size 640x480 with 1 Axes>"
      ]
     },
     "metadata": {},
     "output_type": "display_data"
    }
   ],
   "source": [
    "from collections import defaultdict\n",
    "import matplotlib.pyplot as plt\n",
    "\n",
    "sampleset = qaoa_converter.decode(qk_transpiler, job_result.data[\"meas\"])\n",
    "\n",
    "# Initialize a dictionary to accumulate occurrences for each energy value\n",
    "frequencies = defaultdict(int)\n",
    "\n",
    "# Define the precision to which you want to round the energy values\n",
    "energy = []\n",
    "frequencies = {}\n",
    "for entry in sampleset.raw.objectives.entries:\n",
    "    e = round(entry.value, ndigits = 3)\n",
    "    frequencies[e] = len(entry.ids)\n",
    "\n",
    "\n",
    "plt.bar(frequencies.keys(), frequencies.values(), width=0.25)\n",
    "x_vals = sorted(frequencies.keys())\n",
    "plt.xticks([x_vals[0], x_vals[-1]], labels=[f\"{x_vals[0]}\", f\"{x_vals[-1]}\"], rotation=0)\n",
    "plt.xlabel('Objective', fontsize=15)\n",
    "plt.ylabel('Frequency', fontsize=15)\n",
    "plt.show()"
   ]
  },
  {
   "cell_type": "markdown",
   "metadata": {},
   "source": [
    "## Post process using local serach\n",
    "First compute the best costs using`OMMXOpenJijSAAdapter`."
   ]
  },
  {
   "cell_type": "code",
   "execution_count": 97,
   "metadata": {},
   "outputs": [
    {
     "name": "stdout",
     "output_type": "stream",
     "text": [
      "Minimum transition score: 2\n",
      "The order of car intake:  ['Model 4', 'Model 1', 'Model 1', 'Model 3', 'Model 1', 'Model 1', 'Model 4', 'Model 4', 'Model 2', 'Model 0', 'Model 4', 'Model 2', 'Model 2', 'Model 1', 'Model 1', 'Model 3', 'Model 1', 'Model 0', 'Model 0', 'Model 0', 'Model 4', 'Model 0', 'Model 1', 'Model 0', 'Model 4', 'Model 0', 'Model 0', 'Model 4', 'Model 1', 'Model 4', 'Model 2', 'Model 0', 'Model 3', 'Model 3', 'Model 0', 'Model 2', 'Model 0', 'Model 4', 'Model 0', 'Model 3']\n",
      "Color separation:  ['', '', '', '', '', '', '', '', '', '', '', '', '', '', '', '', '', '', '', '', '', '', '', '', '', '', '', '', '⚫', '⚫', '⚫', '⚫', '⚫', '', '', '', '', '', '', '']\n"
     ]
    }
   ],
   "source": [
    "from ommx_openjij_adapter import OMMXOpenJijSAAdapter\n",
    "\n",
    "sample_SA = OMMXOpenJijSAAdapter.sample(instance, num_reads=100, uniform_penalty_weight=1.4)\n",
    "best_sample_SA = sample_SA.best_feasible_unrelaxed()\n",
    "best_values_SA = best_sample_SA.extract_decision_variables(\"x\")\n",
    "\n",
    "solution_SA = np.array([best_values_SA.get((i,)) for i in range(len(cars))])\n",
    "score_SA = eval_mcps_state(cars, black_per_models, solution_SA, number_of_cars, number_of_models)\n",
    "\n",
    "print(\"Minimum transition score:\", score_SA)\n",
    "print(\"The order of car intake: \", [car_map[car] for car in cars])\n",
    "print(\"Color separation: \", [paint_map[value] for value in solution_SA])"
   ]
  },
  {
   "cell_type": "markdown",
   "metadata": {},
   "source": [
    "Using `LocalSearch` can help improve the quality of solutions. Choosing an appropriate value for the multipliers is crucial—if the value is too small, the algorithm may fail to find a feasible solution; if it’s too large, it may not enhance the existing one.\n",
    "\n",
    "`_run_local_search` contains two type of local search namely `best_improvement` and `first_improvement`. `best_improvement` examines all possible single-bit flips in the current state of the Ising model to identify the one that yields the greatest reduction in energy. In contrast, `first_improvement` iteratively checks each bit in the current state and flips the first one it finds that leads to a decrease in energy, without evaluating all possibilities. The `max_iter` determines the maximum number of iterations for the local search."
   ]
  },
  {
   "cell_type": "code",
   "execution_count": 98,
   "metadata": {},
   "outputs": [],
   "source": [
    "from qamomile.core.post_process.local_search import LocalSearch\n",
    "\n",
    "spin_state = 1 - 2 * solution\n",
    "local_search_instance=LocalSearch(qaoa_converter) #make a local search instance\n",
    "new_spin_state = local_search_instance._run_local_search(\n",
    "        method=local_search_instance.best_improvement, initial_state=spin_state, max_iter=-1\n",
    "    )\n",
    "new_solution=(1 - new_spin_state) // 2\n"
   ]
  },
  {
   "cell_type": "code",
   "execution_count": 99,
   "metadata": {},
   "outputs": [
    {
     "name": "stdout",
     "output_type": "stream",
     "text": [
      "solution after local search:  2\n",
      "The order of car intake:  ['Model 4', 'Model 1', 'Model 1', 'Model 3', 'Model 1', 'Model 1', 'Model 4', 'Model 4', 'Model 2', 'Model 0', 'Model 4', 'Model 2', 'Model 2', 'Model 1', 'Model 1', 'Model 3', 'Model 1', 'Model 0', 'Model 0', 'Model 0', 'Model 4', 'Model 0', 'Model 1', 'Model 0', 'Model 4', 'Model 0', 'Model 0', 'Model 4', 'Model 1', 'Model 4', 'Model 2', 'Model 0', 'Model 3', 'Model 3', 'Model 0', 'Model 2', 'Model 0', 'Model 4', 'Model 0', 'Model 3']\n",
      "Color separation:  ['', '', '', '', '', '', '', '', '', '', '', '', '', '', '', '', '', '', '', '', '', '', '', '', '', '', '', '', '⚫', '⚫', '⚫', '⚫', '⚫', '', '', '', '', '', '', '']\n"
     ]
    }
   ],
   "source": [
    "local_score = eval_mcps_state(cars, black_per_models, new_solution, number_of_cars, number_of_models)\n",
    "print(\"solution after local search: \", local_score)\n",
    "print(\"The order of car intake: \", [car_map[car] for car in cars])\n",
    "print(\"Color separation: \", [paint_map[value] for value in new_solution])"
   ]
  },
  {
   "cell_type": "code",
   "execution_count": null,
   "metadata": {},
   "outputs": [],
   "source": []
  }
 ],
 "metadata": {
  "colab": {
   "provenance": []
  },
  "kernelspec": {
   "display_name": "myenv",
   "language": "python",
   "name": "python3"
  },
  "language_info": {
   "codemirror_mode": {
    "name": "ipython",
    "version": 3
   },
   "file_extension": ".py",
   "mimetype": "text/x-python",
   "name": "python",
   "nbconvert_exporter": "python",
   "pygments_lexer": "ipython3",
   "version": "3.11.8"
  }
 },
 "nbformat": 4,
 "nbformat_minor": 4
}
