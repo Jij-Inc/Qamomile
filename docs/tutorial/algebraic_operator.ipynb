{
 "cells": [
  {
   "cell_type": "code",
   "execution_count": 6,
   "metadata": {},
   "outputs": [],
   "source": [
    "import jijmodeling as jm\n",
    "import qamomile.core.modeler as qm_m"
   ]
  },
  {
   "cell_type": "markdown",
   "metadata": {},
   "source": [
    "# Using `HamiltonianExpr`\n",
    "Let us write Heisenberg model by using qamomile modeler.\n",
    "To define Pauli Operator Expression we need to use `qm_m.PauliExpr`."
   ]
  },
  {
   "cell_type": "code",
   "execution_count": 9,
   "metadata": {},
   "outputs": [
    {
     "data": {
      "text/latex": [
       "$$\\displaystyle \\sum_{i = 0}^{N - 2} \\left(\\hat{X}_{i} \\cdot \\hat{X}_{i + 1} + \\hat{Y}_{i} \\cdot \\hat{Y}_{i + 1} + \\hat{Z}_{i} \\cdot \\hat{Z}_{i + 1}\\right)$$"
      ],
      "text/plain": [
       "<qamomile.core.modeler.hamiltonian_expr.HamiltonianExpr at 0xffff5dd08460>"
      ]
     },
     "execution_count": 9,
     "metadata": {},
     "output_type": "execute_result"
    }
   ],
   "source": [
    "N = jm.Placeholder(\"N\")\n",
    "Z = qm_m.PauliExpr.z(shape=(N,))\n",
    "X = qm_m.PauliExpr.x(shape=(N,))\n",
    "Y = qm_m.PauliExpr.y(shape=(N,))\n",
    "i = jm.Element(\"i\", belong_to = (0,N - 1))\n",
    "h_expr = qm_m.HamiltonianExpr(jm.sum(i, X[i] * X[i+1] + Y[i] * Y[i+1] + Z[i] * Z[i+1]))\n",
    "h_expr"
   ]
  },
  {
   "cell_type": "markdown",
   "metadata": {},
   "source": [
    "We can build `Hamiltonian` by inserting the value "
   ]
  },
  {
   "cell_type": "code",
   "execution_count": 10,
   "metadata": {},
   "outputs": [
    {
     "data": {
      "text/plain": [
       "Hamiltonian((X0, X1): 1.0, (Y0, Y1): 1.0, (Z0, Z1): 1.0, (X1, X2): 1.0, (Y1, Y2): 1.0, (Z1, Z2): 1.0, (X2, X3): 1.0, (Y2, Y3): 1.0, (Z2, Z3): 1.0, (X3, X4): 1.0, (Y3, Y4): 1.0, (Z3, Z4): 1.0, (X4, X5): 1.0, (Y4, Y5): 1.0, (Z4, Z5): 1.0, (X5, X6): 1.0, (Y5, Y6): 1.0, (Z5, Z6): 1.0, (X6, X7): 1.0, (Y6, Y7): 1.0, (Z6, Z7): 1.0, (X7, X8): 1.0, (Y7, Y8): 1.0, (Z7, Z8): 1.0, (X8, X9): 1.0, (Y8, Y9): 1.0, (Z8, Z9): 1.0)"
      ]
     },
     "execution_count": 10,
     "metadata": {},
     "output_type": "execute_result"
    }
   ],
   "source": [
    "builder = qm_m.hamiltonian_expr.HamiltonianBuilder(h_expr,{\"N\": 10})\n",
    "h = builder.build()\n",
    "h"
   ]
  },
  {
   "cell_type": "code",
   "execution_count": null,
   "metadata": {},
   "outputs": [],
   "source": []
  }
 ],
 "metadata": {
  "kernelspec": {
   "display_name": ".venv",
   "language": "python",
   "name": "python3"
  },
  "language_info": {
   "codemirror_mode": {
    "name": "ipython",
    "version": 3
   },
   "file_extension": ".py",
   "mimetype": "text/x-python",
   "name": "python",
   "nbconvert_exporter": "python",
   "pygments_lexer": "ipython3",
   "version": "3.10.13"
  }
 },
 "nbformat": 4,
 "nbformat_minor": 2
}
