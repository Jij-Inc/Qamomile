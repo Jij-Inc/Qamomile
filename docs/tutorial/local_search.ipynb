{
 "cells": [
  {
   "cell_type": "markdown",
   "id": "4402d3c8-5632-40be-8e4e-523648aea7ae",
   "metadata": {},
   "source": [
    "# Local Search Algorithm in Qamomile\n",
    "In this section, we will solve the TSP problem using Local Search Algorithm with the help of the `JijModeling` and `Qamomile` libraries , and we will compare the results with the SA sampler in `OpenJij`.\n",
    "\n",
    "First, let's install and import the main libraries we will be using."
   ]
  },
  {
   "cell_type": "code",
   "execution_count": 1,
   "id": "24823d29-1723-4c98-a19b-b9d3db98e293",
   "metadata": {},
   "outputs": [],
   "source": [
    "import jijmodeling as jm\n",
    "import openjij as oj\n",
    "import jijmodeling_transpiler as jmt\n",
    "import numpy as np\n",
    "import matplotlib.pyplot as plt"
   ]
  },
  {
   "cell_type": "markdown",
   "id": "499e74af-66ff-4924-8643-4964b7921024",
   "metadata": {},
   "source": [
    "## What is Local Search Algorithm?\n",
    "\n",
    "The Local Search Algorithm (LS) is one of the simplest heuristic algorithms for optimization problems. Assume the input model has the form of an Ising Hamiltonian:\n",
    "\n",
    "$$\n",
    "E(\\vec{s}) = \\sum_{ij} J_{ij} s_i s_j + \\sum_i h_i s_i + E_0, \\quad s_i \\in \\{-1, 1\\}\n",
    "$$\n",
    "\n",
    "where $E_0$ is a constant term. We aim to find the state $\\vec{s}$ that minimizes the energy. The core idea of the LS algorithm is to move to a new state that decreases the energy.\n",
    "\n",
    "Suppose we have the current state $\\vec{s}_{t}$. If we find a state $\\vec{s}_{t+1}$ such that $E(\\vec{s}_{t+1}) < E(\\vec{s}_{t})$, we update the current state to $\\vec{s}_{t+1}$. This process is repeated until no new state can be found that further minimizes the current energy.\n",
    "\n",
    "There are several methods to generate a new state $\\vec{s}_{t+1}$. The simplest method is the **single spin flip**, where the spin variable $s_i$ is flipped to $-s_i$. This approach changes only one variable in the state, hence the term \"single spin flip.\" The number\n",
    "\n",
    "Furthermore, there are two choices how to choose variable to flip, **First Improvement** and **Best Improvement**. \n",
    "\n",
    "### First Improvement\n",
    "Check $\\Delta E_i$ in either index order or randomly. If you find a variable $s_i$ such that $\\Delta E_i < 0$, flip $s_i$.\n",
    "\n",
    "### Best Improvement\n",
    "Check $\\Delta E_i$ for all variables $s_i$. Then, flip the $s_i$ that results in the largest decrease in $\\Delta E_i$."
   ]
  },
  {
   "cell_type": "markdown",
   "id": "7a2b09e7-1271-4570-85f3-4c738a90c2d5",
   "metadata": {},
   "source": [
    "## Formulation using JijModeling\n",
    "Now that everything is ready, let's first model the problem using JijModeling."
   ]
  },
  {
   "cell_type": "code",
   "execution_count": 2,
   "id": "d20fb215-159a-4e15-8df3-6a0fcfbc86d1",
   "metadata": {},
   "outputs": [
    {
     "data": {
      "text/latex": [
       "$$\\begin{array}{cccc}\\text{Problem:} & \\text{TSP} & & \\\\& & \\min \\quad \\displaystyle \\sum_{i = 0}^{n - 1} \\sum_{j = 0}^{n - 1} d_{i, j} \\cdot \\sum_{t = 0}^{n - 1} x_{i, t} \\cdot x_{j, \\left(t + 1\\right) \\bmod n} & \\\\\\text{{s.t.}} & & & \\\\ & \\text{one-city} & \\displaystyle \\sum_{\\ast_{0} = 0}^{n - 1} x_{\\ast_{0}, t} = 1 & \\forall t \\in \\left\\{0,\\ldots,n - 1\\right\\} \\\\ & \\text{one-time} & \\displaystyle \\sum_{\\ast_{1} = 0}^{n - 1} x_{i, \\ast_{1}} = 1 & \\forall i \\in \\left\\{0,\\ldots,n - 1\\right\\} \\\\\\text{{where}} & & & \\\\& x & 2\\text{-dim binary variable}\\\\\\end{array}$$"
      ],
      "text/plain": [
       "<jijmodeling.Problem at 0x10acd07c0>"
      ]
     },
     "execution_count": 2,
     "metadata": {},
     "output_type": "execute_result"
    }
   ],
   "source": [
    "d = jm.Placeholder(\"d\", ndim=2)\n",
    "n = d.len_at(0, latex=\"n\")\n",
    "\n",
    "i, j, t = jm.Element(\"i\", n), jm.Element(\"j\", n), jm.Element(\"t\", n)\n",
    "\n",
    "x = jm.BinaryVar(\"x\", shape=(n, n))\n",
    "\n",
    "problem = jm.Problem(\"TSP\")\n",
    "# Objective function\n",
    "problem += jm.sum([i, j], d[i, j]*jm.sum(t, x[i, t]*x[j, (t+1) % n]))\n",
    "\n",
    "# Constraints\n",
    "jmC = jm.Constraint\n",
    "problem += jmC(\"one-time\", x[i, :].sum() == 1, forall=i)\n",
    "problem += jmC(\"one-city\", x[:, t].sum() == 1, forall=t)\n",
    "\n",
    "problem"
   ]
  },
  {
   "cell_type": "markdown",
   "id": "860ca6f3-cebc-4b44-96ff-22e5521fd960",
   "metadata": {},
   "source": [
    "## Preparing the problem\n",
    "We will now prepare the problem to be solved. Here, we will create it using a random graph"
   ]
  },
  {
   "cell_type": "code",
   "execution_count": 3,
   "id": "2278ae16-d385-43b5-bb93-2e54b6d8d879",
   "metadata": {},
   "outputs": [
    {
     "data": {
      "image/png": "[encoded data removed]",
      "text/plain": [
       "<Figure size 640x480 with 1 Axes>"
      ]
     },
     "metadata": {},
     "output_type": "display_data"
    }
   ],
   "source": [
    "def random_2d_tsp(n: int):\n",
    "    x = np.random.uniform(0, 1, n)\n",
    "    y = np.random.uniform(0, 1, n)\n",
    "    XX, YY = np.meshgrid(x, y)\n",
    "    distance = np.sqrt((XX - XX.T)**2 + (YY - YY.T)**2)\n",
    "    return distance, (x, y)\n",
    "\n",
    "num_city = 10\n",
    "distance, (pos_x, pos_y) = random_2d_tsp(n=num_city)\n",
    "\n",
    "plt.scatter(pos_x, pos_y)\n",
    "plt.xlim(0, 1)\n",
    "plt.ylim(0, 1)\n",
    "plt.show()"
   ]
  },
  {
   "cell_type": "markdown",
   "id": "c6fdf663-b40f-4dce-9ebb-b3c20a07bef4",
   "metadata": {},
   "source": [
    "We will prepare the problem data in a format that can be used with the model created in JijModeling"
   ]
  },
  {
   "cell_type": "markdown",
   "id": "547e3a27-0046-49ee-94a9-d738504eb476",
   "metadata": {},
   "source": [
    "## Creating a Compiled Instance\n",
    "\n",
    "A compiled instance is an intermediate representation where actual values are substituted into the constants of the mathematical expressions. Before converting to various algorithms, it is necessary to first create this compiled instance."
   ]
  },
  {
   "cell_type": "code",
   "execution_count": 4,
   "id": "1f0bd70a-438c-4e66-b953-6d7dde3e6b29",
   "metadata": {},
   "outputs": [],
   "source": [
    "compiled_instance = jmt.core.compile_model(problem, {\"d\": distance})"
   ]
  },
  {
   "cell_type": "markdown",
   "id": "b16c9a5b-859d-489c-8f59-aafaf33af4b5",
   "metadata": {},
   "source": [
    "## SA Sampler\n",
    "\n",
    "We can first obtain the solution from the [SA sampler](https://www.documentation.jijzept.com/docs/jijmodelingtranspiler/tutorials/tsp_qubo_transpiler) in `OpenJij`."
   ]
  },
  {
   "cell_type": "code",
   "execution_count": 5,
   "id": "615686df-0943-4ee6-865c-1219b96a5050",
   "metadata": {},
   "outputs": [],
   "source": [
    "# Transpile to QUBO\n",
    "qubo_builder = jmt.core.pubo.transpile_to_pubo(compiled_instance)\n",
    "multipliers = {\"one-time\": 1.0, \"one-city\": 1.0}\n",
    "qubo, offset = qubo_builder.get_qubo_dict(multipliers=multipliers)\n",
    "sampler = oj.SASampler()\n",
    "response = sampler.sample_qubo(qubo)"
   ]
  },
  {
   "cell_type": "code",
   "execution_count": 6,
   "id": "5aa34e4a-cab0-49ea-990f-ada97c428b48",
   "metadata": {},
   "outputs": [
    {
     "name": "stdout",
     "output_type": "stream",
     "text": [
      "Lowest solution index: 0, Lowest objective value: 3.8259091044594586\n"
     ]
    }
   ],
   "source": [
    "decoded = jmt.core.pubo.decode_from_openjij(response, qubo_builder, compiled_instance)\n",
    "feasibles = decoded.feasible()\n",
    "objectives = np.array(feasibles.evaluation.objective)\n",
    "lowest_index = np.argmin(objectives)\n",
    "print(f\"Lowest solution index: {lowest_index}, Lowest objective value: {objectives[lowest_index]}\")"
   ]
  },
  {
   "cell_type": "code",
   "execution_count": 7,
   "id": "a57bd02d-d634-46df-a777-6d1265343a7f",
   "metadata": {},
   "outputs": [
    {
     "name": "stdout",
     "output_type": "stream",
     "text": [
      "indices:  ([0, 1, 2, 3, 4, 5, 6, 7, 8, 9], [0, 7, 8, 9, 6, 1, 5, 4, 3, 2])\n",
      "values:  [1.0, 1.0, 1.0, 1.0, 1.0, 1.0, 1.0, 1.0, 1.0, 1.0]\n"
     ]
    }
   ],
   "source": [
    "# check solution\n",
    "nonzero_indices, nonzero_values, shape = feasibles.record.solution[\"x\"][lowest_index]\n",
    "print(\"indices: \", nonzero_indices)\n",
    "print(\"values: \", nonzero_values)"
   ]
  },
  {
   "cell_type": "markdown",
   "id": "5af35264-7837-4ae7-8b61-1f75d2d17116",
   "metadata": {},
   "source": [
    "## Local Search Algorithm\n",
    "Now, we solve the same problem using a Local Search Algorithm."
   ]
  },
  {
   "cell_type": "code",
   "execution_count": 8,
   "id": "05e48d0d-03de-41b2-8730-1d352bb698b6",
   "metadata": {},
   "outputs": [],
   "source": [
    "from qamomile.core.post_process.local_search import *\n",
    "from qamomile.core.converters.converter import QuantumConverter\n",
    "from qamomile.core.transpiler import QuantumSDKTranspiler as transpiler\n",
    "\n",
    "ising= IsingConverter(compiled_instance)\n",
    "#ising=qubo_to_ising(qubo_builder.objective.coeff ,qubo_builder.objective.constant)"
   ]
  },
  {
   "cell_type": "markdown",
   "id": "c225bd1d-d615-4163-b9d2-3fbe452a40ab",
   "metadata": {},
   "source": [
    "Create the initial state."
   ]
  },
  {
   "cell_type": "code",
   "execution_count": 9,
   "id": "dcc15a93-9ce1-4b3d-80b3-121cad1be2c3",
   "metadata": {},
   "outputs": [],
   "source": [
    "size = max(max(i, j) for i, j in ising.ising_encode().quad.keys()) + 1\n",
    "initial_state = np.random.choice([-1, 1], size=size)"
   ]
  },
  {
   "cell_type": "markdown",
   "id": "9a37462c-a6ef-4090-9e43-be31ea6b014e",
   "metadata": {},
   "source": [
    "Run the Local Search Algorithm with the first-improvement strategy this time. Of course, one can always choose between first-improvement and best-improvement strategies."
   ]
  },
  {
   "cell_type": "code",
   "execution_count": 10,
   "id": "f2af4ab6-e6ca-416d-9840-05b7c4e49507",
   "metadata": {},
   "outputs": [],
   "source": [
    "result=run(first_improvement,ising.ising_encode(), initial_state)"
   ]
  },
  {
   "cell_type": "markdown",
   "id": "12b418e5-a56d-43aa-9986-e98e7d2e6b45",
   "metadata": {},
   "source": [
    "Decode the final state to a SampleSet."
   ]
  },
  {
   "cell_type": "code",
   "execution_count": 11,
   "id": "43d37f58-2e36-4918-8df1-972dd677a79c",
   "metadata": {},
   "outputs": [
    {
     "name": "stdout",
     "output_type": "stream",
     "text": [
      "SampleSet(data=[Sample(run_id=\"63dd77e8-d72e-4029-9e9b-2ad60ea4938b\", num_occurrences=1, run_info={}, var_values={\"x\": SparseVarValues(name=\"x\", values={(0, 6): 1, (1, 4): 1, (2, 5): 1, (3, 7): 1, (4, 8): 1, (5, 1): 1, (6, 9): 1, (7, 2): 1, (8, 3): 1, (9, 0): 1}, shape=(10, 10), var_type=VarType.CONTINUOUS)}, eval=EvaluationResult(objective=4.71773706866252, constraints={\"one-city\": Violation(name=\"one-city\", total_violation=0, ... ), \"one-time\": Violation(name=\"one-time\", total_violation=0, ... )}, penalties={}))], set_id=\"ab9431f3-fd48-449e-9c1f-1a1033bbcab2\", set_info={}, run_info={}, measuring_time=MeasuringTime(solving_time=SolvingTime(compiling_time=0, transpiling_time=0, preprocess_time=0, solving_time=0, decoding_time=0, postprocess_time=0), system_time=SystemTime(posting_time=None, request_queuing_time=None, fetching_problem_time=None, fetching_result_time=None, deserialize_time=None)), run_times={})\n"
     ]
    }
   ],
   "source": [
    "from qamomile.core.bitssample import BitsSample, BitsSampleSet\n",
    "sample = BitsSample(1,np.where(result == -1, 0, 1).tolist())\n",
    "sample_set = BitsSampleSet(bitarrays=[sample])\n",
    "decoded_sampleset=ising.decode_bits_to_sampleset(sample_set)\n",
    "print(decoded_sampleset) #data[0].var_values['x'].values"
   ]
  },
  {
   "cell_type": "markdown",
   "id": "7def66cb-bbef-4d17-b0b9-c999ef571aa6",
   "metadata": {},
   "source": [
    "## Compare the result\n"
   ]
  },
  {
   "cell_type": "code",
   "execution_count": 12,
   "id": "0ebe59fc-586c-48c7-9d69-37094ceced3a",
   "metadata": {},
   "outputs": [
    {
     "name": "stdout",
     "output_type": "stream",
     "text": [
      "Tour is [0 5 9 8 7 6 4 1 2 3 0] from SA sampler\n"
     ]
    }
   ],
   "source": [
    "def convert_to_tour(nonzero_indices, num_city):\n",
    "    tour = np.zeros(num_city, dtype=int)\n",
    "    i_value, t_value = nonzero_indices\n",
    "    tour[t_value] = i_value\n",
    "    tour = np.append(tour, [tour[0]])\n",
    "    return tour\n",
    "\n",
    "tour = convert_to_tour(nonzero_indices, num_city)\n",
    "print(f\"Tour is {tour} from SA sampler\")"
   ]
  },
  {
   "cell_type": "code",
   "execution_count": 13,
   "id": "38d57d77-b2fe-40c4-b5ce-50d5bad92b7c",
   "metadata": {},
   "outputs": [
    {
     "name": "stdout",
     "output_type": "stream",
     "text": [
      "Cities: [0, 1, 2, 3, 4, 5, 6, 7, 8, 9]\n",
      "Time order: [6, 4, 5, 7, 8, 1, 9, 2, 3, 0]\n",
      "Tour is [9 5 7 8 1 2 0 3 4 6 9] from Local Search\n"
     ]
    }
   ],
   "source": [
    "cities = sorted({k[0] for k in decoded_sampleset.data[0].var_values['x'].values.keys()}.union({k[1] for k in decoded_sampleset.data[0].var_values['x'].values.keys()}))\n",
    "\n",
    "time = [-1] * len(cities)\n",
    "\n",
    "# Fill in the mappings\n",
    "for (src, dest), value in decoded_sampleset.data[0].var_values['x'].values.items():\n",
    "    time[src] = dest\n",
    "\n",
    "tour2 = convert_to_tour((cities,time), num_city)\n",
    "print(\"Cities:\", cities)\n",
    "print(\"Time order:\", time)\n",
    "print(f\"Tour is {tour2} from Local Search\")"
   ]
  },
  {
   "cell_type": "code",
   "execution_count": 14,
   "id": "eae2caf8-66c3-4a7a-86c5-9205f6a64f7d",
   "metadata": {},
   "outputs": [
    {
     "data": {
      "image/png": "[encoded data removed]",
      "text/plain": [
       "<Figure size 640x480 with 1 Axes>"
      ]
     },
     "metadata": {},
     "output_type": "display_data"
    }
   ],
   "source": [
    "plt.scatter(pos_x, pos_y)\n",
    "plt.plot(pos_x[tour], pos_y[tour], \"-\", color=\"blue\", label=\"SA\")\n",
    "plt.plot(pos_x[tour2], pos_y[tour2], \"-\", color=\"red\", label=\"LS\")\n",
    "\n",
    "plt.legend()\n",
    "plt.show()"
   ]
  },
  {
   "cell_type": "markdown",
   "id": "6cc4f0c7-1e1b-43c2-b075-39f2f9ea2272",
   "metadata": {},
   "source": [
    "Let's see the difference in terms of energy and total distance.\n"
   ]
  },
  {
   "cell_type": "code",
   "execution_count": 33,
   "id": "fbfce252-c691-493e-a763-4b831a726972",
   "metadata": {},
   "outputs": [
    {
     "name": "stdout",
     "output_type": "stream",
     "text": [
      "Energy calculated by LS is 1712.992659276624\n",
      "Total distance calculated by LS is 4.71773706866252\n"
     ]
    }
   ],
   "source": [
    "#calc_qubo_energy(qubo_builder.objective.coeff, response.record['sample'][0].tolist())\n",
    "#calc_qubo_energy(qubo_builder.objective.coeff, np.where(sampleset == -1, 0, 1).tolist())\n",
    "print(f\"Energy calculated by LS is {ising.ising_encode().calc_energy(result.tolist())}\")\n",
    "print(f\"Total distance calculated by LS is {sum(distance[tour2[i], tour2[i + 1]] for i in range(len(tour2) - 1))}\")"
   ]
  },
  {
   "cell_type": "code",
   "execution_count": 34,
   "id": "f6bda71d-7342-4a22-a6eb-5577986ecf91",
   "metadata": {},
   "outputs": [
    {
     "name": "stdout",
     "output_type": "stream",
     "text": [
      "energy calculated by SA is 1712.1008313124214\n",
      "Total distance calculated by SA is 3.825909104459459\n"
     ]
    }
   ],
   "source": [
    "qubo_list = response.record['sample'][0]\n",
    "spin_list = [2 * b - 1 for b in qubo_list]\n",
    "print(f\"energy calculated by SA is {ising.ising_encode().calc_energy(spin_list)}\")\n",
    "print(f\"Total distance calculated by SA is {sum(distance[tour[i], tour[i + 1]] for i in range(len(tour) - 1))}\")"
   ]
  },
  {
   "cell_type": "code",
   "execution_count": null,
   "id": "dfa23ec9-124e-4c35-abbd-6e6b7d4e0265",
   "metadata": {},
   "outputs": [],
   "source": []
  }
 ],
 "metadata": {
  "kernelspec": {
   "display_name": "Python 3 (ipykernel)",
   "language": "python",
   "name": "python3"
  },
  "language_info": {
   "codemirror_mode": {
    "name": "ipython",
    "version": 3
   },
   "file_extension": ".py",
   "mimetype": "text/x-python",
   "name": "python",
   "nbconvert_exporter": "python",
   "pygments_lexer": "ipython3",
   "version": "3.11.8"
  }
 },
 "nbformat": 4,
 "nbformat_minor": 5
}
