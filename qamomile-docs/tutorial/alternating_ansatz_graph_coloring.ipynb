{
 "cells": [
  {
   "cell_type": "markdown",
   "metadata": {},
   "source": [
    "# Quantum Alternating Operator Ansatz for Graph Coloring Problem with Qiskit\n",
    "In this tutorial, we would like to explain the functionality while solving the Graph Coloring Problem using the Quantum Approximate Optimization Algorithm and the Quantum Alternating Operator Ansatz. This time, we are going to conduct simulations using qiskit."
   ]
  },
  {
   "cell_type": "code",
   "execution_count": 6,
   "metadata": {},
   "outputs": [],
   "source": [
    "import networkx as nx\n",
    "import jijmodeling as jm\n",
    "import jijmodeling_transpiler.core as jmt\n",
    "import qamomile.core as qm"
   ]
  },
  {
   "cell_type": "markdown",
   "metadata": {},
   "source": [
    "First, we will implement the mathematical model of the graph coloring problem using JijModeling."
   ]
  },
  {
   "cell_type": "code",
   "execution_count": 2,
   "metadata": {},
   "outputs": [
    {
     "data": {
      "text/latex": [
       "$$\\begin{array}{cccc}\\text{Problem:} & \\text{Graph Coloring} & & \\\\& & \\min \\quad \\displaystyle \\sum_{i = 0}^{N - 1} \\sum_{e \\in E} x_{e_{0}, i} \\cdot x_{e_{1}, i} & \\\\\\text{{s.t.}} & & & \\\\ & \\text{one-color} & \\displaystyle \\sum_{\\ast_{1} = 0}^{N - 1} x_{v, \\ast_{1}} = 1 & \\forall v \\in \\left\\{0,\\ldots,V - 1\\right\\} \\\\\\text{{where}} & & & \\\\& x & 2\\text{-dim binary variable}\\\\\\end{array}$$"
      ],
      "text/plain": [
       "<jijmodeling.Problem at 0x1366c8980>"
      ]
     },
     "execution_count": 2,
     "metadata": {},
     "output_type": "execute_result"
    }
   ],
   "source": [
    "def graph_coloring_problem() -> jm.Problem:\n",
    "    # define variables\n",
    "    V = jm.Placeholder(\"V\")\n",
    "    E = jm.Placeholder(\"E\", ndim=2)\n",
    "    N = jm.Placeholder(\"N\")\n",
    "    x = jm.BinaryVar(\"x\", shape=(V, N))\n",
    "    n = jm.Element(\"i\", belong_to=(0, N))\n",
    "    v = jm.Element(\"v\", belong_to=(0, V))\n",
    "    e = jm.Element(\"e\", belong_to=E)\n",
    "    # set problem\n",
    "    problem = jm.Problem(\"Graph Coloring\")\n",
    "    # set one-hot constraint that each vertex has only one color\n",
    "\n",
    "    problem += jm.Constraint(\"one-color\", x[v, :].sum() == 1, forall=v)\n",
    "    # set objective function: minimize edges whose vertices connected by edges are the same color\n",
    "    problem += jm.sum([n, e], x[e[0], n] * x[e[1], n])\n",
    "    return problem\n",
    "\n",
    "problem = graph_coloring_problem()\n",
    "problem"
   ]
  },
  {
   "cell_type": "markdown",
   "metadata": {},
   "source": [
    "Next, we will create an instance of the problem."
   ]
  },
  {
   "cell_type": "code",
   "execution_count": 4,
   "metadata": {},
   "outputs": [
    {
     "data": {
      "image/png": "[encoded data removed]",
      "text/plain": [
       "<Figure size 640x480 with 1 Axes>"
      ]
     },
     "metadata": {},
     "output_type": "display_data"
    }
   ],
   "source": [
    "G = nx.Graph()\n",
    "G.add_nodes_from([0, 1, 2, 3, 4])\n",
    "G.add_edges_from([(0, 1), (1, 2), (1, 3), (2, 3), (3, 4), (2, 4)])\n",
    "nx.draw(G)"
   ]
  },
  {
   "cell_type": "code",
   "execution_count": 5,
   "metadata": {},
   "outputs": [],
   "source": [
    "inst_E = [list(edge) for edge in G.edges]\n",
    "color_num = 3\n",
    "num_nodes = G.number_of_nodes()\n",
    "instance_data = {\"V\": num_nodes, \"N\": color_num, \"E\": inst_E}\n",
    "num_qubits = num_nodes * color_num"
   ]
  },
  {
   "cell_type": "markdown",
   "metadata": {},
   "source": [
    "# Quantum Approximate Optimazation Algorithm (QAOA)\n",
    "The Quantum Approximate Optimization Algorithm (QAOA) is one of the quantum optimization algorithms that use a variational quantum circuit. For a detailed explanation, please refer to paper [1], but here we will only give a rough overview.\n",
    "In QAOA, a variational quantum circuit is constructed by applying the Ising Hamiltonian $H_P = \\sum_{ij}J_{ij}Z_iZ_j$ and the $X$-mixer Hamiltonian $H_M = \\sum_iX_i$ in the following way:\n",
    "If we start with an initial state $\\ket{\\psi_0}$, then\n",
    "$$\\ket{\\psi(\\beta,\\gamma)} = e^{-\\beta_pH_M}e^{-\\gamma_pH_P}\\cdots e^{-\\beta_1H_M}e^{-\\gamma_1H_P}\\ket{\\psi_0}$$\n",
    "can be written. Here, $\\beta_k,\\gamma_k$ are the parameters to be optimized, and since the operation $e^{-\\beta_kH_M}e^{-\\gamma_kH_P}$ is repeated $p$ times, there are a total of $2p$ parameters. In the standard QAOA, the total number of parameters is independent of the number of qubits and depends only on the number of repetitions.\n",
    "\n",
    "Optimization of $\\beta_k,\\gamma_k$ is performed by repeating the following steps 1 and 2:\n",
    "\n",
    "1. Compute the expectation value $\\bra{\\psi(\\beta,\\gamma)}H_P\\ket{\\psi(\\beta,\\gamma)}$ on a quantum device.\n",
    "2. Update the parameters on a classical computer to minimize the expectation value.\n",
    "\n",
    "By repeating this calculation of the expectation value on the quantum computer and optimization of parameters on the classical computer, we obtain the minimum energy $\\langle H_P \\rangle$ and the corresponding final state. If we consider QAOA as a mathematical optimization algorithm, this minimum energy corresponds to the minimum objective function value, and the final state becomes the optimal solution."
   ]
  },
  {
   "cell_type": "markdown",
   "metadata": {},
   "source": [
    "## Implementing QAOA using Qamomile\n",
    "Now, let's try solving the Graph Coloring Problem using QAOA.\n",
    "To execute QAOA, it's necessary to convert the mathematical model into an Ising Hamiltonian, and then create a variational quantum circuit and Hamiltonian using a quantum computing library. However, since Qamomile supports QAOA, it allows for relatively easy execution.\n",
    "\n",
    "First, using JijModeling-Transpiler, we create a CompiledInstance from JijModeling's mathematical model and instance data."
   ]
  },
  {
   "cell_type": "code",
   "execution_count": 7,
   "metadata": {},
   "outputs": [],
   "source": [
    "compiled_instance = jmt.compile_model(problem, instance_data)"
   ]
  },
  {
   "cell_type": "markdown",
   "metadata": {},
   "source": [
    "Next, we create a QAOAConverter. By setting the weight for the constraints on this Converter, we can create the Hamiltonian."
   ]
  },
  {
   "cell_type": "code",
   "execution_count": 8,
   "metadata": {},
   "outputs": [],
   "source": [
    "qaoa_converter = qm.qaoa.QAOAConverter(compiled_instance)\n",
    "qaoa_converter.ising_encode(multipliers={\"one-color\": 1})\n",
    "qaoa_circuit = qaoa_converter.get_qaoa_ansatz(p=1)\n",
    "qaoa_cost = qaoa_converter.get_cost_hamiltonian()"
   ]
  },
  {
   "cell_type": "code",
   "execution_count": null,
   "metadata": {},
   "outputs": [],
   "source": [
    "# ..."
   ]
  },
  {
   "cell_type": "markdown",
   "metadata": {},
   "source": [
    "# Quantum Alternating Operator Ansatz\n",
    "Next, let's try solving the graph coloring problem using the Quantum Alternating Operator Ansatz. The Quantum Alternating Operator Ansatz[2] is a modification of QAOA, where the mixer is changed from an $X$-mixer to a mixer tailored to the problem, ensuring that only solutions satisfying the constraints are searched for. For more detailed information, please refer to the original paper. Here, we will look at how to implement it in JTQ.\n",
    "\n",
    "For the Graph Coloring problem, there is a one-hot constraint:\n",
    "$$\n",
    "\\sum_k x_{v,k} = 1\\quad \\forall v\n",
    "$$\n",
    "However, turning this into an $XY$-mixer is the Quantum Alternating Operator Ansatz approach to the Graph Coloring problem."
   ]
  },
  {
   "cell_type": "code",
   "execution_count": 9,
   "metadata": {},
   "outputs": [],
   "source": [
    "beta = qm.circuit.Parameter(\"beta\")\n",
    "qaoa_cost_circuit = qaoa_converter.get_cost_ansatz(beta)"
   ]
  },
  {
   "cell_type": "markdown",
   "metadata": {},
   "source": [
    "Next, we will create an $XY$-mixer. The $XY$-mixer can be written as\n",
    "$$\n",
    "XY_{ij} = \\frac{1}{2}\\left(X_iX_j + Y_iY_j \\right).\n",
    "$$\n",
    "This is an operator that swaps the bits 1 and 0 in bit $i,j$. Therefore, it can transform a bit string $100$, which satisfies the one-hot constraint, into another bit string $010$, which also satisfies the one-hot constraint.\n",
    "\n",
    "Here, the only part under the one-hot constraint is related to color, so in terms of the mathematical model, we need to transform the bits between $x_{v0}$ and $x_{v1}$.\n",
    "On the other hand, as these variables are usually embedded in qubits, it is necessary to remember which bit corresponds to which variable when constructing the algorithm and handle them appropriately.\n",
    "In JTQ, the correspondence of variables is contained in var_map inside CompiledInstance.\n",
    "```python\n",
    "var_map['variable_name'][indices]\n",
    "```\n",
    "You can check which qubit corresponds to a variable in the mathematical model in this way.\n",
    "Let's use this to create an $XY$-mixer.\n",
    "\n",
    "What we want here is the transformation between $x_{v,k}$ and $x_{v,k+1}$, so we can obtain the index of the corresponding qubit by accessing compiled_instance.var_map.var_map[\"x\"][(i,k)].\""
   ]
  },
  {
   "cell_type": "code",
   "execution_count": 10,
   "metadata": {},
   "outputs": [],
   "source": [
    "def create_xy_mixer(\n",
    "    beta: qm.circuit.Parameter,\n",
    "    num_nodes: int,\n",
    "    num_color: int,\n",
    "    compiled_instance: jmt.CompiledInstance,\n",
    "):\n",
    "    n = num_color * num_nodes\n",
    "    qc = qm.circuit.QuantumCircuit(n)\n",
    "    var_map = compiled_instance.var_map.var_map[\"x\"]\n",
    "    # even\n",
    "    for i in range(num_nodes):\n",
    "        for k in range(0, num_color - 1, 2):\n",
    "            qc.rxx(beta, var_map[(i, k)], var_map[(i, k + 1)])\n",
    "            qc.ryy(beta, var_map[(i, k)], var_map[(i, k + 1)])\n",
    "\n",
    "    # odd\n",
    "    for i in range(num_nodes):\n",
    "        for k in range(1, num_color - 1, 2):\n",
    "            qc.rxx(beta, var_map[(i, k)], var_map[(i, k + 1)])\n",
    "            qc.ryy(beta, var_map[(i, k)], var_map[(i, k + 1)])\n",
    "\n",
    "    # ini-last\n",
    "    if num_color % 2 == 1:\n",
    "        for i in range(num_nodes):\n",
    "            qc.rxx(beta, var_map[(i, 0)], var_map[(i, num_color - 1)])\n",
    "            qc.ryy(beta, var_map[(i, 0)], var_map[(i, num_color - 1)])\n",
    "    return qc"
   ]
  },
  {
   "cell_type": "code",
   "execution_count": null,
   "metadata": {},
   "outputs": [],
   "source": []
  }
 ],
 "metadata": {
  "kernelspec": {
   "display_name": "qamomile-s0Pfpxir-py3.10",
   "language": "python",
   "name": "python3"
  },
  "language_info": {
   "codemirror_mode": {
    "name": "ipython",
    "version": 3
   },
   "file_extension": ".py",
   "mimetype": "text/x-python",
   "name": "python",
   "nbconvert_exporter": "python",
   "pygments_lexer": "ipython3",
   "version": "3.10.13"
  }
 },
 "nbformat": 4,
 "nbformat_minor": 2
}
